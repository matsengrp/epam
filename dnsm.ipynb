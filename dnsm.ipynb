{
 "cells": [
  {
   "cell_type": "code",
   "execution_count": 1,
   "metadata": {},
   "outputs": [],
   "source": [
    "import pandas as pd\n",
    "\n",
    "from epam.dnsm import train_model\n"
   ]
  },
  {
   "cell_type": "code",
   "execution_count": 2,
   "metadata": {},
   "outputs": [],
   "source": [
    "pcp_df = pd.read_csv(\"~/data/wyatt-10x-1p5m_pcp_2023-10-07.first100.csv\")"
   ]
  },
  {
   "cell_type": "code",
   "execution_count": 3,
   "metadata": {},
   "outputs": [
    {
     "name": "stdout",
     "output_type": "stream",
     "text": [
      "preparing data...\n"
     ]
    },
    {
     "ename": "AssertionError",
     "evalue": "embed_dim must be divisible by num_heads",
     "output_type": "error",
     "traceback": [
      "\u001b[0;31m---------------------------------------------------------------------------\u001b[0m",
      "\u001b[0;31mAssertionError\u001b[0m                            Traceback (most recent call last)",
      "\u001b[1;32m/Users/matsen/re/epam/dnsm.ipynb Cell 3\u001b[0m line \u001b[0;36m4\n\u001b[1;32m      <a href='vscode-notebook-cell:/Users/matsen/re/epam/dnsm.ipynb#W6sZmlsZQ%3D%3D?line=1'>2</a>\u001b[0m dim_feedforward \u001b[39m=\u001b[39m \u001b[39m256\u001b[39m\n\u001b[1;32m      <a href='vscode-notebook-cell:/Users/matsen/re/epam/dnsm.ipynb#W6sZmlsZQ%3D%3D?line=2'>3</a>\u001b[0m layer_count \u001b[39m=\u001b[39m \u001b[39m2\u001b[39m\n\u001b[0;32m----> <a href='vscode-notebook-cell:/Users/matsen/re/epam/dnsm.ipynb#W6sZmlsZQ%3D%3D?line=3'>4</a>\u001b[0m model \u001b[39m=\u001b[39m train_model(pcp_df, nhead\u001b[39m=\u001b[39;49mnhead, dim_feedforward\u001b[39m=\u001b[39;49mdim_feedforward, layer_count\u001b[39m=\u001b[39;49mlayer_count, batch_size\u001b[39m=\u001b[39;49m\u001b[39m32\u001b[39;49m, num_epochs\u001b[39m=\u001b[39;49m\u001b[39m10\u001b[39;49m, learning_rate\u001b[39m=\u001b[39;49m\u001b[39m0.001\u001b[39;49m, checkpoint_dir\u001b[39m=\u001b[39;49m\u001b[39m\"\u001b[39;49m\u001b[39m./_checkpoints\u001b[39;49m\u001b[39m\"\u001b[39;49m, log_dir\u001b[39m=\u001b[39;49m\u001b[39m\"\u001b[39;49m\u001b[39m./_logs\u001b[39;49m\u001b[39m\"\u001b[39;49m)\n",
      "File \u001b[0;32m~/re/epam/epam/dnsm.py:181\u001b[0m, in \u001b[0;36mtrain_model\u001b[0;34m(pcp_df, nhead, dim_feedforward, layer_count, batch_size, num_epochs, learning_rate, checkpoint_dir, log_dir)\u001b[0m\n\u001b[1;32m    178\u001b[0m train_loader \u001b[39m=\u001b[39m DataLoader(train_set, batch_size\u001b[39m=\u001b[39mbatch_size, shuffle\u001b[39m=\u001b[39m\u001b[39mTrue\u001b[39;00m)\n\u001b[1;32m    179\u001b[0m val_loader \u001b[39m=\u001b[39m DataLoader(val_set, batch_size\u001b[39m=\u001b[39mbatch_size, shuffle\u001b[39m=\u001b[39m\u001b[39mFalse\u001b[39;00m)\n\u001b[0;32m--> 181\u001b[0m model \u001b[39m=\u001b[39m TransformerBinarySelectionModel(\n\u001b[1;32m    182\u001b[0m     nhead\u001b[39m=\u001b[39;49mnhead, dim_feedforward\u001b[39m=\u001b[39;49mdim_feedforward, layer_count\u001b[39m=\u001b[39;49mlayer_count\n\u001b[1;32m    183\u001b[0m )\n\u001b[1;32m    185\u001b[0m criterion \u001b[39m=\u001b[39m nn\u001b[39m.\u001b[39mBCELoss()\n\u001b[1;32m    186\u001b[0m optimizer \u001b[39m=\u001b[39m optim\u001b[39m.\u001b[39mAdam(model\u001b[39m.\u001b[39mparameters(), lr\u001b[39m=\u001b[39mlearning_rate)\n",
      "File \u001b[0;32m~/re/epam/epam/dnsm.py:97\u001b[0m, in \u001b[0;36mTransformerBinarySelectionModel.__init__\u001b[0;34m(self, nhead, dim_feedforward, layer_count, d_model, dropout)\u001b[0m\n\u001b[1;32m     95\u001b[0m \u001b[39mself\u001b[39m\u001b[39m.\u001b[39md_model \u001b[39m=\u001b[39m d_model\n\u001b[1;32m     96\u001b[0m \u001b[39mself\u001b[39m\u001b[39m.\u001b[39mpos_encoder \u001b[39m=\u001b[39m PositionalEncoding(\u001b[39mself\u001b[39m\u001b[39m.\u001b[39md_model, dropout)\n\u001b[0;32m---> 97\u001b[0m \u001b[39mself\u001b[39m\u001b[39m.\u001b[39mencoder_layer \u001b[39m=\u001b[39m nn\u001b[39m.\u001b[39;49mTransformerEncoderLayer(\n\u001b[1;32m     98\u001b[0m     d_model\u001b[39m=\u001b[39;49m\u001b[39mself\u001b[39;49m\u001b[39m.\u001b[39;49md_model, nhead\u001b[39m=\u001b[39;49mnhead, dim_feedforward\u001b[39m=\u001b[39;49mdim_feedforward, batch_first\u001b[39m=\u001b[39;49m\u001b[39mTrue\u001b[39;49;00m\n\u001b[1;32m     99\u001b[0m )\n\u001b[1;32m    100\u001b[0m \u001b[39mself\u001b[39m\u001b[39m.\u001b[39mencoder \u001b[39m=\u001b[39m nn\u001b[39m.\u001b[39mTransformerEncoder(\u001b[39mself\u001b[39m\u001b[39m.\u001b[39mencoder_layer, layer_count)\n\u001b[1;32m    101\u001b[0m \u001b[39mself\u001b[39m\u001b[39m.\u001b[39mlinear \u001b[39m=\u001b[39m nn\u001b[39m.\u001b[39mLinear(\u001b[39mself\u001b[39m\u001b[39m.\u001b[39md_model, \u001b[39m1\u001b[39m) \n",
      "File \u001b[0;32m~/mambaforge/envs/epam/lib/python3.9/site-packages/torch/nn/modules/transformer.py:445\u001b[0m, in \u001b[0;36mTransformerEncoderLayer.__init__\u001b[0;34m(self, d_model, nhead, dim_feedforward, dropout, activation, layer_norm_eps, batch_first, norm_first, device, dtype)\u001b[0m\n\u001b[1;32m    443\u001b[0m factory_kwargs \u001b[39m=\u001b[39m {\u001b[39m'\u001b[39m\u001b[39mdevice\u001b[39m\u001b[39m'\u001b[39m: device, \u001b[39m'\u001b[39m\u001b[39mdtype\u001b[39m\u001b[39m'\u001b[39m: dtype}\n\u001b[1;32m    444\u001b[0m \u001b[39msuper\u001b[39m()\u001b[39m.\u001b[39m\u001b[39m__init__\u001b[39m()\n\u001b[0;32m--> 445\u001b[0m \u001b[39mself\u001b[39m\u001b[39m.\u001b[39mself_attn \u001b[39m=\u001b[39m MultiheadAttention(d_model, nhead, dropout\u001b[39m=\u001b[39;49mdropout, batch_first\u001b[39m=\u001b[39;49mbatch_first,\n\u001b[1;32m    446\u001b[0m                                     \u001b[39m*\u001b[39;49m\u001b[39m*\u001b[39;49mfactory_kwargs)\n\u001b[1;32m    447\u001b[0m \u001b[39m# Implementation of Feedforward model\u001b[39;00m\n\u001b[1;32m    448\u001b[0m \u001b[39mself\u001b[39m\u001b[39m.\u001b[39mlinear1 \u001b[39m=\u001b[39m Linear(d_model, dim_feedforward, \u001b[39m*\u001b[39m\u001b[39m*\u001b[39mfactory_kwargs)\n",
      "File \u001b[0;32m~/mambaforge/envs/epam/lib/python3.9/site-packages/torch/nn/modules/activation.py:969\u001b[0m, in \u001b[0;36mMultiheadAttention.__init__\u001b[0;34m(self, embed_dim, num_heads, dropout, bias, add_bias_kv, add_zero_attn, kdim, vdim, batch_first, device, dtype)\u001b[0m\n\u001b[1;32m    967\u001b[0m \u001b[39mself\u001b[39m\u001b[39m.\u001b[39mbatch_first \u001b[39m=\u001b[39m batch_first\n\u001b[1;32m    968\u001b[0m \u001b[39mself\u001b[39m\u001b[39m.\u001b[39mhead_dim \u001b[39m=\u001b[39m embed_dim \u001b[39m/\u001b[39m\u001b[39m/\u001b[39m num_heads\n\u001b[0;32m--> 969\u001b[0m \u001b[39massert\u001b[39;00m \u001b[39mself\u001b[39m\u001b[39m.\u001b[39mhead_dim \u001b[39m*\u001b[39m num_heads \u001b[39m==\u001b[39m \u001b[39mself\u001b[39m\u001b[39m.\u001b[39membed_dim, \u001b[39m\"\u001b[39m\u001b[39membed_dim must be divisible by num_heads\u001b[39m\u001b[39m\"\u001b[39m\n\u001b[1;32m    971\u001b[0m \u001b[39mif\u001b[39;00m \u001b[39mnot\u001b[39;00m \u001b[39mself\u001b[39m\u001b[39m.\u001b[39m_qkv_same_embed_dim:\n\u001b[1;32m    972\u001b[0m     \u001b[39mself\u001b[39m\u001b[39m.\u001b[39mq_proj_weight \u001b[39m=\u001b[39m Parameter(torch\u001b[39m.\u001b[39mempty((embed_dim, embed_dim), \u001b[39m*\u001b[39m\u001b[39m*\u001b[39mfactory_kwargs))\n",
      "\u001b[0;31mAssertionError\u001b[0m: embed_dim must be divisible by num_heads"
     ]
    }
   ],
   "source": [
    "nhead = 2\n",
    "dim_feedforward = 16\n",
    "layer_count = 2\n",
    "model = train_model(pcp_df, nhead=nhead, dim_feedforward=dim_feedforward, layer_count=layer_count, batch_size=32, num_epochs=10, learning_rate=0.001, checkpoint_dir=\"./_checkpoints\", log_dir=\"./_logs\")"
   ]
  },
  {
   "cell_type": "code",
   "execution_count": null,
   "metadata": {},
   "outputs": [],
   "source": [
    "import torch\n",
    "import torch.nn as nn\n",
    "import torch.optim as optim\n",
    "import torch.nn.functional as F\n",
    "import numpy as np\n"
   ]
  },
  {
   "cell_type": "code",
   "execution_count": null,
   "metadata": {},
   "outputs": [],
   "source": [
    "# Initialize random seed for reproducibility\n",
    "torch.manual_seed(0)\n",
    "\n",
    "# Hyperparameters and Data Preparation\n",
    "n_sequences = 10000  # Number of sequences\n",
    "sequence_length = 20  # Length of each sequence\n",
    "n_aa = 20  # Number of amino acids\n",
    "\n",
    "# Define polar amino acids by their indices in AA_STR_SORTED = \"ACDEFGHIKLMNPQRSTVWY\"\n",
    "polar_aa_indices = [10, 7, 3, 11, 4, 8, 9, 15, 16, 19]\n",
    "\n",
    "# Randomly generate parent sequences\n",
    "parent_sequences = torch.randint(0, n_aa, (n_sequences, sequence_length))\n",
    "\n",
    "# Create mutation masks based on polar amino acids\n",
    "mutation_masks = torch.zeros((n_sequences, sequence_length))\n",
    "\n",
    "for i in range(1, sequence_length - 1):\n",
    "    is_prev_polar = torch.any(torch.eq(parent_sequences[:, i - 1].unsqueeze(1), torch.tensor(polar_aa_indices)), dim=1)\n",
    "    is_next_polar = torch.any(torch.eq(parent_sequences[:, i + 1].unsqueeze(1), torch.tensor(polar_aa_indices)), dim=1)\n",
    "    mutation_masks[:, i] = is_prev_polar | is_next_polar\n",
    "\n",
    "# One-hot encode parent sequences\n",
    "parent_sequences = F.one_hot(parent_sequences, num_classes=n_aa).float()\n",
    "\n",
    "# Convert to float and add some noise\n",
    "mutation_masks = mutation_masks.float()\n",
    "mutation_masks += torch.randn_like(mutation_masks) * 0.1  # adding noise\n",
    "\n",
    "# Clip to [0, 1] range\n",
    "mutation_masks = torch.clamp(mutation_masks, 0, 1)\n"
   ]
  },
  {
   "cell_type": "code",
   "execution_count": null,
   "metadata": {},
   "outputs": [
    {
     "name": "stdout",
     "output_type": "stream",
     "text": [
      "Epoch [1/20], Loss: 0.6957\n",
      "Epoch [2/20], Loss: 0.7479\n",
      "Epoch [3/20], Loss: 0.7149\n",
      "Epoch [4/20], Loss: 0.6598\n",
      "Epoch [5/20], Loss: 0.6418\n",
      "Epoch [6/20], Loss: 0.6568\n",
      "Epoch [7/20], Loss: 0.6620\n",
      "Epoch [8/20], Loss: 0.6543\n",
      "Epoch [9/20], Loss: 0.6452\n",
      "Epoch [10/20], Loss: 0.6410\n"
     ]
    }
   ],
   "source": [
    "\n",
    "\n",
    "# Transformer Model\n",
    "class MutationPredictor(nn.Module):\n",
    "    def __init__(self, d_model, nhead, num_layers):\n",
    "        super(MutationPredictor, self).__init__()\n",
    "        self.encoder_layer = nn.TransformerEncoderLayer(d_model, nhead)\n",
    "        self.encoder = nn.TransformerEncoder(self.encoder_layer, num_layers)\n",
    "        self.linear = nn.Linear(d_model, 1)  # Linear layer to output probabilities\n",
    "\n",
    "    def forward(self, src):\n",
    "        out = self.encoder(src.transpose(0, 1))\n",
    "        out = self.linear(out)\n",
    "        return torch.sigmoid(out).transpose(0, 1).squeeze(-1)\n",
    "\n",
    "# Initialize model, optimizer, and loss function\n",
    "d_model = n_aa  # This assumes that your one-hot encoding size matches d_model\n",
    "nhead = 4\n",
    "num_layers = 2\n",
    "model = MutationPredictor(d_model, nhead, num_layers)\n",
    "optimizer = optim.Adam(model.parameters(), lr=0.001)\n",
    "criterion = nn.BCELoss()\n",
    "\n",
    "# Training Loop\n",
    "n_epochs = 20\n",
    "for epoch in range(n_epochs):\n",
    "    optimizer.zero_grad()\n",
    "    output = model(parent_sequences)\n",
    "    loss = criterion(output, mutation_masks)\n",
    "    loss.backward()\n",
    "    optimizer.step()\n",
    "    print(f\"Epoch [{epoch+1}/{n_epochs}], Loss: {loss.item():.4f}\")\n"
   ]
  },
  {
   "cell_type": "code",
   "execution_count": null,
   "metadata": {},
   "outputs": [],
   "source": []
  }
 ],
 "metadata": {
  "kernelspec": {
   "display_name": "epam",
   "language": "python",
   "name": "python3"
  },
  "language_info": {
   "codemirror_mode": {
    "name": "ipython",
    "version": 3
   },
   "file_extension": ".py",
   "mimetype": "text/x-python",
   "name": "python",
   "nbconvert_exporter": "python",
   "pygments_lexer": "ipython3",
   "version": "3.9.18"
  }
 },
 "nbformat": 4,
 "nbformat_minor": 2
}
