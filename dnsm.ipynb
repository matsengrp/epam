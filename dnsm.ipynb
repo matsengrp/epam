{
 "cells": [
  {
   "cell_type": "code",
   "execution_count": 1,
   "metadata": {},
   "outputs": [],
   "source": [
    "import pandas as pd\n",
    "\n",
    "import torch\n",
    "from epam.dnsm import train_model, TransformerBinarySelectionModel\n",
    "from epam.sequences import translate_sequences\n"
   ]
  },
  {
   "cell_type": "code",
   "execution_count": 2,
   "metadata": {},
   "outputs": [],
   "source": [
    "pcp_df = pd.read_csv(\"~/data/wyatt-10x-1p5m_pcp_2023-10-07.csv\")"
   ]
  },
  {
   "cell_type": "code",
   "execution_count": 3,
   "metadata": {},
   "outputs": [],
   "source": [
    "nhead = 4\n",
    "dim_feedforward = 2048\n",
    "layer_count = 3\n",
    "# model = train_model(pcp_df, nhead=nhead, dim_feedforward=dim_feedforward, layer_count=layer_count, batch_size=32, num_epochs=10, learning_rate=0.001, checkpoint_dir=\"./_checkpoints\", log_dir=\"./_logs\")"
   ]
  },
  {
   "cell_type": "code",
   "execution_count": 4,
   "metadata": {},
   "outputs": [
    {
     "name": "stdout",
     "output_type": "stream",
     "text": [
      "Using Metal Performance Shaders\n"
     ]
    },
    {
     "data": {
      "text/plain": [
       "<All keys matched successfully>"
      ]
     },
     "execution_count": 4,
     "metadata": {},
     "output_type": "execute_result"
    }
   ],
   "source": [
    "model = TransformerBinarySelectionModel(\n",
    "    nhead=nhead, dim_feedforward=dim_feedforward, layer_count=layer_count\n",
    ")\n",
    "\n",
    "model.load_state_dict(torch.load(\"./_checkpoints/model_epoch_9.pth\")[\"model_state_dict\"])"
   ]
  },
  {
   "cell_type": "code",
   "execution_count": 5,
   "metadata": {},
   "outputs": [
    {
     "data": {
      "text/plain": [
       "array([0.023111  , 0.02445051, 0.02492264, 0.02321235, 0.02583305,\n",
       "       0.02255295, 0.02380204, 0.02425446, 0.02253114, 0.02318418,\n",
       "       0.02384661, 0.02309757, 0.02311187, 0.02465206, 0.02149563,\n",
       "       0.02293609, 0.02423076, 0.02346496, 0.02379945, 0.02333233,\n",
       "       0.02121226, 0.02562145, 0.02413822, 0.02333023, 0.02250639,\n",
       "       0.02362912, 0.02291543, 0.02376284, 0.02446552, 0.02333317,\n",
       "       0.02365008, 0.02322046, 0.02387234, 0.02210846, 0.02393964,\n",
       "       0.02355381, 0.0255277 , 0.02361007, 0.02246664, 0.02280878,\n",
       "       0.02479593, 0.02237235, 0.02149357, 0.02423572, 0.02381271,\n",
       "       0.02273981, 0.02339267, 0.02318927, 0.02223376, 0.02326695,\n",
       "       0.02432246, 0.02266584, 0.02327654, 0.02298066, 0.02261778,\n",
       "       0.02320118, 0.02415984, 0.0267837 , 0.02552385, 0.02531306,\n",
       "       0.02163774, 0.02361843, 0.02280953, 0.02413983, 0.0233677 ,\n",
       "       0.02372977, 0.02137937, 0.02313062, 0.02485378, 0.02355475,\n",
       "       0.02366747, 0.02317392, 0.02297806, 0.02378938, 0.02352575,\n",
       "       0.0241655 , 0.0234325 , 0.0242873 , 0.02355625, 0.02470529,\n",
       "       0.02284179, 0.02334494, 0.02463871, 0.02406791, 0.02317033,\n",
       "       0.02419474, 0.02259067, 0.02355048, 0.02390531, 0.02321965,\n",
       "       0.02321362, 0.02253366, 0.02486367, 0.02411683, 0.02625236,\n",
       "       0.02368518, 0.02599864, 0.02447772, 0.02409456, 0.02267027,\n",
       "       0.02342824, 0.02253508, 0.02331992, 0.02303085, 0.02293566,\n",
       "       0.02354231, 0.02411517, 0.0245745 , 0.0236221 , 0.02405074,\n",
       "       0.02830619, 0.02310407, 0.0240275 , 0.02799213, 0.02378969,\n",
       "       0.02360495, 0.02440863, 0.02244444, 0.0240207 , 0.02051745,\n",
       "       0.02476051, 0.02301498, 0.02296022, 0.02375303], dtype=float32)"
      ]
     },
     "execution_count": 5,
     "metadata": {},
     "output_type": "execute_result"
    }
   ],
   "source": [
    "[aa_str] = translate_sequences([pcp_df.loc[0, \"parent\"]])\n",
    "model.p_substitution_of_aa_str(aa_str)"
   ]
  }
 ],
 "metadata": {
  "kernelspec": {
   "display_name": "epam",
   "language": "python",
   "name": "python3"
  },
  "language_info": {
   "codemirror_mode": {
    "name": "ipython",
    "version": 3
   },
   "file_extension": ".py",
   "mimetype": "text/x-python",
   "name": "python",
   "nbconvert_exporter": "python",
   "pygments_lexer": "ipython3",
   "version": "3.9.18"
  }
 },
 "nbformat": 4,
 "nbformat_minor": 2
}
