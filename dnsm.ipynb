{
 "cells": [
  {
   "cell_type": "code",
   "execution_count": 1,
   "metadata": {},
   "outputs": [],
   "source": [
    "import pandas as pd\n",
    "\n",
    "from epam.dnsm import train_model\n"
   ]
  },
  {
   "cell_type": "code",
   "execution_count": 2,
   "metadata": {},
   "outputs": [],
   "source": [
    "pcp_df = pd.read_csv(\"~/data/wyatt-10x-1p5m_pcp_2023-10-07.csv\")"
   ]
  },
  {
   "cell_type": "code",
   "execution_count": 3,
   "metadata": {},
   "outputs": [
    {
     "name": "stdout",
     "output_type": "stream",
     "text": [
      "preparing data...\n",
      "Using Metal Performance Shaders\n",
      "training model...\n",
      "Epoch [1/10], Training Loss: 0.3574766218662262, Validation Loss: 0.3298342525959015\n",
      "Epoch [2/10], Training Loss: 0.32815057039260864, Validation Loss: 0.3141663670539856\n",
      "Epoch [3/10], Training Loss: 0.3111671209335327, Validation Loss: 0.30151697993278503\n",
      "Epoch [4/10], Training Loss: 0.3046671748161316, Validation Loss: 0.2890949249267578\n",
      "Epoch [5/10], Training Loss: 0.2899954915046692, Validation Loss: 0.2775366008281708\n",
      "Epoch [6/10], Training Loss: 0.28441300988197327, Validation Loss: 0.26668795943260193\n",
      "Epoch [7/10], Training Loss: 0.27562445402145386, Validation Loss: 0.2563818395137787\n",
      "Epoch [8/10], Training Loss: 0.25438177585601807, Validation Loss: 0.24656936526298523\n",
      "Epoch [9/10], Training Loss: 0.27624258399009705, Validation Loss: 0.23723803460597992\n",
      "Epoch [10/10], Training Loss: 0.2510092854499817, Validation Loss: 0.22850671410560608\n"
     ]
    }
   ],
   "source": [
    "nhead = 4\n",
    "dim_feedforward = 2048\n",
    "layer_count = 3\n",
    "model = train_model(pcp_df, nhead=nhead, dim_feedforward=dim_feedforward, layer_count=layer_count, batch_size=32, num_epochs=10, learning_rate=0.001, checkpoint_dir=\"./_checkpoints\", log_dir=\"./_logs\")"
   ]
  }
 ],
 "metadata": {
  "kernelspec": {
   "display_name": "epam",
   "language": "python",
   "name": "python3"
  },
  "language_info": {
   "codemirror_mode": {
    "name": "ipython",
    "version": 3
   },
   "file_extension": ".py",
   "mimetype": "text/x-python",
   "name": "python",
   "nbconvert_exporter": "python",
   "pygments_lexer": "ipython3",
   "version": "3.9.18"
  }
 },
 "nbformat": 4,
 "nbformat_minor": 2
}
