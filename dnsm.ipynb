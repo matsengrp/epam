{
 "cells": [
  {
   "cell_type": "code",
   "execution_count": 1,
   "metadata": {},
   "outputs": [],
   "source": [
    "import pandas as pd\n",
    "\n",
    "import torch\n",
    "from epam.dnsm import train_model, TransformerBinarySelectionModel\n",
    "from epam.sequences import translate_sequences\n"
   ]
  },
  {
   "cell_type": "code",
   "execution_count": 2,
   "metadata": {},
   "outputs": [],
   "source": [
    "pcp_df = pd.read_csv(\"~/data/wyatt-10x-1p5m_pcp_2023-10-07.csv\")"
   ]
  },
  {
   "cell_type": "code",
   "execution_count": 3,
   "metadata": {},
   "outputs": [],
   "source": [
    "nhead = 4\n",
    "dim_feedforward = 2048\n",
    "layer_count = 3\n",
    "# model = train_model(pcp_df, nhead=nhead, dim_feedforward=dim_feedforward, layer_count=layer_count, batch_size=32, num_epochs=10, learning_rate=0.001, checkpoint_dir=\"./_checkpoints\", log_dir=\"./_logs\")"
   ]
  },
  {
   "cell_type": "code",
   "execution_count": 4,
   "metadata": {},
   "outputs": [
    {
     "name": "stdout",
     "output_type": "stream",
     "text": [
      "Using Metal Performance Shaders\n"
     ]
    },
    {
     "data": {
      "text/plain": [
       "<All keys matched successfully>"
      ]
     },
     "execution_count": 4,
     "metadata": {},
     "output_type": "execute_result"
    }
   ],
   "source": [
    "model = TransformerBinarySelectionModel(\n",
    "    nhead=nhead, dim_feedforward=dim_feedforward, layer_count=layer_count\n",
    ")\n",
    "\n",
    "model.load_state_dict(torch.load(\"./_checkpoints/model_epoch_9.pth\")[\"model_state_dict\"])"
   ]
  },
  {
   "cell_type": "code",
   "execution_count": 5,
   "metadata": {},
   "outputs": [
    {
     "data": {
      "text/plain": [
       "array([0.02578606, 0.02254819, 0.02512859, 0.02340679, 0.0227394 ,\n",
       "       0.0241887 , 0.02550875, 0.0244553 , 0.02254029, 0.02408547,\n",
       "       0.02340191, 0.02402072, 0.02168924, 0.02161697, 0.02134414,\n",
       "       0.02372354, 0.022973  , 0.02377489, 0.02420421, 0.02397601,\n",
       "       0.02412654, 0.02197212, 0.02327956, 0.02273807, 0.02440264,\n",
       "       0.02304053, 0.02282652, 0.02374436, 0.02425274, 0.02285506,\n",
       "       0.02355319, 0.02624736, 0.02376059, 0.02388876, 0.02214962,\n",
       "       0.024626  , 0.02351828, 0.02330364, 0.02334065, 0.02475715,\n",
       "       0.02406353, 0.02249386, 0.02349033, 0.02374038, 0.01995898,\n",
       "       0.02360557, 0.0233809 , 0.02344431, 0.02436569, 0.02340499,\n",
       "       0.02295317, 0.02384436, 0.02398253, 0.02337595, 0.02220181,\n",
       "       0.02328531, 0.022824  , 0.02409117, 0.02434536, 0.0234773 ,\n",
       "       0.02346545, 0.02262968, 0.02411794, 0.02303308, 0.02202362,\n",
       "       0.02362197, 0.02323787, 0.02362826, 0.02270589, 0.02129608,\n",
       "       0.02264974, 0.02329602, 0.02245606, 0.02326482, 0.02437289,\n",
       "       0.023351  , 0.02314431, 0.02458434, 0.02216249, 0.02308698,\n",
       "       0.02366482, 0.0226064 , 0.02315995, 0.02346956, 0.02322767,\n",
       "       0.02362992, 0.02373173, 0.02506563, 0.02345661, 0.02333972,\n",
       "       0.02219083, 0.02265486, 0.02292299, 0.02321526, 0.02326645,\n",
       "       0.0224277 , 0.02327835, 0.02353445, 0.02341694, 0.02371971,\n",
       "       0.02339508, 0.02743486, 0.0216258 , 0.0234133 , 0.02354493,\n",
       "       0.02336983, 0.02273212, 0.02273221, 0.02323855, 0.02259122,\n",
       "       0.02402673, 0.02229702, 0.02306162, 0.02317503, 0.02501802,\n",
       "       0.02402241, 0.02665972, 0.02364526, 0.02543615, 0.02316192,\n",
       "       0.02361503, 0.02324799, 0.02328137, 0.02232684], dtype=float32)"
      ]
     },
     "execution_count": 5,
     "metadata": {},
     "output_type": "execute_result"
    }
   ],
   "source": [
    "[aa_str] = translate_sequences([pcp_df.loc[0, \"parent\"]])\n",
    "model.p_substitution_of_aa_str(aa_str)"
   ]
  }
 ],
 "metadata": {
  "kernelspec": {
   "display_name": "epam",
   "language": "python",
   "name": "python3"
  },
  "language_info": {
   "codemirror_mode": {
    "name": "ipython",
    "version": 3
   },
   "file_extension": ".py",
   "mimetype": "text/x-python",
   "name": "python",
   "nbconvert_exporter": "python",
   "pygments_lexer": "ipython3",
   "version": "3.9.18"
  }
 },
 "nbformat": 4,
 "nbformat_minor": 2
}
