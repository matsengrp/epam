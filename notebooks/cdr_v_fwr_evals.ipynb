{
 "cells": [
  {
   "cell_type": "markdown",
   "metadata": {},
   "source": [
    "## Evaluation breakdown by sequencing region (CDR v FW)"
   ]
  },
  {
   "cell_type": "code",
   "execution_count": 1,
   "metadata": {},
   "outputs": [],
   "source": [
    "import pandas as pd\n",
    "import os\n",
    "import epam.evaluation as ev\n",
    "from epam.utils import pcp_path_of_aaprob_path, load_and_filter_pcp_df\n",
    "from netam.sequences import translate_sequence\n",
    "from scripts.annotate_pcps import aa_regions_of_row, aa_seq_by_region, get_cdr_fwk_seqs\n",
    "import matplotlib.pyplot as plt\n",
    "import matplotlib.patches as mpatches"
   ]
  },
  {
   "cell_type": "code",
   "execution_count": 2,
   "metadata": {},
   "outputs": [],
   "source": [
    "# Okabe-Ito colors\n",
    "oi_black         = '#000000'\n",
    "oi_orange        = '#E69F00'\n",
    "oi_skyblue       = '#56B4E9'\n",
    "oi_bluishgreen   = '#009E73'\n",
    "oi_yellow        = '#F0E442'\n",
    "oi_blue          = '#0072B2'\n",
    "oi_vermillion    = '#D55E00'\n",
    "oi_reddishpurple = '#CC79A7'\n",
    "os.chdir('/home/mjohnso4/epam/')\n",
    "test_aaprob_path = 'output/ford-flairr-seq-prod_pcp_2024-04-01_MASKED_NI_noN_no-naive/set2/SHMple_default/combined_aaprob.hdf5'"
   ]
  },
  {
   "cell_type": "code",
   "execution_count": 3,
   "metadata": {},
   "outputs": [],
   "source": [
    "test_pcp_path = pcp_path_of_aaprob_path(test_aaprob_path)\n",
    "full_test_pcp_df = load_and_filter_pcp_df(test_pcp_path) # TEMP\n",
    "test_pcp_df = full_test_pcp_df.head(10).copy() # TEMP\n",
    "test_pcp_df['parent_aa'] = test_pcp_df.apply(lambda row: translate_sequence(row['parent']), axis=1)\n",
    "test_pcp_df['child_aa'] = test_pcp_df.apply(lambda row: translate_sequence(row['child']), axis=1)"
   ]
  },
  {
   "cell_type": "code",
   "execution_count": 4,
   "metadata": {},
   "outputs": [
    {
     "name": "stdout",
     "output_type": "stream",
     "text": [
      "EVQLLESGGGLVQPGGSLRLSCAASGFTFSSYAMSWVRQAPGKGLEWVSAISGSGGSTYYADSVKGRFTISRDNSKNTLYLQMNSLRAEDTAVYYCAKFKWLVFSFDYWGQGTLVTVSS\n",
      "{'FWK1': (0, 25), 'CDR1': (25, 33), 'FWK2': (33, 50), 'CDR2': (50, 58), 'FWK3': (58, 96), 'CDR3': (96, 108), 'FWK4': (108, 119)}\n",
      "{'FWK1': 'EVQLLESGGGLVQPGGSLRLSCAAS', 'CDR1': 'GFTFSSYA', 'FWK2': 'MSWVRQAPGKGLEWVSA', 'CDR2': 'ISGSGGST', 'FWK3': 'YYADSVKGRFTISRDNSKNTLYLQMNSLRAEDTAVYYC', 'CDR3': 'AKFKWLVFSFDY', 'FWK4': 'WGQGTLVTVSS'}\n",
      "EVQLVESGGGLVQPGGSLRLSCAASGFTFSSYWMSWVRQAPGKGLEWVANIKQDGSEKYYVDSVKGRFTISRDNAKNSLYLQMNSLRAEDTAVYYCARGVRRVRGVAFDYWGQGTLVTVSS\n",
      "{'FWK1': (0, 25), 'CDR1': (25, 33), 'FWK2': (33, 50), 'CDR2': (50, 58), 'FWK3': (58, 96), 'CDR3': (96, 110), 'FWK4': (110, 121)}\n",
      "{'FWK1': 'EVQLVESGGGLVQPGGSLRLSCAAS', 'CDR1': 'GFTFSSYW', 'FWK2': 'MSWVRQAPGKGLEWVAN', 'CDR2': 'IKQDGSEK', 'FWK3': 'YYVDSVKGRFTISRDNAKNSLYLQMNSLRAEDTAVYYC', 'CDR3': 'ARGVRRVRGVAFDY', 'FWK4': 'WGQGTLVTVSS'}\n",
      "QVQLVQSGAEVKKPGASVKVSCKASGYTFTSYYMHWVRQAPGQGLEWMGIINPSGGSTSYAQKFQGRVTMTRDTSTSTVYMELSSLRSEDTAVYYCARTIPGIAVAGTRGWFDPWGQGTLVTVSS\n",
      "{'FWK1': (0, 25), 'CDR1': (25, 33), 'FWK2': (33, 50), 'CDR2': (50, 58), 'FWK3': (58, 96), 'CDR3': (96, 114), 'FWK4': (114, 125)}\n",
      "{'FWK1': 'QVQLVQSGAEVKKPGASVKVSCKAS', 'CDR1': 'GYTFTSYY', 'FWK2': 'MHWVRQAPGQGLEWMGI', 'CDR2': 'INPSGGST', 'FWK3': 'SYAQKFQGRVTMTRDTSTSTVYMELSSLRSEDTAVYYC', 'CDR3': 'ARTIPGIAVAGTRGWFDP', 'FWK4': 'WGQGTLVTVSS'}\n",
      "QVQLVQSGAEVKKPGSSVKVSCKASGGTFSSYAISWVRQAPGQGLEWMGGIIPIFGTANYAQKFQGRVTITADESTSTAYMELSSLRSEDTAVYYCARGSGSYHDAFDIWGQGTMVTVSS\n",
      "{'FWK1': (0, 25), 'CDR1': (25, 33), 'FWK2': (33, 50), 'CDR2': (50, 58), 'FWK3': (58, 96), 'CDR3': (96, 109), 'FWK4': (109, 120)}\n",
      "{'FWK1': 'QVQLVQSGAEVKKPGSSVKVSCKAS', 'CDR1': 'GGTFSSYA', 'FWK2': 'ISWVRQAPGQGLEWMGG', 'CDR2': 'IIPIFGTA', 'FWK3': 'NYAQKFQGRVTITADESTSTAYMELSSLRSEDTAVYYC', 'CDR3': 'ARGSGSYHDAFDI', 'FWK4': 'WGQGTMVTVSS'}\n",
      "QLQLQESGPGLVKPSETLSLTCTVSGGSITSSSYYWGWIRQPPGKGLEWIGSIYYSGSTYYNPSLKSRVTISVDTSKNQFSLKLSSVTAADTAVYYCARLGWGVVLENYFDYWGQGTLVTVSS\n",
      "{'FWK1': (0, 25), 'CDR1': (25, 35), 'FWK2': (35, 52), 'CDR2': (52, 59), 'FWK3': (59, 97), 'CDR3': (97, 112), 'FWK4': (112, 123)}\n",
      "{'FWK1': 'QLQLQESGPGLVKPSETLSLTCTVS', 'CDR1': 'GGSITSSSYY', 'FWK2': 'WGWIRQPPGKGLEWIGS', 'CDR2': 'IYYSGST', 'FWK3': 'YYNPSLKSRVTISVDTSKNQFSLKLSSVTAADTAVYYC', 'CDR3': 'ARLGWGVVLENYFDY', 'FWK4': 'WGQGTLVTVSS'}\n",
      "QVQFVQSGPEVKKPGASVKVSCKTSGYTFTKYAIHWVRQAPGQSLEWMGWINAGNGHTKNSQKFQGRVTITTDTSASTVYMELSSLTYEDTAVYFCARGDTSGFYWGQGTLVVVSS\n",
      "{'FWK1': (0, 25), 'CDR1': (25, 33), 'FWK2': (33, 50), 'CDR2': (50, 58), 'FWK3': (58, 96), 'CDR3': (96, 105), 'FWK4': (105, 116)}\n",
      "{'FWK1': 'QVQFVQSGPEVKKPGASVKVSCKTS', 'CDR1': 'GYTFTKYA', 'FWK2': 'IHWVRQAPGQSLEWMGW', 'CDR2': 'INAGNGHT', 'FWK3': 'KNSQKFQGRVTITTDTSASTVYMELSSLTYEDTAVYFC', 'CDR3': 'ARGDTSGFY', 'FWK4': 'WGQGTLVVVSS'}\n",
      "QVQFVQSGPEVKKPGASVKVSCKTSGYTFTKYAIHWVRQAPGQSLEWMGWINAGNGHTKNSQKFQGRVTITTDTSASTVYMELSSLTYEDTAVYFCARGDTSGFYWGQGTLVVVSS\n",
      "{'FWK1': (0, 25), 'CDR1': (25, 33), 'FWK2': (33, 50), 'CDR2': (50, 58), 'FWK3': (58, 96), 'CDR3': (96, 105), 'FWK4': (105, 116)}\n",
      "{'FWK1': 'QVQFVQSGPEVKKPGASVKVSCKTS', 'CDR1': 'GYTFTKYA', 'FWK2': 'IHWVRQAPGQSLEWMGW', 'CDR2': 'INAGNGHT', 'FWK3': 'KNSQKFQGRVTITTDTSASTVYMELSSLTYEDTAVYFC', 'CDR3': 'ARGDTSGFY', 'FWK4': 'WGQGTLVVVSS'}\n",
      "QVQLQESGPGLVKPSETLSLTCTVSGGSISTYYWSWIRQPPGKGLEWIGYIYYSGSTNYNPSLKSRVTISVDTSKNQFSLKLSSVTAADTAVYYCARVESPLWITGTPGAFDFWGQGTMVTVSS\n",
      "{'FWK1': (0, 25), 'CDR1': (25, 33), 'FWK2': (33, 50), 'CDR2': (50, 57), 'FWK3': (57, 95), 'CDR3': (95, 113), 'FWK4': (113, 124)}\n",
      "{'FWK1': 'QVQLQESGPGLVKPSETLSLTCTVS', 'CDR1': 'GGSISTYY', 'FWK2': 'WSWIRQPPGKGLEWIGY', 'CDR2': 'IYYSGST', 'FWK3': 'NYNPSLKSRVTISVDTSKNQFSLKLSSVTAADTAVYYC', 'CDR3': 'ARVESPLWITGTPGAFDF', 'FWK4': 'WGQGTMVTVSS'}\n",
      "QVQLQESGPGLVKPSETLSLTCTVSGGSISSYYWSWIRQPAGKGLEWIGRIYTSGSTNYNPSLKSRVTMSVDTSKNQFSLKLSSVTAADTAVYYCARDGDYGRADYWGQGTLVTVSS\n",
      "{'FWK1': (0, 25), 'CDR1': (25, 33), 'FWK2': (33, 50), 'CDR2': (50, 57), 'FWK3': (57, 95), 'CDR3': (95, 106), 'FWK4': (106, 117)}\n",
      "{'FWK1': 'QVQLQESGPGLVKPSETLSLTCTVS', 'CDR1': 'GGSISSYY', 'FWK2': 'WSWIRQPAGKGLEWIGR', 'CDR2': 'IYTSGST', 'FWK3': 'NYNPSLKSRVTMSVDTSKNQFSLKLSSVTAADTAVYYC', 'CDR3': 'ARDGDYGRADY', 'FWK4': 'WGQGTLVTVSS'}\n",
      "EVQLVESGGGLVQPGGSLRLSCAASGFTFSDYWMSWVRQAPGKGLEWVANIKQDGSETYYVDSVRGRFTISRDNAKNSLYLQMNSLRAEDTAVYYCAQEFYYDSSGYYYPRVFDYWGQGTLVTVSS\n",
      "{'FWK1': (0, 25), 'CDR1': (25, 33), 'FWK2': (33, 50), 'CDR2': (50, 58), 'FWK3': (58, 96), 'CDR3': (96, 115), 'FWK4': (115, 126)}\n",
      "{'FWK1': 'EVQLVESGGGLVQPGGSLRLSCAAS', 'CDR1': 'GFTFSDYW', 'FWK2': 'MSWVRQAPGKGLEWVAN', 'CDR2': 'IKQDGSET', 'FWK3': 'YYVDSVRGRFTISRDNAKNSLYLQMNSLRAEDTAVYYC', 'CDR3': 'AQEFYYDSSGYYYPRVFDY', 'FWK4': 'WGQGTLVTVSS'}\n"
     ]
    }
   ],
   "source": [
    "for index, row in test_pcp_df.iterrows():\n",
    "    print(row['parent_aa'])\n",
    "    # print(row['cdr1_codon_start']/3, row['cdr1_codon_end']/3, row['cdr2_codon_start']/3, row['cdr2_codon_end']/3, row['cdr3_codon_start']/3, row['cdr3_codon_end']/3)\n",
    "    regions = aa_regions_of_row(row)\n",
    "    print(regions)\n",
    "    seq_by_region = aa_seq_by_region(row['parent_aa'], regions)\n",
    "    print(seq_by_region)\n",
    "    parent_fwk_seq, parent_cdr_seq, child_fwk_seq, child_cdr_seq = get_cdr_fwk_seqs(row)\n",
    "    # print(parent_fwk_seq) \n",
    "    # print(parent_cdr_seq)\n",
    "    # print(child_fwk_seq)\n",
    "    # print(child_cdr_seq)"
   ]
  },
  {
   "cell_type": "code",
   "execution_count": null,
   "metadata": {},
   "outputs": [],
   "source": [
    "# problem sequence - works when filtering allows for pcps with no AA substitutions\n",
    "print(test_pcp_df.iloc[4])\n",
    "parent_aa = translate_sequence(test_pcp_df['parent'].iloc[4])\n",
    "child_aa = translate_sequence(test_pcp_df['child'].iloc[4])\n",
    "print(ev.locate_child_substitutions(parent_aa, child_aa))\n",
    "print(test_pcp_df[test_pcp_df['family'] == 2658].shape[0])"
   ]
  },
  {
   "cell_type": "code",
   "execution_count": null,
   "metadata": {},
   "outputs": [],
   "source": [
    "test_pcp_df['parent_fwk_seq'], test_pcp_df['parent_cdr_seq'], test_pcp_df['child_fwk_seq'], test_pcp_df['child_cdr_seq'] = zip(*test_pcp_df.apply(get_cdr_fwk_seqs, axis=1))\n",
    "print(test_pcp_df.columns)"
   ]
  },
  {
   "cell_type": "code",
   "execution_count": null,
   "metadata": {},
   "outputs": [],
   "source": [
    "ev.evaluate_dataset(test_aaprob_path)"
   ]
  },
  {
   "cell_type": "code",
   "execution_count": null,
   "metadata": {},
   "outputs": [],
   "source": [
    "def evaluate_all_models(aaprob_paths, model_performance_path):\n",
    "    \"\"\"\n",
    "    Wrapper function for evaluate_dataset() that takes in a list of aaprob matrices and outputs a CSV of model performance metrics.\n",
    "    Outputs to CSV file with columns for the different metrics and a row per model/data set combo.\n",
    "\n",
    "    Parameters:\n",
    "    aaprob_paths (list): List of paths to evaluate. Each aaprob matrix corresponds to predictions for one model on a given data set.\n",
    "    model_performance_path (str): Path to output for model performance metrics.\n",
    "\n",
    "    \"\"\"\n",
    "    model_performances = [ev.evaluate_dataset_by_region(aaprob_path) for aaprob_path in aaprob_paths]\n",
    "\n",
    "    all_model_performances = pd.DataFrame(model_performances)\n",
    "\n",
    "    all_model_performances.to_csv(model_performance_path, index=False)"
   ]
  },
  {
   "cell_type": "code",
   "execution_count": 5,
   "metadata": {},
   "outputs": [],
   "source": [
    "flairr = 'output/ford-flairr-seq-prod_pcp_2024-04-01_MASKED_NI_noN_no-naive/'\n",
    "race = 'output/rodriguez-airr-seq-race-prod_pcp_2024-04-01_MASKED_NI_noN_no-naive/'\n",
    "wyatt = 'output/wyatt-10x-1p5m_pcp_2024-04-01_NI_noN_no-naive/'\n",
    "tang = 'output/tang-deepshm-prod_pcp_2024-04-01_MASKED_NI_noN_no-naive_rearranged/'\n",
    "ablang1 = 'set1/AbLang1/'\n",
    "ablang2_mask = 'set1/AbLang2_mask/'\n",
    "ablang2_wt = 'set1/AbLang2_wt/'\n",
    "esm = 'set1/ESM1v_mask/'\n",
    "shmple = 'set2/SHMple_default/'\n",
    "shmple_prod = 'set2/SHMple_productive/'\n",
    "shmple_esm = 'set3/SHMpleESM_mask/'\n",
    "flairr_models = [f\"{flairr}{ablang1}combined_aaprob.hdf5\", f\"{flairr}{ablang2_mask}combined_aaprob.hdf5\", f\"{flairr}{ablang2_wt}combined_aaprob.hdf5\", f\"{flairr}{esm}combined_aaprob.hdf5\", f\"{flairr}{shmple}combined_aaprob.hdf5\", f\"{flairr}{shmple_prod}combined_aaprob.hdf5\", f\"{flairr}{shmple_esm}combined_aaprob.hdf5\"]\n",
    "race_models = [f\"{race}{ablang1}combined_aaprob.hdf5\", f\"{race}{ablang2_mask}combined_aaprob.hdf5\",  f\"{race}{ablang2_wt}combined_aaprob.hdf5\", f\"{race}{esm}combined_aaprob.hdf5\", f\"{race}{shmple}combined_aaprob.hdf5\", f\"{race}{shmple_prod}combined_aaprob.hdf5\", f\"{race}{shmple_esm}combined_aaprob.hdf5\"]\n",
    "wyatt_models = [f\"{wyatt}{ablang1}combined_aaprob.hdf5\", f\"{wyatt}{ablang2_mask}combined_aaprob.hdf5\", f\"{wyatt}{ablang2_wt}combined_aaprob.hdf5\", f\"{wyatt}{esm}combined_aaprob.hdf5\", f\"{wyatt}{shmple}combined_aaprob.hdf5\", f\"{wyatt}{shmple_prod}combined_aaprob.hdf5\", f\"{wyatt}{shmple_esm}combined_aaprob.hdf5\"]\n",
    "tang_models = [f\"{tang}{ablang1}combined_aaprob.hdf5\", f\"{tang}{ablang2_mask}combined_aaprob.hdf5\", f\"{tang}{ablang2_wt}combined_aaprob.hdf5\", f\"{tang}{esm}combined_aaprob.hdf5\", f\"{tang}{shmple}combined_aaprob.hdf5\", f\"{tang}{shmple_prod}combined_aaprob.hdf5\", f\"{tang}{shmple_esm}combined_aaprob.hdf5\"]\n",
    "flairr_out = f\"{flairr}combined_performance_by_region.csv\"\n",
    "race_out = f\"{race}combined_performance_by_region.csv\"\n",
    "wyatt_out = f\"{wyatt}combined_performance_by_region.csv\"\n",
    "tang_out = f\"{tang}combined_performance_by_region.csv\""
   ]
  },
  {
   "cell_type": "code",
   "execution_count": null,
   "metadata": {},
   "outputs": [],
   "source": [
    "print(flairr_models)"
   ]
  },
  {
   "cell_type": "code",
   "execution_count": null,
   "metadata": {},
   "outputs": [],
   "source": [
    "evaluate_all_models(flairr_models, flairr_out)"
   ]
  },
  {
   "cell_type": "code",
   "execution_count": null,
   "metadata": {},
   "outputs": [],
   "source": [
    "evaluate_all_models(race_models, race_out)"
   ]
  },
  {
   "cell_type": "code",
   "execution_count": null,
   "metadata": {},
   "outputs": [],
   "source": [
    "evaluate_all_models(wyatt_models, wyatt_out)"
   ]
  },
  {
   "cell_type": "code",
   "execution_count": null,
   "metadata": {},
   "outputs": [],
   "source": [
    "evaluate_all_models(tang_models, tang_out)"
   ]
  },
  {
   "cell_type": "code",
   "execution_count": null,
   "metadata": {},
   "outputs": [],
   "source": [
    "def plot_performance_by_region(model_performance_path, data_set, plot_name):\n",
    "    \"\"\"\n",
    "    Plots the performance metrics of models by region.\n",
    "\n",
    "    Parameters:\n",
    "    model_performance_path (str): Path to CSV file with model performance metrics.\n",
    "    plot_path (str): Path to save plot.\n",
    "\n",
    "    \"\"\"\n",
    "    model_performances = pd.read_csv(model_performance_path)\n",
    "    pcp_count = model_performances['pcp_count'][0]\n",
    "\n",
    "    fig = plt.figure(figsize=(10,6))\n",
    "    fig.patch.set_facecolor('white')\n",
    "    gs = fig.add_gridspec(1, 3)\n",
    "    axs = gs.subplots(sharex=False, sharey=True)\n",
    "\n",
    "    bar_width = 0.25\n",
    "    index = range(len(model_performances))\n",
    "\n",
    "    # Plotting substitution accuracy\n",
    "    axs[0].barh([i - bar_width for i in index], model_performances['sub_accuracy'], height=bar_width, color=oi_black, label='Full')\n",
    "    axs[0].barh(index, model_performances['fwk_sub_accuracy'], height=bar_width, color=oi_reddishpurple, label='FWK')\n",
    "    axs[0].barh([i + bar_width for i in index], model_performances['cdr_sub_accuracy'], height=bar_width, color=oi_bluishgreen, label='CDR')\n",
    "    axs[0].set_title(\"Substitution accuracy\")\n",
    "    axs[0].set_yticks(index)\n",
    "    axs[0].set_yticklabels(model_performances['model'])\n",
    "\n",
    "    # Plotting cross-entropy loss\n",
    "    axs[1].barh([i - bar_width for i in index], model_performances['cross_entropy'], height=bar_width, color=oi_black, label='Full')\n",
    "    axs[1].barh(index, model_performances['fwk_cross_entropy'], height=bar_width, color=oi_reddishpurple, label='FWK')\n",
    "    axs[1].barh([i + bar_width for i in index], model_performances['cdr_cross_entropy'], height=bar_width, color=oi_bluishgreen, label='CDR')\n",
    "    axs[1].set_title(\"Cross-entropy loss\")\n",
    "    axs[1].set_yticks(index)\n",
    "    axs[1].set_yticklabels(model_performances['model'])\n",
    "\n",
    "    # Plotting r-precision\n",
    "    axs[2].barh([i - bar_width for i in index], model_performances['r_precision'], height=bar_width, color=oi_black, label='Full')\n",
    "    axs[2].barh(index, model_performances['fwk_r_precision'], height=bar_width, color=oi_reddishpurple, label='FWK')\n",
    "    axs[2].barh([i + bar_width for i in index], model_performances['cdr_r_precision'], height=bar_width, color=oi_bluishgreen, label='CDR')\n",
    "    axs[2].set_title(\"R-precision\")\n",
    "    axs[2].set_yticks(index)\n",
    "    axs[2].set_yticklabels(model_performances['model'])\n",
    "\n",
    "    # Adding a single legend for the entire figure\n",
    "    handles, labels = axs[0].get_legend_handles_labels()\n",
    "    fig.legend(handles, labels, loc='upper center', ncol=3, bbox_to_anchor=(0.85, 1.0))\n",
    "\n",
    "    fig.suptitle(f'{data_set} ({pcp_count} PCPs)', fontsize=20)\n",
    "    plt.tight_layout()\n",
    "    plt.savefig(f\"output/plots/{plot_name}.png\")\n",
    "    plt.show()\n",
    "    plt.close()"
   ]
  },
  {
   "cell_type": "code",
   "execution_count": null,
   "metadata": {},
   "outputs": [],
   "source": [
    "plot_performance_by_region(flairr_out, 'FLAIRR', 'flairr_performance_by_region')\n",
    "plot_performance_by_region(race_out, \"5' RACE\", 'race_performance_by_region')\n",
    "plot_performance_by_region(wyatt_out, 'Wyatt', 'wyatt_performance_by_region')\n",
    "plot_performance_by_region(tang_out, 'Tang', 'tang_performance_by_region')"
   ]
  },
  {
   "cell_type": "code",
   "execution_count": 6,
   "metadata": {},
   "outputs": [
    {
     "data": {
      "text/plain": [
       "{'data_set': 'pcp_inputs/ford-flairr-seq-prod_pcp_2024-04-01_MASKED_NI_noN_no-naive.csv',\n",
       " 'pcp_count': 2722,\n",
       " 'model': 'SHMple_default',\n",
       " 'sub_accuracy': 0.2986861313868613,\n",
       " 'r_precision': 0.13222031962297245,\n",
       " 'cross_entropy': 0.16807539595875406,\n",
       " 'fwk_sub_accuracy': 0.333164351617155,\n",
       " 'fwk_r_precision': 0.13147488708342037,\n",
       " 'fwk_cross_entropy': 0.10601230795803399,\n",
       " 'cdr_sub_accuracy': 0.2518589920132195,\n",
       " 'cdr_r_precision': 0.2067651338260777,\n",
       " 'cdr_cross_entropy': 0.062063087647421494,\n",
       " 'avg_k_subs': 6.291329904481999,\n",
       " 'avg_aa_sub_freq': 0.05181356095298248,\n",
       " 'aa_sub_freq_range': (0.007352941176470588, 0.36134453781512604),\n",
       " 'fwk_avg_k_subs': 3.623438648052902,\n",
       " 'fwk_avg_aa_sub_freq': 0.03981800712146046,\n",
       " 'fwk_aa_sub_freq_range': (0.0, 0.3956043956043956),\n",
       " 'cdr_avg_k_subs': 2.667891256429096,\n",
       " 'cdr_avg_aa_sub_freq': 0.08895575399525425,\n",
       " 'cdr_aa_sub_freq_range': (0.0, 0.6538461538461539)}"
      ]
     },
     "execution_count": 6,
     "metadata": {},
     "output_type": "execute_result"
    }
   ],
   "source": [
    "ev.evaluate_dataset(flairr_models[4])"
   ]
  },
  {
   "cell_type": "code",
   "execution_count": 7,
   "metadata": {},
   "outputs": [
    {
     "data": {
      "text/plain": [
       "{'data_set': 'pcp_inputs/rodriguez-airr-seq-race-prod_pcp_2024-04-01_MASKED_NI_noN_no-naive.csv',\n",
       " 'pcp_count': 19550,\n",
       " 'model': 'SHMple_default',\n",
       " 'sub_accuracy': 0.316655338732527,\n",
       " 'r_precision': 0.1415837610484977,\n",
       " 'cross_entropy': 0.1695754301253733,\n",
       " 'fwk_sub_accuracy': 0.35921920486028097,\n",
       " 'fwk_r_precision': 0.13672322950671734,\n",
       " 'fwk_cross_entropy': 0.10686009655234292,\n",
       " 'cdr_sub_accuracy': 0.25732209370711623,\n",
       " 'cdr_r_precision': 0.19441813392076665,\n",
       " 'cdr_cross_entropy': 0.06271533324005851,\n",
       " 'avg_k_subs': 6.246393861892583,\n",
       " 'avg_aa_sub_freq': 0.05149306086254904,\n",
       " 'aa_sub_freq_range': (0.006993006993006993, 0.38461538461538464),\n",
       " 'fwk_avg_k_subs': 3.6371867007672636,\n",
       " 'fwk_avg_aa_sub_freq': 0.03996908462381608,\n",
       " 'fwk_aa_sub_freq_range': (0.0, 0.4175824175824176),\n",
       " 'cdr_avg_k_subs': 2.60920716112532,\n",
       " 'cdr_avg_aa_sub_freq': 0.08729009401013635,\n",
       " 'cdr_aa_sub_freq_range': (0.0, 0.7058823529411765)}"
      ]
     },
     "execution_count": 7,
     "metadata": {},
     "output_type": "execute_result"
    }
   ],
   "source": [
    "ev.evaluate_dataset(race_models[4])"
   ]
  },
  {
   "cell_type": "code",
   "execution_count": 8,
   "metadata": {},
   "outputs": [
    {
     "data": {
      "text/plain": [
       "{'data_set': 'pcp_inputs/wyatt-10x-1p5m_pcp_2024-04-01_NI_noN_no-naive.csv',\n",
       " 'pcp_count': 55736,\n",
       " 'model': 'SHMple_default',\n",
       " 'sub_accuracy': 0.3381895783972711,\n",
       " 'r_precision': 0.14314313082014918,\n",
       " 'cross_entropy': 0.15209390933875738,\n",
       " 'fwk_sub_accuracy': 0.3902560325344514,\n",
       " 'fwk_r_precision': 0.13986567793320412,\n",
       " 'fwk_cross_entropy': 0.08890873423865431,\n",
       " 'cdr_sub_accuracy': 0.2785636012342475,\n",
       " 'cdr_r_precision': 0.18799034641879697,\n",
       " 'cdr_cross_entropy': 0.06318517477237592,\n",
       " 'avg_k_subs': 5.338650064590211,\n",
       " 'avg_aa_sub_freq': 0.04404834231837546,\n",
       " 'aa_sub_freq_range': (0.0070921985815602835, 0.3076923076923077),\n",
       " 'fwk_avg_k_subs': 2.849989234964834,\n",
       " 'fwk_avg_aa_sub_freq': 0.03131856302159158,\n",
       " 'fwk_aa_sub_freq_range': (0.0, 0.3076923076923077),\n",
       " 'cdr_avg_k_subs': 2.4886608296253767,\n",
       " 'cdr_avg_aa_sub_freq': 0.08368604094915655,\n",
       " 'cdr_aa_sub_freq_range': (0.0, 0.6451612903225806)}"
      ]
     },
     "execution_count": 8,
     "metadata": {},
     "output_type": "execute_result"
    }
   ],
   "source": [
    "ev.evaluate_dataset(wyatt_models[4])"
   ]
  },
  {
   "cell_type": "code",
   "execution_count": 9,
   "metadata": {},
   "outputs": [
    {
     "data": {
      "text/plain": [
       "{'data_set': 'pcp_inputs/tang-deepshm-prod_pcp_2024-04-01_MASKED_NI_noN_no-naive_rearranged.csv',\n",
       " 'pcp_count': 449468,\n",
       " 'model': 'SHMple_default',\n",
       " 'sub_accuracy': 0.32317037730032394,\n",
       " 'r_precision': 0.12137177241034655,\n",
       " 'cross_entropy': 0.13656620006879067,\n",
       " 'fwk_sub_accuracy': 0.36768224802438493,\n",
       " 'fwk_r_precision': 0.12373982266754094,\n",
       " 'fwk_cross_entropy': 0.0820015896780504,\n",
       " 'cdr_sub_accuracy': 0.27046224312068695,\n",
       " 'cdr_r_precision': 0.18882964868573066,\n",
       " 'cdr_cross_entropy': 0.05456461009864694,\n",
       " 'avg_k_subs': 4.784814491799193,\n",
       " 'avg_aa_sub_freq': 0.0395651124827898,\n",
       " 'aa_sub_freq_range': (0.006896551724137931, 0.45038167938931295),\n",
       " 'fwk_avg_k_subs': 2.594102361013465,\n",
       " 'fwk_avg_aa_sub_freq': 0.02850661935179631,\n",
       " 'fwk_aa_sub_freq_range': (0.0, 0.38461538461538464),\n",
       " 'cdr_avg_k_subs': 2.190712130785729,\n",
       " 'cdr_avg_aa_sub_freq': 0.0741394874767606,\n",
       " 'cdr_aa_sub_freq_range': (0.0, 0.8076923076923077)}"
      ]
     },
     "execution_count": 9,
     "metadata": {},
     "output_type": "execute_result"
    }
   ],
   "source": [
    "ev.evaluate_dataset(tang_models[4])"
   ]
  }
 ],
 "metadata": {
  "kernelspec": {
   "display_name": "epam",
   "language": "python",
   "name": "python3"
  },
  "language_info": {
   "codemirror_mode": {
    "name": "ipython",
    "version": 3
   },
   "file_extension": ".py",
   "mimetype": "text/x-python",
   "name": "python",
   "nbconvert_exporter": "python",
   "pygments_lexer": "ipython3",
   "version": "3.9.18"
  }
 },
 "nbformat": 4,
 "nbformat_minor": 2
}
