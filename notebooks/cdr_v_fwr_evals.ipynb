{
 "cells": [
  {
   "cell_type": "markdown",
   "metadata": {},
   "source": [
    "## Evaluation breakdown by sequencing region (CDR v FW)"
   ]
  },
  {
   "cell_type": "code",
   "execution_count": 1,
   "metadata": {},
   "outputs": [],
   "source": [
    "import pandas as pd\n",
    "import os\n",
    "import epam.evaluation as ev\n",
    "from epam.utils import pcp_path_of_aaprob_path, load_and_filter_pcp_df\n",
    "from netam.sequences import translate_sequence\n",
    "from scripts.annotate_pcps import aa_regions_of_row, aa_seq_by_region, get_cdr_fwk_seqs"
   ]
  },
  {
   "cell_type": "code",
   "execution_count": 2,
   "metadata": {},
   "outputs": [],
   "source": [
    "os.chdir('/home/mjohnso4/epam/')\n",
    "test_aaprob_path = 'output/ford-flairr-seq-prod_pcp_2024-04-01_MASKED_NI_noN_no-naive/set2/SHMple_default/combined_aaprob.hdf5'"
   ]
  },
  {
   "cell_type": "code",
   "execution_count": 3,
   "metadata": {},
   "outputs": [],
   "source": [
    "test_pcp_path = pcp_path_of_aaprob_path(test_aaprob_path)\n",
    "full_test_pcp_df = load_and_filter_pcp_df(test_pcp_path) # TEMP\n",
    "test_pcp_df = full_test_pcp_df.head(3).copy() # TEMP\n",
    "test_pcp_df['parent_aa'] = test_pcp_df.apply(lambda row: translate_sequence(row['parent']), axis=1)\n",
    "test_pcp_df['child_aa'] = test_pcp_df.apply(lambda row: translate_sequence(row['child']), axis=1)"
   ]
  },
  {
   "cell_type": "code",
   "execution_count": 4,
   "metadata": {},
   "outputs": [
    {
     "name": "stdout",
     "output_type": "stream",
     "text": [
      "EVQLVQSGAEVKKPGESLKISCKGSGYSFTSYWIGWVRQMPGKGLEWMGIIYPGDSDTRYSPSFQGQVTISADKSISTAYLQWSSLKASDTAMYYCASSGCSGGSCYSGGGPFYWGQGTLVTVSS\n",
      "{'FWK1': (0, 25), 'CDR1': (25, 33), 'FWK2': (33, 50), 'CDR2': (50, 58), 'FWK3': (58, 96), 'CDR3': (96, 114), 'FWK4': (114, 125)}\n",
      "{'FWK1': 'EVQLVQSGAEVKKPGESLKISCKGS', 'CDR1': 'GYSFTSYW', 'FWK2': 'IGWVRQMPGKGLEWMGI', 'CDR2': 'IYPGDSDT', 'FWK3': 'RYSPSFQGQVTISADKSISTAYLQWSSLKASDTAMYYC', 'CDR3': 'ASSGCSGGSCYSGGGPFY', 'FWK4': 'WGQGTLVTVSS'}\n",
      "QVQLVQSGAEVKKPGASVKVSCKASGYTFTNFGISWVRQAPGQGLEWMGWISAYNGNTNYAQRLQGRVTMTTDTSTSTAYMELRSLRSDDTAVYYCARLWSTGYQGDDAFDIWGQGTMVTVSS\n",
      "{'FWK1': (0, 25), 'CDR1': (25, 33), 'FWK2': (33, 50), 'CDR2': (50, 58), 'FWK3': (58, 96), 'CDR3': (96, 112), 'FWK4': (112, 123)}\n",
      "{'FWK1': 'QVQLVQSGAEVKKPGASVKVSCKAS', 'CDR1': 'GYTFTNFG', 'FWK2': 'ISWVRQAPGQGLEWMGW', 'CDR2': 'ISAYNGNT', 'FWK3': 'NYAQRLQGRVTMTTDTSTSTAYMELRSLRSDDTAVYYC', 'CDR3': 'ARLWSTGYQGDDAFDI', 'FWK4': 'WGQGTMVTVSS'}\n",
      "EVQLLESGGGLVQPGGSLRLSCAASGFTFSSYAMSWVRQAPGKGLEWVSAISGSGGSTYYADSVKGRFTISRDNSKNTLYLQMNSLRAEDTAVYYCAKFKWLVFSFDYWGQGTLVTVSS\n",
      "{'FWK1': (0, 25), 'CDR1': (25, 33), 'FWK2': (33, 50), 'CDR2': (50, 58), 'FWK3': (58, 96), 'CDR3': (96, 108), 'FWK4': (108, 119)}\n",
      "{'FWK1': 'EVQLLESGGGLVQPGGSLRLSCAAS', 'CDR1': 'GFTFSSYA', 'FWK2': 'MSWVRQAPGKGLEWVSA', 'CDR2': 'ISGSGGST', 'FWK3': 'YYADSVKGRFTISRDNSKNTLYLQMNSLRAEDTAVYYC', 'CDR3': 'AKFKWLVFSFDY', 'FWK4': 'WGQGTLVTVSS'}\n"
     ]
    }
   ],
   "source": [
    "for index, row in test_pcp_df.iterrows():\n",
    "    print(row['parent_aa'])\n",
    "    # print(row['cdr1_codon_start']/3, row['cdr1_codon_end']/3, row['cdr2_codon_start']/3, row['cdr2_codon_end']/3, row['cdr3_codon_start']/3, row['cdr3_codon_end']/3)\n",
    "    regions = aa_regions_of_row(row)\n",
    "    print(regions)\n",
    "    seq_by_region = aa_seq_by_region(row['parent_aa'], regions)\n",
    "    print(seq_by_region)\n",
    "    parent_fwk_seq, parent_cdr_seq, child_fwk_seq, child_cdr_seq = get_cdr_fwk_seqs(row)\n",
    "    # print(parent_fwk_seq) \n",
    "    # print(parent_cdr_seq)\n",
    "    # print(child_fwk_seq)\n",
    "    # print(child_cdr_seq)"
   ]
  },
  {
   "cell_type": "code",
   "execution_count": null,
   "metadata": {},
   "outputs": [],
   "source": [
    "test_pcp_df['parent_fwk_seq'], test_pcp_df['parent_cdr_seq'], test_pcp_df['child_fwk_seq'], test_pcp_df['child_cdr_seq'] = zip(*test_pcp_df.apply(get_cdr_fwk_seqs, axis=1))\n",
    "print(test_pcp_df.columns)"
   ]
  },
  {
   "cell_type": "code",
   "execution_count": 7,
   "metadata": {},
   "outputs": [
    {
     "data": {
      "text/plain": [
       "{'data_set': 'pcp_inputs/ford-flairr-seq-prod_pcp_2024-04-01_MASKED_NI_noN_no-naive.csv',\n",
       " 'pcp_count': 3111,\n",
       " 'model': 'SHMple_default',\n",
       " 'sub_accuracy': 0.2986861313868613,\n",
       " 'r_precision': 0.13222031962297245,\n",
       " 'cross_entropy': 0.14771044408299822,\n",
       " 'fwk_sub_accuracy': 0.333164351617155,\n",
       " 'fwk_r_precision': 0.13147488708342037,\n",
       " 'fwk_cross_entropy': 0.09313059112880417,\n",
       " 'cdr_sub_accuracy': 0.2518589920132195,\n",
       " 'cdr_r_precision': 0.2067651338260777,\n",
       " 'cdr_cross_entropy': 0.05457985264522234,\n",
       " 'avg_k_subs': 5.504660880745741,\n",
       " 'avg_k_fwk_subs': 3.1703632272581164,\n",
       " 'avg_k_cdr_subs': 2.3342976534876247}"
      ]
     },
     "execution_count": 7,
     "metadata": {},
     "output_type": "execute_result"
    }
   ],
   "source": [
    "ev.evaluate_dataset_by_region(test_aaprob_path)"
   ]
  },
  {
   "cell_type": "code",
   "execution_count": 9,
   "metadata": {},
   "outputs": [],
   "source": [
    "def evaluate_all_models(aaprob_paths, model_performance_path):\n",
    "    \"\"\"\n",
    "    Wrapper function for evaluate_dataset() that takes in a list of aaprob matrices and outputs a CSV of model performance metrics.\n",
    "    Outputs to CSV file with columns for the different metrics and a row per model/data set combo.\n",
    "\n",
    "    Parameters:\n",
    "    aaprob_paths (list): List of paths to evaluate. Each aaprob matrix corresponds to predictions for one model on a given data set.\n",
    "    model_performance_path (str): Path to output for model performance metrics.\n",
    "\n",
    "    \"\"\"\n",
    "    model_performances = [ev.evaluate_dataset_by_region(aaprob_path) for aaprob_path in aaprob_paths]\n",
    "\n",
    "    all_model_performances = pd.DataFrame(model_performances)\n",
    "\n",
    "    all_model_performances.to_csv(model_performance_path, index=False)"
   ]
  },
  {
   "cell_type": "code",
   "execution_count": 13,
   "metadata": {},
   "outputs": [],
   "source": [
    "flairr = 'output/ford-flairr-seq-prod_pcp_2024-04-01_MASKED_NI_noN_no-naive/'\n",
    "race = 'output/rodriguez-airr-seq-race-prod_pcp_2024-04-01_MASKED_NI_noN_no-naive/'\n",
    "wyatt = 'output/wyatt-10x-1p5m_pcp_2024-04-01_NI_noN_no-naive/'\n",
    "tang = 'output/tang-deepshm-prod_pcp_2024-04-01_MASKED_NI_noN_no-naive_rearranged/'\n",
    "ablang1 = 'set1/AbLang1/'\n",
    "ablang2_mask = 'set1/AbLang2_mask/'\n",
    "ablang2_wt = 'set1/AbLang2_wt/'\n",
    "esm = 'set1/ESM1v_mask/'\n",
    "shmple = 'set2/SHMple_default/'\n",
    "shmple_prod = 'set2/SHMple_productive/'\n",
    "shmple_esm = 'set3/SHMpleESM_mask/'\n",
    "flairr_models = [f\"{flairr}{ablang1}combined_aaprob.hdf5\", f\"{flairr}{ablang2_mask}combined_aaprob.hdf5\", f\"{flairr}{ablang2_wt}combined_aaprob.hdf5\", f\"{flairr}{esm}combined_aaprob.hdf5\", f\"{flairr}{shmple}combined_aaprob.hdf5\", f\"{flairr}{shmple_prod}combined_aaprob.hdf5\", f\"{flairr}{shmple_esm}combined_aaprob.hdf5\"]\n",
    "race_models = [f\"{race}{ablang1}combined_aaprob.hdf5\", f\"{race}{ablang2_mask}combined_aaprob.hdf5\",  f\"{race}{ablang2_wt}combined_aaprob.hdf5\", f\"{race}{esm}combined_aaprob.hdf5\", f\"{race}{shmple}combined_aaprob.hdf5\", f\"{race}{shmple_prod}combined_aaprob.hdf5\", f\"{race}{shmple_esm}combined_aaprob.hdf5\"]\n",
    "wyatt_models = [f\"{wyatt}{ablang1}combined_aaprob.hdf5\", f\"{wyatt}{ablang2_mask}combined_aaprob.hdf5\", f\"{wyatt}{ablang2_wt}combined_aaprob.hdf5\", f\"{wyatt}{esm}combined_aaprob.hdf5\", f\"{wyatt}{shmple}combined_aaprob.hdf5\", f\"{wyatt}{shmple_prod}combined_aaprob.hdf5\", f\"{wyatt}{shmple_esm}combined_aaprob.hdf5\"]\n",
    "tang_models = [f\"{tang}{ablang1}combined_aaprob.hdf5\", f\"{tang}{ablang2_mask}combined_aaprob.hdf5\", f\"{tang}{ablang2_wt}combined_aaprob.hdf5\", f\"{tang}{esm}combined_aaprob.hdf5\", f\"{tang}{shmple}combined_aaprob.hdf5\", f\"{tang}{shmple_prod}combined_aaprob.hdf5\", f\"{tang}{shmple_esm}combined_aaprob.hdf5\"]\n",
    "flairr_out = f\"{flairr}combined_performance_by_region.csv\"\n",
    "race_out = f\"{race}combined_performance_by_region.csv\"\n",
    "wyatt_out = f\"{wyatt}combined_performance_by_region.csv\"\n",
    "tang_out = f\"{tang}combined_performance_by_region.csv\""
   ]
  },
  {
   "cell_type": "code",
   "execution_count": 14,
   "metadata": {},
   "outputs": [
    {
     "name": "stdout",
     "output_type": "stream",
     "text": [
      "['output/ford-flairr-seq-prod_pcp_2024-04-01_MASKED_NI_noN_no-naive/set1/AbLang1/combined_aaprob.hdf5', 'output/ford-flairr-seq-prod_pcp_2024-04-01_MASKED_NI_noN_no-naive/set1/AbLang2_mask/combined_aaprob.hdf5', 'output/ford-flairr-seq-prod_pcp_2024-04-01_MASKED_NI_noN_no-naive/set1/AbLang2_wt/combined_aaprob.hdf5', 'output/ford-flairr-seq-prod_pcp_2024-04-01_MASKED_NI_noN_no-naive/set1/ESM1v_mask/combined_aaprob.hdf5', 'output/ford-flairr-seq-prod_pcp_2024-04-01_MASKED_NI_noN_no-naive/set2/SHMple_default/combined_aaprob.hdf5', 'output/ford-flairr-seq-prod_pcp_2024-04-01_MASKED_NI_noN_no-naive/set2/SHMple_productive/combined_aaprob.hdf5', 'output/ford-flairr-seq-prod_pcp_2024-04-01_MASKED_NI_noN_no-naive/set3/SHMpleESM_mask/combined_aaprob.hdf5']\n"
     ]
    }
   ],
   "source": [
    "print(flairr_models)"
   ]
  },
  {
   "cell_type": "code",
   "execution_count": 15,
   "metadata": {},
   "outputs": [],
   "source": [
    "evaluate_all_models(flairr_models, flairr_out)"
   ]
  },
  {
   "cell_type": "code",
   "execution_count": 16,
   "metadata": {},
   "outputs": [],
   "source": [
    "evaluate_all_models(race_models, race_out)"
   ]
  },
  {
   "cell_type": "code",
   "execution_count": 17,
   "metadata": {},
   "outputs": [],
   "source": [
    "evaluate_all_models(wyatt_models, wyatt_out)"
   ]
  },
  {
   "cell_type": "code",
   "execution_count": null,
   "metadata": {},
   "outputs": [],
   "source": [
    "evaluate_all_models(tang_models, tang_out)"
   ]
  }
 ],
 "metadata": {
  "kernelspec": {
   "display_name": "epam",
   "language": "python",
   "name": "python3"
  },
  "language_info": {
   "codemirror_mode": {
    "name": "ipython",
    "version": 3
   },
   "file_extension": ".py",
   "mimetype": "text/x-python",
   "name": "python",
   "nbconvert_exporter": "python",
   "pygments_lexer": "ipython3",
   "version": "3.9.18"
  }
 },
 "nbformat": 4,
 "nbformat_minor": 2
}
