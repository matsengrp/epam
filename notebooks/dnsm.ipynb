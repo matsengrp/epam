{
 "cells": [
  {
   "cell_type": "code",
   "execution_count": 1,
   "metadata": {},
   "outputs": [],
   "source": [
    "import pandas as pd\n",
    "\n",
    "import torch\n",
    "from epam.dnsm import TransformerBinarySelectionModel, DNSMBurrito\n",
    "from epam.sequences import translate_sequences"
   ]
  },
  {
   "cell_type": "code",
   "execution_count": 2,
   "metadata": {},
   "outputs": [
    {
     "name": "stdout",
     "output_type": "stream",
     "text": [
      "We have 10000 PCPs.\n"
     ]
    }
   ],
   "source": [
    "pcp_df = pd.read_csv(\"~/data/wyatt-10x-1p5m_pcp_2023-10-07.csv\")\n",
    "\n",
    "# filter out rows of pcp_df where the parent and child sequences are identical\n",
    "pcp_df = pcp_df[pcp_df[\"parent\"] != pcp_df[\"child\"]]\n",
    "\n",
    "# NOTE downsampling here\n",
    "pcp_df = pcp_df.sample(50000, random_state=42)\n",
    "\n",
    "print(f\"We have {len(pcp_df)} PCPs.\")"
   ]
  },
  {
   "cell_type": "code",
   "execution_count": 3,
   "metadata": {},
   "outputs": [
    {
     "name": "stdout",
     "output_type": "stream",
     "text": [
      "Using Metal Performance Shaders\n",
      "preparing data...\n"
     ]
    },
    {
     "name": "stderr",
     "output_type": "stream",
     "text": [
      "WARNING:absl:At this time, the v2.11+ optimizer `tf.keras.optimizers.RestoredOptimizer` runs slowly on M1/M2 Macs, please use the legacy Keras optimizer instead, located at `tf.keras.optimizers.legacy.RestoredOptimizer`.\n",
      "WARNING:absl:At this time, the v2.11+ optimizer `tf.keras.optimizers.Nadam` runs slowly on M1/M2 Macs, please use the legacy Keras optimizer instead, located at `tf.keras.optimizers.legacy.Nadam`.\n",
      "WARNING:absl:There is a known slowdown when using v2.11+ Keras optimizers on M1/M2 Macs. Falling back to the legacy Keras optimizer, i.e., `tf.keras.optimizers.legacy.Nadam`.\n",
      "WARNING:absl:At this time, the v2.11+ optimizer `tf.keras.optimizers.RestoredOptimizer` runs slowly on M1/M2 Macs, please use the legacy Keras optimizer instead, located at `tf.keras.optimizers.legacy.RestoredOptimizer`.\n",
      "WARNING:absl:At this time, the v2.11+ optimizer `tf.keras.optimizers.Nadam` runs slowly on M1/M2 Macs, please use the legacy Keras optimizer instead, located at `tf.keras.optimizers.legacy.Nadam`.\n",
      "WARNING:absl:There is a known slowdown when using v2.11+ Keras optimizers on M1/M2 Macs. Falling back to the legacy Keras optimizer, i.e., `tf.keras.optimizers.legacy.Nadam`.\n"
     ]
    },
    {
     "name": "stdout",
     "output_type": "stream",
     "text": [
      "predicting mutabilities and substitutions...\n",
      "consolidating this into substitution probabilities...\n",
      "predicting mutabilities and substitutions...\n",
      "consolidating this into substitution probabilities...\n",
      "Epoch [0/2], Training Loss: 0.1435251580774784, Validation Loss: 0.14579082410486918\n",
      "training model...\n",
      "Epoch [1/2], Training Loss: 0.14815275371074677, Validation Loss: 0.1444963663816452\n",
      "Epoch [2/2], Training Loss: 0.1632801592350006, Validation Loss: 0.1445528772615251\n"
     ]
    },
    {
     "name": "stderr",
     "output_type": "stream",
     "text": [
      "Finding optimal branch lengths:   1%|          | 51/8000 [00:05<11:18, 11.71it/s] "
     ]
    },
    {
     "name": "stdout",
     "output_type": "stream",
     "text": [
      "BAD! log_branch_scaling is nan on step 2\n"
     ]
    },
    {
     "name": "stderr",
     "output_type": "stream",
     "text": [
      "Finding optimal branch lengths:   3%|▎         | 263/8000 [00:32<25:16,  5.10it/s]"
     ]
    },
    {
     "name": "stdout",
     "output_type": "stream",
     "text": [
      "BAD! log_branch_scaling is nan on step 2\n"
     ]
    },
    {
     "name": "stderr",
     "output_type": "stream",
     "text": [
      "Finding optimal branch lengths:   4%|▍         | 334/8000 [00:40<11:41, 10.92it/s]"
     ]
    },
    {
     "name": "stdout",
     "output_type": "stream",
     "text": [
      "BAD! log_branch_scaling is nan on step 3\n"
     ]
    },
    {
     "name": "stderr",
     "output_type": "stream",
     "text": [
      "Finding optimal branch lengths:   5%|▌         | 426/8000 [00:47<10:37, 11.88it/s]"
     ]
    },
    {
     "name": "stdout",
     "output_type": "stream",
     "text": [
      "BAD! log_branch_scaling is nan on step 3\n"
     ]
    },
    {
     "name": "stderr",
     "output_type": "stream",
     "text": [
      "Finding optimal branch lengths:  11%|█         | 878/8000 [01:36<12:14,  9.69it/s]"
     ]
    },
    {
     "name": "stdout",
     "output_type": "stream",
     "text": [
      "BAD! log_branch_scaling is nan on step 2\n"
     ]
    },
    {
     "name": "stderr",
     "output_type": "stream",
     "text": [
      "Finding optimal branch lengths:  13%|█▎        | 1037/8000 [01:53<09:28, 12.25it/s]"
     ]
    },
    {
     "name": "stdout",
     "output_type": "stream",
     "text": [
      "BAD! log_branch_scaling is nan on step 3\n"
     ]
    },
    {
     "name": "stderr",
     "output_type": "stream",
     "text": [
      "Finding optimal branch lengths:  15%|█▌        | 1234/8000 [02:17<09:32, 11.82it/s]"
     ]
    },
    {
     "name": "stdout",
     "output_type": "stream",
     "text": [
      "BAD! log_branch_scaling is nan on step 2\n"
     ]
    },
    {
     "name": "stderr",
     "output_type": "stream",
     "text": [
      "Finding optimal branch lengths:  19%|█▉        | 1542/8000 [02:54<15:27,  6.97it/s]"
     ]
    },
    {
     "name": "stdout",
     "output_type": "stream",
     "text": [
      "BAD! log_branch_scaling is nan on step 2\n"
     ]
    },
    {
     "name": "stderr",
     "output_type": "stream",
     "text": [
      "Finding optimal branch lengths:  21%|██▏       | 1706/8000 [03:11<12:15,  8.56it/s]"
     ]
    },
    {
     "name": "stdout",
     "output_type": "stream",
     "text": [
      "BAD! log_branch_scaling is nan on step 2\n"
     ]
    },
    {
     "name": "stderr",
     "output_type": "stream",
     "text": [
      "Finding optimal branch lengths:  22%|██▏       | 1754/8000 [03:15<07:39, 13.58it/s]"
     ]
    },
    {
     "name": "stdout",
     "output_type": "stream",
     "text": [
      "BAD! log_branch_scaling is nan on step 3\n"
     ]
    },
    {
     "name": "stderr",
     "output_type": "stream",
     "text": [
      "Finding optimal branch lengths:  22%|██▎       | 1800/8000 [03:20<10:18, 10.03it/s]"
     ]
    },
    {
     "name": "stdout",
     "output_type": "stream",
     "text": [
      "BAD! log_branch_scaling is nan on step 2\n"
     ]
    },
    {
     "name": "stderr",
     "output_type": "stream",
     "text": [
      "Finding optimal branch lengths:  24%|██▍       | 1902/8000 [03:32<09:01, 11.27it/s]"
     ]
    },
    {
     "name": "stdout",
     "output_type": "stream",
     "text": [
      "BAD! log_branch_scaling is nan on step 2\n"
     ]
    },
    {
     "name": "stderr",
     "output_type": "stream",
     "text": [
      "Finding optimal branch lengths:  28%|██▊       | 2272/8000 [04:11<08:27, 11.29it/s]"
     ]
    },
    {
     "name": "stdout",
     "output_type": "stream",
     "text": [
      "BAD! log_branch_scaling is nan on step 2\n"
     ]
    },
    {
     "name": "stderr",
     "output_type": "stream",
     "text": [
      "Finding optimal branch lengths:  29%|██▊       | 2293/8000 [04:14<11:27,  8.31it/s]"
     ]
    },
    {
     "name": "stdout",
     "output_type": "stream",
     "text": [
      "BAD! log_branch_scaling is nan on step 2\n"
     ]
    },
    {
     "name": "stderr",
     "output_type": "stream",
     "text": [
      "Finding optimal branch lengths:  29%|██▉       | 2303/8000 [04:15<07:22, 12.86it/s]"
     ]
    },
    {
     "name": "stdout",
     "output_type": "stream",
     "text": [
      "BAD! log_branch_scaling is nan on step 2\n"
     ]
    },
    {
     "name": "stderr",
     "output_type": "stream",
     "text": [
      "Finding optimal branch lengths:  30%|██▉       | 2367/8000 [04:22<10:34,  8.88it/s]"
     ]
    },
    {
     "name": "stdout",
     "output_type": "stream",
     "text": [
      "BAD! log_branch_scaling is nan on step 2\n"
     ]
    },
    {
     "name": "stderr",
     "output_type": "stream",
     "text": [
      "Finding optimal branch lengths:  31%|███▏      | 2510/8000 [04:37<07:19, 12.48it/s]"
     ]
    },
    {
     "name": "stdout",
     "output_type": "stream",
     "text": [
      "BAD! log_branch_scaling is nan on step 2\n"
     ]
    },
    {
     "name": "stderr",
     "output_type": "stream",
     "text": [
      "Finding optimal branch lengths:  34%|███▍      | 2708/8000 [05:03<08:34, 10.29it/s]"
     ]
    },
    {
     "name": "stdout",
     "output_type": "stream",
     "text": [
      "BAD! log_branch_scaling is nan on step 3\n"
     ]
    },
    {
     "name": "stderr",
     "output_type": "stream",
     "text": [
      "Finding optimal branch lengths:  36%|███▌      | 2892/8000 [05:25<06:43, 12.66it/s]"
     ]
    },
    {
     "name": "stdout",
     "output_type": "stream",
     "text": [
      "BAD! log_branch_scaling is nan on step 2\n"
     ]
    },
    {
     "name": "stderr",
     "output_type": "stream",
     "text": [
      "Finding optimal branch lengths:  40%|███▉      | 3198/8000 [05:58<05:49, 13.74it/s]"
     ]
    },
    {
     "name": "stdout",
     "output_type": "stream",
     "text": [
      "BAD! log_branch_scaling is nan on step 2\n"
     ]
    },
    {
     "name": "stderr",
     "output_type": "stream",
     "text": [
      "Finding optimal branch lengths:  42%|████▏     | 3399/8000 [06:22<07:53,  9.72it/s]"
     ]
    },
    {
     "name": "stdout",
     "output_type": "stream",
     "text": [
      "BAD! log_branch_scaling is nan on step 2\n"
     ]
    },
    {
     "name": "stderr",
     "output_type": "stream",
     "text": [
      "Finding optimal branch lengths:  47%|████▋     | 3741/8000 [07:02<07:11,  9.86it/s]"
     ]
    },
    {
     "name": "stdout",
     "output_type": "stream",
     "text": [
      "BAD! log_branch_scaling is nan on step 2\n"
     ]
    },
    {
     "name": "stderr",
     "output_type": "stream",
     "text": [
      "Finding optimal branch lengths:  48%|████▊     | 3843/8000 [07:15<09:17,  7.46it/s]"
     ]
    },
    {
     "name": "stdout",
     "output_type": "stream",
     "text": [
      "BAD! log_branch_scaling is nan on step 2\n",
      "BAD! log_branch_scaling is nan on step 2\n"
     ]
    },
    {
     "name": "stderr",
     "output_type": "stream",
     "text": [
      "Finding optimal branch lengths:  55%|█████▍    | 4363/8000 [08:16<09:26,  6.42it/s]"
     ]
    },
    {
     "name": "stdout",
     "output_type": "stream",
     "text": [
      "BAD! log_branch_scaling is nan on step 2\n"
     ]
    },
    {
     "name": "stderr",
     "output_type": "stream",
     "text": [
      "Finding optimal branch lengths:  63%|██████▎   | 5004/8000 [09:33<03:56, 12.65it/s]"
     ]
    },
    {
     "name": "stdout",
     "output_type": "stream",
     "text": [
      "BAD! log_branch_scaling is nan on step 3\n"
     ]
    },
    {
     "name": "stderr",
     "output_type": "stream",
     "text": [
      "Finding optimal branch lengths:  69%|██████▉   | 5506/8000 [10:32<03:27, 12.05it/s]"
     ]
    },
    {
     "name": "stdout",
     "output_type": "stream",
     "text": [
      "BAD! log_branch_scaling is nan on step 3\n"
     ]
    },
    {
     "name": "stderr",
     "output_type": "stream",
     "text": [
      "Finding optimal branch lengths:  73%|███████▎  | 5875/8000 [11:16<04:22,  8.10it/s]"
     ]
    },
    {
     "name": "stdout",
     "output_type": "stream",
     "text": [
      "BAD! log_branch_scaling is nan on step 2\n"
     ]
    },
    {
     "name": "stderr",
     "output_type": "stream",
     "text": [
      "Finding optimal branch lengths:  78%|███████▊  | 6213/8000 [11:58<02:48, 10.62it/s]"
     ]
    },
    {
     "name": "stdout",
     "output_type": "stream",
     "text": [
      "BAD! log_branch_scaling is nan on step 2\n"
     ]
    },
    {
     "name": "stderr",
     "output_type": "stream",
     "text": [
      "Finding optimal branch lengths:  78%|███████▊  | 6239/8000 [12:01<02:53, 10.16it/s]"
     ]
    },
    {
     "name": "stdout",
     "output_type": "stream",
     "text": [
      "BAD! log_branch_scaling is nan on step 2\n"
     ]
    },
    {
     "name": "stderr",
     "output_type": "stream",
     "text": [
      "Finding optimal branch lengths:  78%|███████▊  | 6247/8000 [12:02<02:40, 10.95it/s]"
     ]
    },
    {
     "name": "stdout",
     "output_type": "stream",
     "text": [
      "BAD! log_branch_scaling is nan on step 3\n"
     ]
    },
    {
     "name": "stderr",
     "output_type": "stream",
     "text": [
      "Finding optimal branch lengths:  79%|███████▊  | 6281/8000 [12:06<02:29, 11.50it/s]"
     ]
    },
    {
     "name": "stdout",
     "output_type": "stream",
     "text": [
      "BAD! log_branch_scaling is nan on step 2\n"
     ]
    },
    {
     "name": "stderr",
     "output_type": "stream",
     "text": [
      "Finding optimal branch lengths:  80%|████████  | 6425/8000 [12:22<02:05, 12.55it/s]"
     ]
    },
    {
     "name": "stdout",
     "output_type": "stream",
     "text": [
      "BAD! log_branch_scaling is nan on step 2\n",
      "BAD! log_branch_scaling is nan on step 3\n"
     ]
    },
    {
     "name": "stderr",
     "output_type": "stream",
     "text": [
      "Finding optimal branch lengths:  86%|████████▌ | 6873/8000 [13:15<01:33, 12.04it/s]"
     ]
    },
    {
     "name": "stdout",
     "output_type": "stream",
     "text": [
      "BAD! log_branch_scaling is nan on step 2\n"
     ]
    },
    {
     "name": "stderr",
     "output_type": "stream",
     "text": [
      "Finding optimal branch lengths:  87%|████████▋ | 6989/8000 [13:30<01:41, 10.00it/s]"
     ]
    },
    {
     "name": "stdout",
     "output_type": "stream",
     "text": [
      "BAD! log_branch_scaling is nan on step 2\n"
     ]
    },
    {
     "name": "stderr",
     "output_type": "stream",
     "text": [
      "Finding optimal branch lengths:  88%|████████▊ | 7013/8000 [13:32<01:25, 11.53it/s]"
     ]
    },
    {
     "name": "stdout",
     "output_type": "stream",
     "text": [
      "BAD! log_branch_scaling is nan on step 2\n"
     ]
    },
    {
     "name": "stderr",
     "output_type": "stream",
     "text": [
      "Finding optimal branch lengths:  90%|████████▉ | 7171/8000 [13:49<01:17, 10.64it/s]"
     ]
    },
    {
     "name": "stdout",
     "output_type": "stream",
     "text": [
      "BAD! log_branch_scaling is nan on step 2\n"
     ]
    },
    {
     "name": "stderr",
     "output_type": "stream",
     "text": [
      "Finding optimal branch lengths:  91%|█████████▏| 7310/8000 [14:07<00:56, 12.27it/s]"
     ]
    },
    {
     "name": "stdout",
     "output_type": "stream",
     "text": [
      "BAD! log_branch_scaling is nan on step 2\n"
     ]
    },
    {
     "name": "stderr",
     "output_type": "stream",
     "text": [
      "Finding optimal branch lengths:  98%|█████████▊| 7805/8000 [15:09<00:17, 11.38it/s]"
     ]
    },
    {
     "name": "stdout",
     "output_type": "stream",
     "text": [
      "BAD! log_branch_scaling is nan on step 2\n"
     ]
    },
    {
     "name": "stderr",
     "output_type": "stream",
     "text": [
      "Finding optimal branch lengths: 100%|██████████| 8000/8000 [15:33<00:00,  8.57it/s]\n"
     ]
    },
    {
     "name": "stdout",
     "output_type": "stream",
     "text": [
      "predicting mutabilities and substitutions...\n",
      "consolidating this into substitution probabilities...\n"
     ]
    },
    {
     "name": "stderr",
     "output_type": "stream",
     "text": [
      "Finding optimal branch lengths:   8%|▊         | 151/2000 [00:17<02:39, 11.61it/s]"
     ]
    },
    {
     "name": "stdout",
     "output_type": "stream",
     "text": [
      "BAD! log_branch_scaling is nan on step 2\n"
     ]
    },
    {
     "name": "stderr",
     "output_type": "stream",
     "text": [
      "Finding optimal branch lengths:  27%|██▋       | 531/2000 [01:02<02:13, 10.99it/s]"
     ]
    },
    {
     "name": "stdout",
     "output_type": "stream",
     "text": [
      "BAD! log_branch_scaling is nan on step 15\n"
     ]
    },
    {
     "name": "stderr",
     "output_type": "stream",
     "text": [
      "Finding optimal branch lengths:  52%|█████▏    | 1033/2000 [02:03<01:41,  9.54it/s]"
     ]
    },
    {
     "name": "stdout",
     "output_type": "stream",
     "text": [
      "BAD! log_branch_scaling is nan on step 2\n",
      "BAD! log_branch_scaling is nan on step 2\n"
     ]
    },
    {
     "name": "stderr",
     "output_type": "stream",
     "text": [
      "Finding optimal branch lengths:  61%|██████▏   | 1228/2000 [02:25<01:45,  7.31it/s]"
     ]
    },
    {
     "name": "stdout",
     "output_type": "stream",
     "text": [
      "BAD! log_branch_scaling is nan on step 2\n"
     ]
    },
    {
     "name": "stderr",
     "output_type": "stream",
     "text": [
      "Finding optimal branch lengths: 100%|██████████| 2000/2000 [03:58<00:00,  8.37it/s]\n"
     ]
    },
    {
     "name": "stdout",
     "output_type": "stream",
     "text": [
      "predicting mutabilities and substitutions...\n",
      "consolidating this into substitution probabilities...\n",
      "Epoch [0/10], Training Loss: 0.4978397264480591, Validation Loss: 0.5031928424797361\n",
      "training model...\n",
      "Epoch [1/10], Training Loss: 0.17579621076583862, Validation Loss: 0.16109366076333181\n",
      "Epoch [2/10], Training Loss: 0.12664349377155304, Validation Loss: 0.16105471764292037\n",
      "Epoch [3/10], Training Loss: 0.16509360074996948, Validation Loss: 0.16117144671697464\n",
      "Epoch [4/10], Training Loss: 0.15857934951782227, Validation Loss: 0.16105272715526914\n",
      "Epoch [5/10], Training Loss: 0.17863130569458008, Validation Loss: 0.16109320686923134\n",
      "Epoch [6/10], Training Loss: 0.12091756612062454, Validation Loss: 0.16122472522750733\n",
      "Epoch [7/10], Training Loss: 0.18529096245765686, Validation Loss: 0.16105348096480446\n",
      "Epoch [8/10], Training Loss: 0.18440625071525574, Validation Loss: 0.16103634321027332\n",
      "Epoch [9/10], Training Loss: 0.1375570446252823, Validation Loss: 0.16098593400111275\n",
      "Epoch [10/10], Training Loss: 0.166195809841156, Validation Loss: 0.16096501655521847\n"
     ]
    },
    {
     "name": "stderr",
     "output_type": "stream",
     "text": [
      "Finding optimal branch lengths:   1%|          | 50/8000 [00:03<09:59, 13.26it/s]"
     ]
    },
    {
     "name": "stdout",
     "output_type": "stream",
     "text": [
      "BAD! log_branch_scaling is nan on step 3\n"
     ]
    },
    {
     "name": "stderr",
     "output_type": "stream",
     "text": [
      "Finding optimal branch lengths:   3%|▎         | 265/8000 [00:24<09:33, 13.49it/s]"
     ]
    },
    {
     "name": "stdout",
     "output_type": "stream",
     "text": [
      "BAD! log_branch_scaling is nan on step 2\n"
     ]
    },
    {
     "name": "stderr",
     "output_type": "stream",
     "text": [
      "Finding optimal branch lengths:   4%|▍         | 335/8000 [00:31<11:09, 11.45it/s]"
     ]
    },
    {
     "name": "stdout",
     "output_type": "stream",
     "text": [
      "BAD! log_branch_scaling is nan on step 3\n"
     ]
    },
    {
     "name": "stderr",
     "output_type": "stream",
     "text": [
      "Finding optimal branch lengths:   5%|▌         | 429/8000 [00:38<09:25, 13.40it/s]"
     ]
    },
    {
     "name": "stdout",
     "output_type": "stream",
     "text": [
      "BAD! log_branch_scaling is nan on step 3\n"
     ]
    },
    {
     "name": "stderr",
     "output_type": "stream",
     "text": [
      "Finding optimal branch lengths:  11%|█         | 878/8000 [01:19<12:32,  9.47it/s]"
     ]
    },
    {
     "name": "stdout",
     "output_type": "stream",
     "text": [
      "BAD! log_branch_scaling is nan on step 2\n"
     ]
    },
    {
     "name": "stderr",
     "output_type": "stream",
     "text": [
      "Finding optimal branch lengths:  19%|█▉        | 1542/8000 [02:21<07:54, 13.60it/s]"
     ]
    },
    {
     "name": "stdout",
     "output_type": "stream",
     "text": [
      "BAD! log_branch_scaling is nan on step 2\n"
     ]
    },
    {
     "name": "stderr",
     "output_type": "stream",
     "text": [
      "Finding optimal branch lengths:  21%|██▏       | 1706/8000 [02:35<08:30, 12.32it/s]"
     ]
    },
    {
     "name": "stdout",
     "output_type": "stream",
     "text": [
      "BAD! log_branch_scaling is nan on step 2\n"
     ]
    },
    {
     "name": "stderr",
     "output_type": "stream",
     "text": [
      "Finding optimal branch lengths:  24%|██▍       | 1904/8000 [02:52<07:25, 13.69it/s]"
     ]
    },
    {
     "name": "stdout",
     "output_type": "stream",
     "text": [
      "BAD! log_branch_scaling is nan on step 2\n"
     ]
    },
    {
     "name": "stderr",
     "output_type": "stream",
     "text": [
      "Finding optimal branch lengths:  28%|██▊       | 2272/8000 [03:24<09:37,  9.92it/s]"
     ]
    },
    {
     "name": "stdout",
     "output_type": "stream",
     "text": [
      "BAD! log_branch_scaling is nan on step 2\n"
     ]
    },
    {
     "name": "stderr",
     "output_type": "stream",
     "text": [
      "Finding optimal branch lengths:  29%|██▉       | 2303/8000 [03:27<08:00, 11.85it/s]"
     ]
    },
    {
     "name": "stdout",
     "output_type": "stream",
     "text": [
      "BAD! log_branch_scaling is nan on step 2\n"
     ]
    },
    {
     "name": "stderr",
     "output_type": "stream",
     "text": [
      "Finding optimal branch lengths:  31%|███▏      | 2510/8000 [03:45<06:58, 13.11it/s]"
     ]
    },
    {
     "name": "stdout",
     "output_type": "stream",
     "text": [
      "BAD! log_branch_scaling is nan on step 2\n"
     ]
    },
    {
     "name": "stderr",
     "output_type": "stream",
     "text": [
      "Finding optimal branch lengths:  36%|███▌      | 2892/8000 [04:25<07:26, 11.43it/s]"
     ]
    },
    {
     "name": "stdout",
     "output_type": "stream",
     "text": [
      "BAD! log_branch_scaling is nan on step 2\n"
     ]
    },
    {
     "name": "stderr",
     "output_type": "stream",
     "text": [
      "Finding optimal branch lengths:  42%|████▎     | 3400/8000 [05:09<06:46, 11.32it/s]"
     ]
    },
    {
     "name": "stdout",
     "output_type": "stream",
     "text": [
      "BAD! log_branch_scaling is nan on step 3\n"
     ]
    },
    {
     "name": "stderr",
     "output_type": "stream",
     "text": [
      "Finding optimal branch lengths:  47%|████▋     | 3741/8000 [05:39<06:45, 10.51it/s]"
     ]
    },
    {
     "name": "stdout",
     "output_type": "stream",
     "text": [
      "BAD! log_branch_scaling is nan on step 16\n"
     ]
    },
    {
     "name": "stderr",
     "output_type": "stream",
     "text": [
      "Finding optimal branch lengths:  48%|████▊     | 3843/8000 [05:48<07:34,  9.15it/s]"
     ]
    },
    {
     "name": "stdout",
     "output_type": "stream",
     "text": [
      "BAD! log_branch_scaling is nan on step 2\n",
      "BAD! log_branch_scaling is nan on step 2\n"
     ]
    },
    {
     "name": "stderr",
     "output_type": "stream",
     "text": [
      "Finding optimal branch lengths:  69%|██████▉   | 5508/8000 [08:19<03:21, 12.34it/s]"
     ]
    },
    {
     "name": "stdout",
     "output_type": "stream",
     "text": [
      "BAD! log_branch_scaling is nan on step 11\n"
     ]
    },
    {
     "name": "stderr",
     "output_type": "stream",
     "text": [
      "Finding optimal branch lengths:  78%|███████▊  | 6213/8000 [09:24<02:17, 13.01it/s]"
     ]
    },
    {
     "name": "stdout",
     "output_type": "stream",
     "text": [
      "BAD! log_branch_scaling is nan on step 2\n"
     ]
    },
    {
     "name": "stderr",
     "output_type": "stream",
     "text": [
      "Finding optimal branch lengths:  78%|███████▊  | 6239/8000 [09:26<02:31, 11.65it/s]"
     ]
    },
    {
     "name": "stdout",
     "output_type": "stream",
     "text": [
      "BAD! log_branch_scaling is nan on step 3\n"
     ]
    },
    {
     "name": "stderr",
     "output_type": "stream",
     "text": [
      "Finding optimal branch lengths:  79%|███████▊  | 6281/8000 [09:30<02:21, 12.16it/s]"
     ]
    },
    {
     "name": "stdout",
     "output_type": "stream",
     "text": [
      "BAD! log_branch_scaling is nan on step 2\n"
     ]
    },
    {
     "name": "stderr",
     "output_type": "stream",
     "text": [
      "Finding optimal branch lengths:  80%|████████  | 6423/8000 [09:43<02:02, 12.90it/s]"
     ]
    },
    {
     "name": "stdout",
     "output_type": "stream",
     "text": [
      "BAD! log_branch_scaling is nan on step 2\n"
     ]
    },
    {
     "name": "stderr",
     "output_type": "stream",
     "text": [
      "Finding optimal branch lengths:  86%|████████▌ | 6873/8000 [10:24<01:28, 12.72it/s]"
     ]
    },
    {
     "name": "stdout",
     "output_type": "stream",
     "text": [
      "BAD! log_branch_scaling is nan on step 6\n"
     ]
    },
    {
     "name": "stderr",
     "output_type": "stream",
     "text": [
      "Finding optimal branch lengths:  87%|████████▋ | 6990/8000 [10:34<01:18, 12.82it/s]"
     ]
    },
    {
     "name": "stdout",
     "output_type": "stream",
     "text": [
      "BAD! log_branch_scaling is nan on step 2\n"
     ]
    },
    {
     "name": "stderr",
     "output_type": "stream",
     "text": [
      "Finding optimal branch lengths:  90%|████████▉ | 7172/8000 [10:50<00:59, 13.96it/s]"
     ]
    },
    {
     "name": "stdout",
     "output_type": "stream",
     "text": [
      "BAD! log_branch_scaling is nan on step 2\n"
     ]
    },
    {
     "name": "stderr",
     "output_type": "stream",
     "text": [
      "Finding optimal branch lengths:  91%|█████████▏| 7310/8000 [11:03<00:49, 13.90it/s]"
     ]
    },
    {
     "name": "stdout",
     "output_type": "stream",
     "text": [
      "BAD! log_branch_scaling is nan on step 2\n"
     ]
    },
    {
     "name": "stderr",
     "output_type": "stream",
     "text": [
      "Finding optimal branch lengths:  98%|█████████▊| 7806/8000 [11:51<00:16, 11.93it/s]"
     ]
    },
    {
     "name": "stdout",
     "output_type": "stream",
     "text": [
      "BAD! log_branch_scaling is nan on step 2\n"
     ]
    },
    {
     "name": "stderr",
     "output_type": "stream",
     "text": [
      "Finding optimal branch lengths: 100%|██████████| 8000/8000 [12:08<00:00, 10.98it/s]\n"
     ]
    },
    {
     "name": "stdout",
     "output_type": "stream",
     "text": [
      "predicting mutabilities and substitutions...\n",
      "consolidating this into substitution probabilities...\n"
     ]
    },
    {
     "name": "stderr",
     "output_type": "stream",
     "text": [
      "Finding optimal branch lengths:   8%|▊         | 151/2000 [00:14<02:26, 12.59it/s]"
     ]
    },
    {
     "name": "stdout",
     "output_type": "stream",
     "text": [
      "BAD! log_branch_scaling is nan on step 2\n"
     ]
    },
    {
     "name": "stderr",
     "output_type": "stream",
     "text": [
      "Finding optimal branch lengths:  52%|█████▏    | 1033/2000 [01:38<01:09, 13.99it/s]"
     ]
    },
    {
     "name": "stdout",
     "output_type": "stream",
     "text": [
      "BAD! log_branch_scaling is nan on step 2\n",
      "BAD! log_branch_scaling is nan on step 2\n"
     ]
    },
    {
     "name": "stderr",
     "output_type": "stream",
     "text": [
      "Finding optimal branch lengths: 100%|██████████| 2000/2000 [03:08<00:00, 10.62it/s]\n"
     ]
    },
    {
     "name": "stdout",
     "output_type": "stream",
     "text": [
      "predicting mutabilities and substitutions...\n",
      "consolidating this into substitution probabilities...\n",
      "Epoch [0/10], Training Loss: 0.15492851302027702, Validation Loss: 0.1587640947056195\n",
      "training model...\n",
      "Epoch [1/10], Training Loss: 0.13949911296367645, Validation Loss: 0.15088689894903273\n",
      "Epoch [2/10], Training Loss: 0.13466894626617432, Validation Loss: 0.1508430422298492\n",
      "Epoch [3/10], Training Loss: 0.16660401225090027, Validation Loss: 0.1506963423083699\n",
      "Epoch [4/10], Training Loss: 0.15123377740383148, Validation Loss: 0.1506925733789565\n",
      "Epoch [5/10], Training Loss: 0.14625804126262665, Validation Loss: 0.15069239208149532\n",
      "Epoch [6/10], Training Loss: 0.1669522076845169, Validation Loss: 0.15072070949134372\n",
      "Epoch [7/10], Training Loss: 0.14355206489562988, Validation Loss: 0.15081416023156\n",
      "Epoch [8/10], Training Loss: 0.1477554440498352, Validation Loss: 0.15080821667871777\n",
      "Epoch [9/10], Training Loss: 0.16881035268306732, Validation Loss: 0.15086253649658626\n",
      "Epoch [10/10], Training Loss: 0.14727425575256348, Validation Loss: 0.15077737766125845\n"
     ]
    }
   ],
   "source": [
    "shmple_weights_directory = \"/Users/matsen/re/epam/data/shmple_weights/my_shmoof\"\n",
    "nhead = 4\n",
    "dim_feedforward = 2048\n",
    "layer_count = 3\n",
    "\n",
    "dnsm = TransformerBinarySelectionModel(\n",
    "    nhead=nhead, dim_feedforward=dim_feedforward, layer_count=layer_count\n",
    ")\n",
    "\n",
    "burrito = DNSMBurrito(pcp_df, shmple_weights_directory, dnsm, batch_size=1024, learning_rate=0.001, checkpoint_dir=\"./_checkpoints\", log_dir=\"./_logs\")\n",
    "\n",
    "burrito.train(2)\n",
    "burrito.optimize_branch_lengths()\n",
    "burrito.train(10)\n",
    "burrito.optimize_branch_lengths()\n",
    "burrito.train(10)"
   ]
  },
  {
   "cell_type": "code",
   "execution_count": 4,
   "metadata": {},
   "outputs": [
    {
     "data": {
      "text/plain": [
       "array([0.30188924, 0.30136755, 0.30064642, 0.30133593, 0.30380702,\n",
       "       0.30685535, 0.30816928, 0.30641684, 0.3046294 , 0.3044997 ,\n",
       "       0.305388  , 0.30659956, 0.30634677, 0.30425033, 0.30100042,\n",
       "       0.29877478, 0.2983371 , 0.30001074, 0.30210385, 0.30258602,\n",
       "       0.30162433, 0.3003719 , 0.30011582, 0.30111128, 0.30187243,\n",
       "       0.30174062, 0.29973918, 0.2975625 , 0.2970053 , 0.29772082,\n",
       "       0.29886633, 0.29905865, 0.2983175 , 0.29681256, 0.29604724,\n",
       "       0.29667452, 0.29850945, 0.30004153, 0.2987551 , 0.29454967,\n",
       "       0.29130855, 0.29287603, 0.29735297, 0.30054858, 0.3012594 ,\n",
       "       0.29992706, 0.2991146 , 0.30001947, 0.30298257, 0.30550322,\n",
       "       0.30672807, 0.30636737, 0.30575356, 0.30538166, 0.30638054,\n",
       "       0.30751044, 0.3078143 , 0.30646175, 0.30419692, 0.30306828,\n",
       "       0.30351207, 0.3042407 , 0.30438688, 0.30352548, 0.3027501 ,\n",
       "       0.3027291 , 0.30409178, 0.3057653 , 0.30733982, 0.3070182 ,\n",
       "       0.30466658, 0.3017095 , 0.30017316, 0.30091354, 0.30215105,\n",
       "       0.30148673, 0.29841045, 0.2957482 , 0.29559144, 0.2980893 ,\n",
       "       0.30158982, 0.30399156, 0.30410782, 0.30283567, 0.3018485 ,\n",
       "       0.3032281 , 0.3060208 , 0.30775544, 0.3073802 , 0.3056287 ,\n",
       "       0.30454695, 0.30496657, 0.30518812, 0.30425516, 0.30280447,\n",
       "       0.30119097, 0.30014166, 0.3008004 , 0.30260548, 0.3043119 ,\n",
       "       0.30466616, 0.30342597, 0.30172047, 0.30078954, 0.30126557,\n",
       "       0.30221578, 0.30183285, 0.2998329 , 0.29695848, 0.29544398,\n",
       "       0.29586172, 0.297211  , 0.29886392, 0.29936343, 0.29787537,\n",
       "       0.29524183, 0.29437873, 0.29469022, 0.29570025, 0.29506683,\n",
       "       0.29356298, 0.29224512, 0.2932681 ], dtype=float32)"
      ]
     },
     "execution_count": 4,
     "metadata": {},
     "output_type": "execute_result"
    }
   ],
   "source": [
    "[aa_str] = translate_sequences([pcp_df.reset_index(drop=True).loc[0, \"parent\"]])\n",
    "burrito.dnsm.selection_factors_of_aa_str(aa_str)"
   ]
  },
  {
   "cell_type": "code",
   "execution_count": 5,
   "metadata": {},
   "outputs": [
    {
     "name": "stdout",
     "output_type": "stream",
     "text": [
      "Using Metal Performance Shaders\n"
     ]
    },
    {
     "data": {
      "text/plain": [
       "<All keys matched successfully>"
      ]
     },
     "execution_count": 5,
     "metadata": {},
     "output_type": "execute_result"
    }
   ],
   "source": [
    "model = TransformerBinarySelectionModel(\n",
    "    nhead=nhead, dim_feedforward=dim_feedforward, layer_count=layer_count\n",
    ")\n",
    "\n",
    "model.load_state_dict(torch.load(\"./_checkpoints/model_epoch_9.pth\")[\"model_state_dict\"])"
   ]
  }
 ],
 "metadata": {
  "kernelspec": {
   "display_name": "epam",
   "language": "python",
   "name": "python3"
  },
  "language_info": {
   "codemirror_mode": {
    "name": "ipython",
    "version": 3
   },
   "file_extension": ".py",
   "mimetype": "text/x-python",
   "name": "python",
   "nbconvert_exporter": "python",
   "pygments_lexer": "ipython3",
   "version": "3.9.18"
  }
 },
 "nbformat": 4,
 "nbformat_minor": 2
}
