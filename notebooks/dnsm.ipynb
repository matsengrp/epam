{
 "cells": [
  {
   "cell_type": "code",
   "execution_count": 1,
   "metadata": {},
   "outputs": [],
   "source": [
    "import pandas as pd\n",
    "\n",
    "import torch\n",
    "from epam.dnsm import train_model, TransformerBinarySelectionModel\n",
    "from epam.sequences import translate_sequences\n"
   ]
  },
  {
   "cell_type": "code",
   "execution_count": 2,
   "metadata": {},
   "outputs": [
    {
     "name": "stdout",
     "output_type": "stream",
     "text": [
      "After filtering out identical PCPs, we have 60293 PCPs.\n"
     ]
    }
   ],
   "source": [
    "pcp_df = pd.read_csv(\"~/data/wyatt-10x-1p5m_pcp_2023-10-07.csv\")\n",
    "\n",
    "# filter out rows of pcp_df where the parent and child sequences are identical\n",
    "pcp_df = pcp_df[pcp_df[\"parent\"] != pcp_df[\"child\"]]\n",
    "print(f\"After filtering out identical PCPs, we have {len(pcp_df)} PCPs.\")"
   ]
  },
  {
   "cell_type": "code",
   "execution_count": 3,
   "metadata": {},
   "outputs": [
    {
     "name": "stdout",
     "output_type": "stream",
     "text": [
      "preparing data...\n"
     ]
    },
    {
     "name": "stderr",
     "output_type": "stream",
     "text": [
      "WARNING:absl:At this time, the v2.11+ optimizer `tf.keras.optimizers.RestoredOptimizer` runs slowly on M1/M2 Macs, please use the legacy Keras optimizer instead, located at `tf.keras.optimizers.legacy.RestoredOptimizer`.\n",
      "WARNING:absl:At this time, the v2.11+ optimizer `tf.keras.optimizers.Nadam` runs slowly on M1/M2 Macs, please use the legacy Keras optimizer instead, located at `tf.keras.optimizers.legacy.Nadam`.\n",
      "WARNING:absl:There is a known slowdown when using v2.11+ Keras optimizers on M1/M2 Macs. Falling back to the legacy Keras optimizer, i.e., `tf.keras.optimizers.legacy.Nadam`.\n"
     ]
    },
    {
     "name": "stdout",
     "output_type": "stream",
     "text": [
      "predicting mutabilities and substitutions...\n",
      "consolidating this into substitution probabilities...\n",
      "predicting mutabilities and substitutions...\n",
      "consolidating this into substitution probabilities...\n",
      "Using Metal Performance Shaders\n",
      "training model...\n",
      "1\tpredictions out of range.\n",
      "Epoch [1/10], Training Loss: 0.1520572006702423, Validation Loss: 0.14227209020830908\n",
      "Epoch [2/10], Training Loss: 0.13700765371322632, Validation Loss: 0.14226577315351058\n",
      "Epoch [3/10], Training Loss: 0.10717598348855972, Validation Loss: 0.1422652151998854\n",
      "Epoch [4/10], Training Loss: 0.1645236611366272, Validation Loss: 0.14226852006597607\n",
      "Epoch [5/10], Training Loss: 0.13713528215885162, Validation Loss: 0.1422695122382527\n",
      "Epoch [6/10], Training Loss: 0.13801279664039612, Validation Loss: 0.14226595087060878\n",
      "Epoch [7/10], Training Loss: 0.14396807551383972, Validation Loss: 0.14226624644324382\n",
      "Epoch [8/10], Training Loss: 0.151688352227211, Validation Loss: 0.14226525239349994\n",
      "Epoch [9/10], Training Loss: 0.15726320445537567, Validation Loss: 0.14226527687962554\n",
      "Epoch [10/10], Training Loss: 0.13933248817920685, Validation Loss: 0.14226780407901468\n"
     ]
    }
   ],
   "source": [
    "shmple_weights_directory = \"/Users/matsen/re/epam/data/shmple_weights/my_shmoof\"\n",
    "nhead = 4\n",
    "dim_feedforward = 2048\n",
    "layer_count = 3\n",
    "model = train_model(pcp_df, shmple_weights_directory, nhead=nhead, dim_feedforward=dim_feedforward, layer_count=layer_count, batch_size=32, num_epochs=10, learning_rate=0.001, checkpoint_dir=\"./_checkpoints\", log_dir=\"./_logs\")"
   ]
  },
  {
   "cell_type": "code",
   "execution_count": 4,
   "metadata": {},
   "outputs": [
    {
     "name": "stdout",
     "output_type": "stream",
     "text": [
      "Using Metal Performance Shaders\n"
     ]
    },
    {
     "data": {
      "text/plain": [
       "<All keys matched successfully>"
      ]
     },
     "execution_count": 4,
     "metadata": {},
     "output_type": "execute_result"
    }
   ],
   "source": [
    "model = TransformerBinarySelectionModel(\n",
    "    nhead=nhead, dim_feedforward=dim_feedforward, layer_count=layer_count\n",
    ")\n",
    "\n",
    "model.load_state_dict(torch.load(\"./_checkpoints/model_epoch_9.pth\")[\"model_state_dict\"])"
   ]
  },
  {
   "cell_type": "code",
   "execution_count": 5,
   "metadata": {},
   "outputs": [
    {
     "data": {
      "text/plain": [
       "array([ 0.01149121,  0.01675246,  0.01556592,  0.01720731,  0.01697168,\n",
       "        0.01706342,  0.0173249 ,  0.01711473,  0.02149449,  0.01665491,\n",
       "        0.01600982,  0.01747919,  0.01626107,  0.01717524,  0.01476031,\n",
       "        0.01920246,  0.01884446,  0.01055838,  0.0081295 ,  0.01529308,\n",
       "        0.02141047,  0.01753549,  0.0210962 ,  0.01630182,  0.01638377,\n",
       "        0.01870359,  0.01692514,  0.0132018 , -0.00040562,  0.01755441,\n",
       "        0.01498471,  0.01137101,  0.01843558,  0.02150575,  0.01710667,\n",
       "        0.01826691,  0.02132342,  0.01745026,  0.01730885,  0.01557686,\n",
       "        0.01734412,  0.01676928,  0.01739948,  0.01779033,  0.01621846,\n",
       "        0.01743104,  0.01753837,  0.01522063,  0.01606004,  0.01750978,\n",
       "        0.01193008,  0.01516643,  0.01749432,  0.01747676,  0.01913004,\n",
       "        0.0185704 ,  0.01602201,  0.01613149,  0.01732327,  0.0153546 ,\n",
       "        0.01416056,  0.02570714,  0.01639644,  0.01603713,  0.01691973,\n",
       "        0.0207295 ,  0.0158868 ,  0.0168728 ,  0.0173712 ,  0.02265107,\n",
       "        0.02256365,  0.01713459,  0.01724289,  0.01926072,  0.02182609,\n",
       "        0.01720288,  0.01767827,  0.01721845,  0.01605071,  0.01698187,\n",
       "        0.01236663,  0.0173526 ,  0.01522934,  0.01739522,  0.02150953,\n",
       "        0.0150326 ,  0.0222038 ,  0.01756849,  0.02101316,  0.01549412,\n",
       "        0.01074016,  0.01662282,  0.01296289,  0.01742227,  0.01709998,\n",
       "        0.02270841,  0.01709527,  0.0149785 ,  0.01301694,  0.016808  ,\n",
       "        0.01945927,  0.01588484,  0.01715602,  0.01676068,  0.01677731,\n",
       "        0.01625492,  0.01392029,  0.01554972,  0.01744607,  0.01723816,\n",
       "        0.01664161,  0.01676568,  0.01750116,  0.01583317,  0.01732687,\n",
       "        0.01554115,  0.0172907 ,  0.01349183,  0.01614849,  0.01948623,\n",
       "        0.01752529,  0.01556723,  0.01535649,  0.01639574], dtype=float32)"
      ]
     },
     "execution_count": 5,
     "metadata": {},
     "output_type": "execute_result"
    }
   ],
   "source": [
    "[aa_str] = translate_sequences([pcp_df.loc[0, \"parent\"]])\n",
    "model.p_substitution_of_aa_str(aa_str)"
   ]
  }
 ],
 "metadata": {
  "kernelspec": {
   "display_name": "epam",
   "language": "python",
   "name": "python3"
  },
  "language_info": {
   "codemirror_mode": {
    "name": "ipython",
    "version": 3
   },
   "file_extension": ".py",
   "mimetype": "text/x-python",
   "name": "python",
   "nbconvert_exporter": "python",
   "pygments_lexer": "ipython3",
   "version": "3.9.18"
  }
 },
 "nbformat": 4,
 "nbformat_minor": 2
}
