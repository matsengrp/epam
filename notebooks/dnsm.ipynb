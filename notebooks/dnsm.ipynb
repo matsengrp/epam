{
 "cells": [
  {
   "cell_type": "code",
   "execution_count": 1,
   "metadata": {},
   "outputs": [],
   "source": [
    "import pandas as pd\n",
    "\n",
    "import torch\n",
    "from epam.dnsm import TransformerBinarySelectionModel, DNSMBurrito\n",
    "from epam.sequences import translate_sequences"
   ]
  },
  {
   "cell_type": "code",
   "execution_count": 2,
   "metadata": {},
   "outputs": [
    {
     "name": "stdout",
     "output_type": "stream",
     "text": [
      "We have 20000 PCPs.\n"
     ]
    }
   ],
   "source": [
    "pcp_df = pd.read_csv(\"~/data/wyatt-10x-1p5m_pcp_2023-10-07.csv\")\n",
    "\n",
    "# filter out rows of pcp_df where the parent and child sequences are identical\n",
    "pcp_df = pcp_df[pcp_df[\"parent\"] != pcp_df[\"child\"]]\n",
    "\n",
    "# NOTE downsampling here\n",
    "pcp_df = pcp_df.sample(20000, random_state=42)\n",
    "\n",
    "print(f\"We have {len(pcp_df)} PCPs.\")"
   ]
  },
  {
   "cell_type": "code",
   "execution_count": 3,
   "metadata": {},
   "outputs": [
    {
     "name": "stdout",
     "output_type": "stream",
     "text": [
      "Using Metal Performance Shaders\n",
      "preparing data...\n"
     ]
    },
    {
     "name": "stderr",
     "output_type": "stream",
     "text": [
      "WARNING:absl:At this time, the v2.11+ optimizer `tf.keras.optimizers.RestoredOptimizer` runs slowly on M1/M2 Macs, please use the legacy Keras optimizer instead, located at `tf.keras.optimizers.legacy.RestoredOptimizer`.\n",
      "WARNING:absl:At this time, the v2.11+ optimizer `tf.keras.optimizers.Nadam` runs slowly on M1/M2 Macs, please use the legacy Keras optimizer instead, located at `tf.keras.optimizers.legacy.Nadam`.\n",
      "WARNING:absl:There is a known slowdown when using v2.11+ Keras optimizers on M1/M2 Macs. Falling back to the legacy Keras optimizer, i.e., `tf.keras.optimizers.legacy.Nadam`.\n",
      "WARNING:absl:At this time, the v2.11+ optimizer `tf.keras.optimizers.RestoredOptimizer` runs slowly on M1/M2 Macs, please use the legacy Keras optimizer instead, located at `tf.keras.optimizers.legacy.RestoredOptimizer`.\n",
      "WARNING:absl:At this time, the v2.11+ optimizer `tf.keras.optimizers.Nadam` runs slowly on M1/M2 Macs, please use the legacy Keras optimizer instead, located at `tf.keras.optimizers.legacy.Nadam`.\n",
      "WARNING:absl:There is a known slowdown when using v2.11+ Keras optimizers on M1/M2 Macs. Falling back to the legacy Keras optimizer, i.e., `tf.keras.optimizers.legacy.Nadam`.\n"
     ]
    },
    {
     "name": "stdout",
     "output_type": "stream",
     "text": [
      "predicting mutabilities and substitutions...\n",
      "consolidating this into substitution probabilities...\n",
      "predicting mutabilities and substitutions...\n",
      "consolidating this into substitution probabilities...\n",
      "Epoch [0/3], Training Loss: 0.14212364982813597, Validation Loss: 0.13952504843473434\n",
      "training model...\n",
      "Epoch [1/3], Training Loss: 0.14326944947242737, Validation Loss: 0.13695503398776054\n",
      "Epoch [2/3], Training Loss: 0.14642028510570526, Validation Loss: 0.13643774762749672\n",
      "Epoch [3/3], Training Loss: 0.14537636935710907, Validation Loss: 0.13610690459609032\n"
     ]
    },
    {
     "name": "stderr",
     "output_type": "stream",
     "text": [
      "Finding optimal branch lengths:   0%|          | 50/16000 [00:06<23:49, 11.16it/s] "
     ]
    },
    {
     "name": "stdout",
     "output_type": "stream",
     "text": [
      "BAD! log_branch_scaling is nan on step 2\n"
     ]
    },
    {
     "name": "stderr",
     "output_type": "stream",
     "text": [
      "Finding optimal branch lengths:   2%|▏         | 263/16000 [00:31<53:30,  4.90it/s]  "
     ]
    },
    {
     "name": "stdout",
     "output_type": "stream",
     "text": [
      "BAD! log_branch_scaling is nan on step 2\n"
     ]
    },
    {
     "name": "stderr",
     "output_type": "stream",
     "text": [
      "Finding optimal branch lengths:   2%|▏         | 334/16000 [00:39<23:47, 10.98it/s]  "
     ]
    },
    {
     "name": "stdout",
     "output_type": "stream",
     "text": [
      "BAD! log_branch_scaling is nan on step 3\n"
     ]
    },
    {
     "name": "stderr",
     "output_type": "stream",
     "text": [
      "Finding optimal branch lengths:   3%|▎         | 426/16000 [00:46<21:43, 11.95it/s]"
     ]
    },
    {
     "name": "stdout",
     "output_type": "stream",
     "text": [
      "BAD! log_branch_scaling is nan on step 3\n"
     ]
    },
    {
     "name": "stderr",
     "output_type": "stream",
     "text": [
      "Finding optimal branch lengths:   5%|▌         | 878/16000 [01:33<25:43,  9.80it/s]  "
     ]
    },
    {
     "name": "stdout",
     "output_type": "stream",
     "text": [
      "BAD! log_branch_scaling is nan on step 2\n"
     ]
    },
    {
     "name": "stderr",
     "output_type": "stream",
     "text": [
      "Finding optimal branch lengths:   6%|▋         | 1037/16000 [01:49<21:17, 11.71it/s]"
     ]
    },
    {
     "name": "stdout",
     "output_type": "stream",
     "text": [
      "BAD! log_branch_scaling is nan on step 3\n"
     ]
    },
    {
     "name": "stderr",
     "output_type": "stream",
     "text": [
      "Finding optimal branch lengths:   8%|▊         | 1234/16000 [02:11<23:44, 10.37it/s]"
     ]
    },
    {
     "name": "stdout",
     "output_type": "stream",
     "text": [
      "BAD! log_branch_scaling is nan on step 2\n"
     ]
    },
    {
     "name": "stderr",
     "output_type": "stream",
     "text": [
      "Finding optimal branch lengths:  10%|▉         | 1542/16000 [02:48<34:59,  6.89it/s]  "
     ]
    },
    {
     "name": "stdout",
     "output_type": "stream",
     "text": [
      "BAD! log_branch_scaling is nan on step 2\n"
     ]
    },
    {
     "name": "stderr",
     "output_type": "stream",
     "text": [
      "Finding optimal branch lengths:  11%|█         | 1707/16000 [03:04<19:24, 12.27it/s]"
     ]
    },
    {
     "name": "stdout",
     "output_type": "stream",
     "text": [
      "BAD! log_branch_scaling is nan on step 2\n"
     ]
    },
    {
     "name": "stderr",
     "output_type": "stream",
     "text": [
      "Finding optimal branch lengths:  11%|█         | 1753/16000 [03:08<18:19, 12.96it/s]"
     ]
    },
    {
     "name": "stdout",
     "output_type": "stream",
     "text": [
      "BAD! log_branch_scaling is nan on step 3\n"
     ]
    },
    {
     "name": "stderr",
     "output_type": "stream",
     "text": [
      "Finding optimal branch lengths:  11%|█         | 1799/16000 [03:13<25:04,  9.44it/s]"
     ]
    },
    {
     "name": "stdout",
     "output_type": "stream",
     "text": [
      "BAD! log_branch_scaling is nan on step 2\n"
     ]
    },
    {
     "name": "stderr",
     "output_type": "stream",
     "text": [
      "Finding optimal branch lengths:  12%|█▏        | 1903/16000 [03:24<18:23, 12.77it/s]"
     ]
    },
    {
     "name": "stdout",
     "output_type": "stream",
     "text": [
      "BAD! log_branch_scaling is nan on step 2\n"
     ]
    },
    {
     "name": "stderr",
     "output_type": "stream",
     "text": [
      "Finding optimal branch lengths:  14%|█▍        | 2272/16000 [04:02<24:22,  9.38it/s]"
     ]
    },
    {
     "name": "stdout",
     "output_type": "stream",
     "text": [
      "BAD! log_branch_scaling is nan on step 2\n"
     ]
    },
    {
     "name": "stderr",
     "output_type": "stream",
     "text": [
      "Finding optimal branch lengths:  14%|█▍        | 2293/16000 [04:05<28:02,  8.14it/s]"
     ]
    },
    {
     "name": "stdout",
     "output_type": "stream",
     "text": [
      "BAD! log_branch_scaling is nan on step 2\n"
     ]
    },
    {
     "name": "stderr",
     "output_type": "stream",
     "text": [
      "Finding optimal branch lengths:  14%|█▍        | 2301/16000 [04:06<19:25, 11.75it/s]"
     ]
    },
    {
     "name": "stdout",
     "output_type": "stream",
     "text": [
      "BAD! log_branch_scaling is nan on step 2\n"
     ]
    },
    {
     "name": "stderr",
     "output_type": "stream",
     "text": [
      "Finding optimal branch lengths:  15%|█▍        | 2367/16000 [04:13<26:29,  8.57it/s]"
     ]
    },
    {
     "name": "stdout",
     "output_type": "stream",
     "text": [
      "BAD! log_branch_scaling is nan on step 2\n"
     ]
    },
    {
     "name": "stderr",
     "output_type": "stream",
     "text": [
      "Finding optimal branch lengths:  16%|█▌        | 2510/16000 [04:29<22:56,  9.80it/s]"
     ]
    },
    {
     "name": "stdout",
     "output_type": "stream",
     "text": [
      "BAD! log_branch_scaling is nan on step 2\n"
     ]
    },
    {
     "name": "stderr",
     "output_type": "stream",
     "text": [
      "Finding optimal branch lengths:  17%|█▋        | 2708/16000 [04:54<21:23, 10.36it/s]  "
     ]
    },
    {
     "name": "stdout",
     "output_type": "stream",
     "text": [
      "BAD! log_branch_scaling is nan on step 3\n"
     ]
    },
    {
     "name": "stderr",
     "output_type": "stream",
     "text": [
      "Finding optimal branch lengths:  18%|█▊        | 2892/16000 [05:15<17:25, 12.54it/s]"
     ]
    },
    {
     "name": "stdout",
     "output_type": "stream",
     "text": [
      "BAD! log_branch_scaling is nan on step 2\n"
     ]
    },
    {
     "name": "stderr",
     "output_type": "stream",
     "text": [
      "Finding optimal branch lengths:  20%|█▉        | 3199/16000 [05:46<17:10, 12.42it/s]"
     ]
    },
    {
     "name": "stdout",
     "output_type": "stream",
     "text": [
      "BAD! log_branch_scaling is nan on step 2\n"
     ]
    },
    {
     "name": "stderr",
     "output_type": "stream",
     "text": [
      "Finding optimal branch lengths:  21%|██        | 3399/16000 [06:09<20:34, 10.21it/s]  "
     ]
    },
    {
     "name": "stdout",
     "output_type": "stream",
     "text": [
      "BAD! log_branch_scaling is nan on step 2\n"
     ]
    },
    {
     "name": "stderr",
     "output_type": "stream",
     "text": [
      "Finding optimal branch lengths:  23%|██▎       | 3741/16000 [06:47<20:24, 10.01it/s]"
     ]
    },
    {
     "name": "stdout",
     "output_type": "stream",
     "text": [
      "BAD! log_branch_scaling is nan on step 2\n"
     ]
    },
    {
     "name": "stderr",
     "output_type": "stream",
     "text": [
      "Finding optimal branch lengths:  24%|██▍       | 3841/16000 [07:00<35:15,  5.75it/s]  "
     ]
    },
    {
     "name": "stdout",
     "output_type": "stream",
     "text": [
      "BAD! log_branch_scaling is nan on step 2\n",
      "BAD! log_branch_scaling is nan on step 2\n"
     ]
    },
    {
     "name": "stderr",
     "output_type": "stream",
     "text": [
      "Finding optimal branch lengths:  27%|██▋       | 4362/16000 [07:58<31:58,  6.07it/s]"
     ]
    },
    {
     "name": "stdout",
     "output_type": "stream",
     "text": [
      "BAD! log_branch_scaling is nan on step 2\n"
     ]
    },
    {
     "name": "stderr",
     "output_type": "stream",
     "text": [
      "Finding optimal branch lengths:  31%|███▏      | 5005/16000 [09:08<13:25, 13.66it/s]"
     ]
    },
    {
     "name": "stdout",
     "output_type": "stream",
     "text": [
      "BAD! log_branch_scaling is nan on step 3\n"
     ]
    },
    {
     "name": "stderr",
     "output_type": "stream",
     "text": [
      "Finding optimal branch lengths:  34%|███▍      | 5506/16000 [10:04<13:51, 12.62it/s]"
     ]
    },
    {
     "name": "stdout",
     "output_type": "stream",
     "text": [
      "BAD! log_branch_scaling is nan on step 3\n"
     ]
    },
    {
     "name": "stderr",
     "output_type": "stream",
     "text": [
      "Finding optimal branch lengths:  37%|███▋      | 5875/16000 [10:45<18:42,  9.02it/s]"
     ]
    },
    {
     "name": "stdout",
     "output_type": "stream",
     "text": [
      "BAD! log_branch_scaling is nan on step 2\n"
     ]
    },
    {
     "name": "stderr",
     "output_type": "stream",
     "text": [
      "Finding optimal branch lengths:  39%|███▉      | 6213/16000 [11:25<15:12, 10.73it/s]"
     ]
    },
    {
     "name": "stdout",
     "output_type": "stream",
     "text": [
      "BAD! log_branch_scaling is nan on step 2\n"
     ]
    },
    {
     "name": "stderr",
     "output_type": "stream",
     "text": [
      "Finding optimal branch lengths:  39%|███▉      | 6239/16000 [11:28<15:25, 10.55it/s]"
     ]
    },
    {
     "name": "stdout",
     "output_type": "stream",
     "text": [
      "BAD! log_branch_scaling is nan on step 2\n"
     ]
    },
    {
     "name": "stderr",
     "output_type": "stream",
     "text": [
      "Finding optimal branch lengths:  39%|███▉      | 6247/16000 [11:29<14:23, 11.29it/s]"
     ]
    },
    {
     "name": "stdout",
     "output_type": "stream",
     "text": [
      "BAD! log_branch_scaling is nan on step 3\n"
     ]
    },
    {
     "name": "stderr",
     "output_type": "stream",
     "text": [
      "Finding optimal branch lengths:  39%|███▉      | 6282/16000 [11:33<14:15, 11.36it/s]"
     ]
    },
    {
     "name": "stdout",
     "output_type": "stream",
     "text": [
      "BAD! log_branch_scaling is nan on step 2\n"
     ]
    },
    {
     "name": "stderr",
     "output_type": "stream",
     "text": [
      "Finding optimal branch lengths:  40%|████      | 6427/16000 [11:49<11:50, 13.47it/s]"
     ]
    },
    {
     "name": "stdout",
     "output_type": "stream",
     "text": [
      "BAD! log_branch_scaling is nan on step 2\n",
      "BAD! log_branch_scaling is nan on step 3\n"
     ]
    },
    {
     "name": "stderr",
     "output_type": "stream",
     "text": [
      "Finding optimal branch lengths:  43%|████▎     | 6872/16000 [12:38<12:46, 11.91it/s]"
     ]
    },
    {
     "name": "stdout",
     "output_type": "stream",
     "text": [
      "BAD! log_branch_scaling is nan on step 2\n"
     ]
    },
    {
     "name": "stderr",
     "output_type": "stream",
     "text": [
      "Finding optimal branch lengths:  44%|████▎     | 6989/16000 [12:51<14:02, 10.70it/s]"
     ]
    },
    {
     "name": "stdout",
     "output_type": "stream",
     "text": [
      "BAD! log_branch_scaling is nan on step 2\n"
     ]
    },
    {
     "name": "stderr",
     "output_type": "stream",
     "text": [
      "Finding optimal branch lengths:  45%|████▍     | 7171/16000 [13:09<13:41, 10.74it/s]"
     ]
    },
    {
     "name": "stdout",
     "output_type": "stream",
     "text": [
      "BAD! log_branch_scaling is nan on step 2\n"
     ]
    },
    {
     "name": "stderr",
     "output_type": "stream",
     "text": [
      "Finding optimal branch lengths:  46%|████▌     | 7312/16000 [13:27<10:41, 13.54it/s]"
     ]
    },
    {
     "name": "stdout",
     "output_type": "stream",
     "text": [
      "BAD! log_branch_scaling is nan on step 2\n"
     ]
    },
    {
     "name": "stderr",
     "output_type": "stream",
     "text": [
      "Finding optimal branch lengths:  49%|████▉     | 7805/16000 [14:23<11:11, 12.20it/s]"
     ]
    },
    {
     "name": "stdout",
     "output_type": "stream",
     "text": [
      "BAD! log_branch_scaling is nan on step 2\n"
     ]
    },
    {
     "name": "stderr",
     "output_type": "stream",
     "text": [
      "Finding optimal branch lengths:  51%|█████     | 8151/16000 [15:00<10:14, 12.76it/s]"
     ]
    },
    {
     "name": "stdout",
     "output_type": "stream",
     "text": [
      "BAD! log_branch_scaling is nan on step 2\n"
     ]
    },
    {
     "name": "stderr",
     "output_type": "stream",
     "text": [
      "Finding optimal branch lengths:  56%|█████▋    | 9033/16000 [16:38<11:22, 10.20it/s]"
     ]
    },
    {
     "name": "stdout",
     "output_type": "stream",
     "text": [
      "BAD! log_branch_scaling is nan on step 2\n",
      "BAD! log_branch_scaling is nan on step 2\n"
     ]
    },
    {
     "name": "stderr",
     "output_type": "stream",
     "text": [
      "Finding optimal branch lengths:  58%|█████▊    | 9228/16000 [16:57<12:53,  8.76it/s]"
     ]
    },
    {
     "name": "stdout",
     "output_type": "stream",
     "text": [
      "BAD! log_branch_scaling is nan on step 2\n"
     ]
    },
    {
     "name": "stderr",
     "output_type": "stream",
     "text": [
      "Finding optimal branch lengths:  63%|██████▎   | 10056/16000 [18:26<11:17,  8.77it/s]"
     ]
    },
    {
     "name": "stdout",
     "output_type": "stream",
     "text": [
      "BAD! log_branch_scaling is nan on step 3\n"
     ]
    },
    {
     "name": "stderr",
     "output_type": "stream",
     "text": [
      "Finding optimal branch lengths:  67%|██████▋   | 10700/16000 [19:34<07:18, 12.09it/s]"
     ]
    },
    {
     "name": "stdout",
     "output_type": "stream",
     "text": [
      "BAD! log_branch_scaling is nan on step 2\n"
     ]
    },
    {
     "name": "stderr",
     "output_type": "stream",
     "text": [
      "Finding optimal branch lengths:  69%|██████▉   | 11105/16000 [20:20<09:02,  9.03it/s]"
     ]
    },
    {
     "name": "stdout",
     "output_type": "stream",
     "text": [
      "BAD! log_branch_scaling is nan on step 2\n"
     ]
    },
    {
     "name": "stderr",
     "output_type": "stream",
     "text": [
      "Finding optimal branch lengths:  69%|██████▉   | 11111/16000 [20:20<07:44, 10.53it/s]"
     ]
    },
    {
     "name": "stdout",
     "output_type": "stream",
     "text": [
      "BAD! log_branch_scaling is nan on step 3\n"
     ]
    },
    {
     "name": "stderr",
     "output_type": "stream",
     "text": [
      "Finding optimal branch lengths:  74%|███████▍  | 11816/16000 [21:36<09:16,  7.51it/s]"
     ]
    },
    {
     "name": "stdout",
     "output_type": "stream",
     "text": [
      "BAD! log_branch_scaling is nan on step 3\n"
     ]
    },
    {
     "name": "stderr",
     "output_type": "stream",
     "text": [
      "Finding optimal branch lengths:  76%|███████▌  | 12179/16000 [22:13<05:01, 12.66it/s]"
     ]
    },
    {
     "name": "stdout",
     "output_type": "stream",
     "text": [
      "BAD! log_branch_scaling is nan on step 2\n"
     ]
    },
    {
     "name": "stderr",
     "output_type": "stream",
     "text": [
      "Finding optimal branch lengths:  77%|███████▋  | 12347/16000 [22:31<05:22, 11.32it/s]"
     ]
    },
    {
     "name": "stdout",
     "output_type": "stream",
     "text": [
      "BAD! log_branch_scaling is nan on step 2\n"
     ]
    },
    {
     "name": "stderr",
     "output_type": "stream",
     "text": [
      "Finding optimal branch lengths:  79%|███████▉  | 12645/16000 [23:04<04:28, 12.49it/s]"
     ]
    },
    {
     "name": "stdout",
     "output_type": "stream",
     "text": [
      "BAD! log_branch_scaling is nan on step 2\n"
     ]
    },
    {
     "name": "stderr",
     "output_type": "stream",
     "text": [
      "Finding optimal branch lengths:  82%|████████▏ | 13147/16000 [23:59<05:52,  8.09it/s]"
     ]
    },
    {
     "name": "stdout",
     "output_type": "stream",
     "text": [
      "BAD! log_branch_scaling is nan on step 2\n"
     ]
    },
    {
     "name": "stderr",
     "output_type": "stream",
     "text": [
      "Finding optimal branch lengths:  85%|████████▍ | 13554/16000 [24:42<03:14, 12.54it/s]"
     ]
    },
    {
     "name": "stdout",
     "output_type": "stream",
     "text": [
      "BAD! log_branch_scaling is nan on step 2\n"
     ]
    },
    {
     "name": "stderr",
     "output_type": "stream",
     "text": [
      "Finding optimal branch lengths:  88%|████████▊ | 14108/16000 [25:38<02:19, 13.61it/s]"
     ]
    },
    {
     "name": "stdout",
     "output_type": "stream",
     "text": [
      "BAD! log_branch_scaling is nan on step 30\n"
     ]
    },
    {
     "name": "stderr",
     "output_type": "stream",
     "text": [
      "Finding optimal branch lengths:  89%|████████▊ | 14176/16000 [25:45<02:07, 14.25it/s]"
     ]
    },
    {
     "name": "stdout",
     "output_type": "stream",
     "text": [
      "BAD! log_branch_scaling is nan on step 2\n"
     ]
    },
    {
     "name": "stderr",
     "output_type": "stream",
     "text": [
      "Finding optimal branch lengths:  89%|████████▉ | 14234/16000 [25:51<02:30, 11.70it/s]"
     ]
    },
    {
     "name": "stdout",
     "output_type": "stream",
     "text": [
      "BAD! log_branch_scaling is nan on step 2\n"
     ]
    },
    {
     "name": "stderr",
     "output_type": "stream",
     "text": [
      "Finding optimal branch lengths:  90%|█████████ | 14461/16000 [26:15<02:13, 11.54it/s]"
     ]
    },
    {
     "name": "stdout",
     "output_type": "stream",
     "text": [
      "BAD! log_branch_scaling is nan on step 3\n"
     ]
    },
    {
     "name": "stderr",
     "output_type": "stream",
     "text": [
      "Finding optimal branch lengths:  93%|█████████▎| 14821/16000 [26:51<01:41, 11.66it/s]"
     ]
    },
    {
     "name": "stdout",
     "output_type": "stream",
     "text": [
      "BAD! log_branch_scaling is nan on step 3\n"
     ]
    },
    {
     "name": "stderr",
     "output_type": "stream",
     "text": [
      "Finding optimal branch lengths: 100%|██████████| 16000/16000 [28:53<00:00,  9.23it/s]\n"
     ]
    },
    {
     "name": "stdout",
     "output_type": "stream",
     "text": [
      "predicting mutabilities and substitutions...\n",
      "consolidating this into substitution probabilities...\n"
     ]
    },
    {
     "ename": "AssertionError",
     "evalue": "",
     "output_type": "error",
     "traceback": [
      "\u001b[0;31m---------------------------------------------------------------------------\u001b[0m",
      "\u001b[0;31mAssertionError\u001b[0m                            Traceback (most recent call last)",
      "\u001b[1;32m/Users/matsen/re/epam/notebooks/dnsm.ipynb Cell 3\u001b[0m line \u001b[0;36m1\n\u001b[1;32m     <a href='vscode-notebook-cell:/Users/matsen/re/epam/notebooks/dnsm.ipynb#W2sZmlsZQ%3D%3D?line=9'>10</a>\u001b[0m burrito \u001b[39m=\u001b[39m DNSMBurrito(pcp_df, shmple_weights_directory, dnsm, batch_size\u001b[39m=\u001b[39m\u001b[39m1024\u001b[39m, learning_rate\u001b[39m=\u001b[39m\u001b[39m0.001\u001b[39m, checkpoint_dir\u001b[39m=\u001b[39m\u001b[39m\"\u001b[39m\u001b[39m./_checkpoints\u001b[39m\u001b[39m\"\u001b[39m, log_dir\u001b[39m=\u001b[39m\u001b[39m\"\u001b[39m\u001b[39m./_logs\u001b[39m\u001b[39m\"\u001b[39m)\n\u001b[1;32m     <a href='vscode-notebook-cell:/Users/matsen/re/epam/notebooks/dnsm.ipynb#W2sZmlsZQ%3D%3D?line=11'>12</a>\u001b[0m burrito\u001b[39m.\u001b[39mtrain(\u001b[39m3\u001b[39m)\n\u001b[0;32m---> <a href='vscode-notebook-cell:/Users/matsen/re/epam/notebooks/dnsm.ipynb#W2sZmlsZQ%3D%3D?line=12'>13</a>\u001b[0m burrito\u001b[39m.\u001b[39;49moptimize_branch_lengths()\n\u001b[1;32m     <a href='vscode-notebook-cell:/Users/matsen/re/epam/notebooks/dnsm.ipynb#W2sZmlsZQ%3D%3D?line=13'>14</a>\u001b[0m burrito\u001b[39m.\u001b[39mtrain(\u001b[39m15\u001b[39m)\n\u001b[1;32m     <a href='vscode-notebook-cell:/Users/matsen/re/epam/notebooks/dnsm.ipynb#W2sZmlsZQ%3D%3D?line=14'>15</a>\u001b[0m burrito\u001b[39m.\u001b[39moptimize_branch_lengths()\n",
      "File \u001b[0;32m~/re/epam/epam/dnsm.py:371\u001b[0m, in \u001b[0;36mDNSMBurrito.optimize_branch_lengths\u001b[0;34m(self)\u001b[0m\n\u001b[1;32m    367\u001b[0m \u001b[39mfor\u001b[39;00m dataset \u001b[39min\u001b[39;00m [\u001b[39mself\u001b[39m\u001b[39m.\u001b[39mtrain_set, \u001b[39mself\u001b[39m\u001b[39m.\u001b[39mval_set]:\n\u001b[1;32m    368\u001b[0m     branch_lengths \u001b[39m=\u001b[39m \u001b[39mself\u001b[39m\u001b[39m.\u001b[39mwrapped_dnsm\u001b[39m.\u001b[39mfind_optimal_branch_lengths(\n\u001b[1;32m    369\u001b[0m         dataset\u001b[39m.\u001b[39mnt_parents, dataset\u001b[39m.\u001b[39mnt_children\n\u001b[1;32m    370\u001b[0m     )\n\u001b[0;32m--> 371\u001b[0m     dataset\u001b[39m.\u001b[39;49mupdate_neutral_aa_mut_probs(branch_lengths)\n",
      "File \u001b[0;32m~/re/epam/epam/dnsm.py:107\u001b[0m, in \u001b[0;36mPCPDataset.update_neutral_aa_mut_probs\u001b[0;34m(self, branch_lengths)\u001b[0m\n\u001b[1;32m    100\u001b[0m neutral_aa_mut_prob \u001b[39m=\u001b[39m molevol\u001b[39m.\u001b[39mneutral_aa_mut_prob_v(\n\u001b[1;32m    101\u001b[0m     parent_idxs\u001b[39m.\u001b[39mreshape(\u001b[39m-\u001b[39m\u001b[39m1\u001b[39m, \u001b[39m3\u001b[39m),\n\u001b[1;32m    102\u001b[0m     mut_probs\u001b[39m.\u001b[39mreshape(\u001b[39m-\u001b[39m\u001b[39m1\u001b[39m, \u001b[39m3\u001b[39m),\n\u001b[1;32m    103\u001b[0m     normed_subs_probs\u001b[39m.\u001b[39mreshape(\u001b[39m-\u001b[39m\u001b[39m1\u001b[39m, \u001b[39m3\u001b[39m, \u001b[39m4\u001b[39m),\n\u001b[1;32m    104\u001b[0m )\n\u001b[1;32m    106\u001b[0m \u001b[39m# Ensure that all values are positive before taking the log later\u001b[39;00m\n\u001b[0;32m--> 107\u001b[0m \u001b[39massert\u001b[39;00m torch\u001b[39m.\u001b[39mall(neutral_aa_mut_prob \u001b[39m>\u001b[39m \u001b[39m0\u001b[39m)\n\u001b[1;32m    109\u001b[0m pad_len \u001b[39m=\u001b[39m \u001b[39mself\u001b[39m\u001b[39m.\u001b[39mmax_aa_seq_len \u001b[39m-\u001b[39m neutral_aa_mut_prob\u001b[39m.\u001b[39mshape[\u001b[39m0\u001b[39m]\n\u001b[1;32m    110\u001b[0m \u001b[39mif\u001b[39;00m pad_len \u001b[39m>\u001b[39m \u001b[39m0\u001b[39m:\n\u001b[1;32m    111\u001b[0m     \u001b[39m# TODO: does this value matter? If we are masking correctly it shoudln't.\u001b[39;00m\n",
      "\u001b[0;31mAssertionError\u001b[0m: "
     ]
    }
   ],
   "source": [
    "shmple_weights_directory = \"/Users/matsen/re/epam/data/shmple_weights/my_shmoof\"\n",
    "nhead = 4\n",
    "dim_feedforward = 2048\n",
    "layer_count = 3\n",
    "\n",
    "dnsm = TransformerBinarySelectionModel(\n",
    "    nhead=nhead, dim_feedforward=dim_feedforward, layer_count=layer_count\n",
    ")\n",
    "\n",
    "burrito = DNSMBurrito(pcp_df, shmple_weights_directory, dnsm, batch_size=1024, learning_rate=0.001, checkpoint_dir=\"./_checkpoints\", log_dir=\"./_logs\")\n",
    "\n",
    "burrito.train(3)\n",
    "burrito.optimize_branch_lengths()\n",
    "burrito.train(15)\n",
    "burrito.optimize_branch_lengths()\n",
    "burrito.train(15)"
   ]
  },
  {
   "cell_type": "code",
   "execution_count": null,
   "metadata": {},
   "outputs": [
    {
     "data": {
      "text/plain": [
       "array([0.30188924, 0.30136755, 0.30064642, 0.30133593, 0.30380702,\n",
       "       0.30685535, 0.30816928, 0.30641684, 0.3046294 , 0.3044997 ,\n",
       "       0.305388  , 0.30659956, 0.30634677, 0.30425033, 0.30100042,\n",
       "       0.29877478, 0.2983371 , 0.30001074, 0.30210385, 0.30258602,\n",
       "       0.30162433, 0.3003719 , 0.30011582, 0.30111128, 0.30187243,\n",
       "       0.30174062, 0.29973918, 0.2975625 , 0.2970053 , 0.29772082,\n",
       "       0.29886633, 0.29905865, 0.2983175 , 0.29681256, 0.29604724,\n",
       "       0.29667452, 0.29850945, 0.30004153, 0.2987551 , 0.29454967,\n",
       "       0.29130855, 0.29287603, 0.29735297, 0.30054858, 0.3012594 ,\n",
       "       0.29992706, 0.2991146 , 0.30001947, 0.30298257, 0.30550322,\n",
       "       0.30672807, 0.30636737, 0.30575356, 0.30538166, 0.30638054,\n",
       "       0.30751044, 0.3078143 , 0.30646175, 0.30419692, 0.30306828,\n",
       "       0.30351207, 0.3042407 , 0.30438688, 0.30352548, 0.3027501 ,\n",
       "       0.3027291 , 0.30409178, 0.3057653 , 0.30733982, 0.3070182 ,\n",
       "       0.30466658, 0.3017095 , 0.30017316, 0.30091354, 0.30215105,\n",
       "       0.30148673, 0.29841045, 0.2957482 , 0.29559144, 0.2980893 ,\n",
       "       0.30158982, 0.30399156, 0.30410782, 0.30283567, 0.3018485 ,\n",
       "       0.3032281 , 0.3060208 , 0.30775544, 0.3073802 , 0.3056287 ,\n",
       "       0.30454695, 0.30496657, 0.30518812, 0.30425516, 0.30280447,\n",
       "       0.30119097, 0.30014166, 0.3008004 , 0.30260548, 0.3043119 ,\n",
       "       0.30466616, 0.30342597, 0.30172047, 0.30078954, 0.30126557,\n",
       "       0.30221578, 0.30183285, 0.2998329 , 0.29695848, 0.29544398,\n",
       "       0.29586172, 0.297211  , 0.29886392, 0.29936343, 0.29787537,\n",
       "       0.29524183, 0.29437873, 0.29469022, 0.29570025, 0.29506683,\n",
       "       0.29356298, 0.29224512, 0.2932681 ], dtype=float32)"
      ]
     },
     "execution_count": 4,
     "metadata": {},
     "output_type": "execute_result"
    }
   ],
   "source": [
    "[aa_str] = translate_sequences([pcp_df.reset_index(drop=True).loc[0, \"parent\"]])\n",
    "burrito.dnsm.selection_factors_of_aa_str(aa_str)"
   ]
  },
  {
   "cell_type": "code",
   "execution_count": null,
   "metadata": {},
   "outputs": [
    {
     "name": "stdout",
     "output_type": "stream",
     "text": [
      "Using Metal Performance Shaders\n"
     ]
    },
    {
     "data": {
      "text/plain": [
       "<All keys matched successfully>"
      ]
     },
     "execution_count": 5,
     "metadata": {},
     "output_type": "execute_result"
    }
   ],
   "source": [
    "model = TransformerBinarySelectionModel(\n",
    "    nhead=nhead, dim_feedforward=dim_feedforward, layer_count=layer_count\n",
    ")\n",
    "\n",
    "model.load_state_dict(torch.load(\"./_checkpoints/model_epoch_9.pth\")[\"model_state_dict\"])"
   ]
  }
 ],
 "metadata": {
  "kernelspec": {
   "display_name": "epam",
   "language": "python",
   "name": "python3"
  },
  "language_info": {
   "codemirror_mode": {
    "name": "ipython",
    "version": 3
   },
   "file_extension": ".py",
   "mimetype": "text/x-python",
   "name": "python",
   "nbconvert_exporter": "python",
   "pygments_lexer": "ipython3",
   "version": "3.9.18"
  }
 },
 "nbformat": 4,
 "nbformat_minor": 2
}
