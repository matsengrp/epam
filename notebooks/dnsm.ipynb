{
 "cells": [
  {
   "cell_type": "code",
   "execution_count": 1,
   "metadata": {},
   "outputs": [],
   "source": [
    "import pandas as pd\n",
    "\n",
    "import torch\n",
    "from epam.dnsm import train_model, TransformerBinarySelectionModel\n",
    "from epam.sequences import translate_sequences"
   ]
  },
  {
   "cell_type": "code",
   "execution_count": 2,
   "metadata": {},
   "outputs": [
    {
     "name": "stdout",
     "output_type": "stream",
     "text": [
      "After filtering out identical PCPs, we have 60293 PCPs.\n"
     ]
    }
   ],
   "source": [
    "pcp_df = pd.read_csv(\"~/data/wyatt-10x-1p5m_pcp_2023-10-07.csv\")\n",
    "\n",
    "# filter out rows of pcp_df where the parent and child sequences are identical\n",
    "pcp_df = pcp_df[pcp_df[\"parent\"] != pcp_df[\"child\"]]\n",
    "print(f\"After filtering out identical PCPs, we have {len(pcp_df)} PCPs.\")\n",
    "\n",
    "# sample 5000 random columns from pcp_df\n",
    "# pcp_df = pcp_df.sample(5000, random_state=42)"
   ]
  },
  {
   "cell_type": "code",
   "execution_count": 3,
   "metadata": {},
   "outputs": [
    {
     "name": "stdout",
     "output_type": "stream",
     "text": [
      "preparing data...\n"
     ]
    },
    {
     "name": "stderr",
     "output_type": "stream",
     "text": [
      "WARNING:absl:At this time, the v2.11+ optimizer `tf.keras.optimizers.RestoredOptimizer` runs slowly on M1/M2 Macs, please use the legacy Keras optimizer instead, located at `tf.keras.optimizers.legacy.RestoredOptimizer`.\n",
      "WARNING:absl:At this time, the v2.11+ optimizer `tf.keras.optimizers.Nadam` runs slowly on M1/M2 Macs, please use the legacy Keras optimizer instead, located at `tf.keras.optimizers.legacy.Nadam`.\n",
      "WARNING:absl:There is a known slowdown when using v2.11+ Keras optimizers on M1/M2 Macs. Falling back to the legacy Keras optimizer, i.e., `tf.keras.optimizers.legacy.Nadam`.\n"
     ]
    },
    {
     "name": "stdout",
     "output_type": "stream",
     "text": [
      "predicting mutabilities and substitutions...\n",
      "consolidating this into substitution probabilities...\n",
      "predicting mutabilities and substitutions...\n",
      "consolidating this into substitution probabilities...\n",
      "Using Metal Performance Shaders\n",
      "Epoch [0/10], Training Loss: 0.14413235569249255, Validation Loss: 0.14520262341837667\n",
      "training model...\n",
      "Epoch [1/10], Training Loss: 0.1460634469985962, Validation Loss: 0.1422129755231999\n",
      "Epoch [2/10], Training Loss: 0.06946700066328049, Validation Loss: 0.14181304732905775\n",
      "Epoch [3/10], Training Loss: 0.15877003967761993, Validation Loss: 0.14192446431920763\n",
      "Epoch [4/10], Training Loss: 0.1431138813495636, Validation Loss: 0.14246279954791702\n",
      "Epoch [5/10], Training Loss: 0.1457570195198059, Validation Loss: 0.1435741699579856\n",
      "Epoch [6/10], Training Loss: 0.12142452597618103, Validation Loss: 0.14411606899504636\n",
      "Epoch [7/10], Training Loss: 0.16897828876972198, Validation Loss: 0.14346089529303405\n",
      "Epoch [8/10], Training Loss: 0.1509825736284256, Validation Loss: 0.14318684767190595\n",
      "Epoch [9/10], Training Loss: 0.1646997481584549, Validation Loss: 0.14403218075395896\n",
      "Epoch [10/10], Training Loss: 0.09986115247011185, Validation Loss: 0.14350289231862884\n"
     ]
    }
   ],
   "source": [
    "shmple_weights_directory = \"/Users/matsen/re/epam/data/shmple_weights/my_shmoof\"\n",
    "nhead = 4\n",
    "dim_feedforward = 2048\n",
    "layer_count = 3\n",
    "model = train_model(pcp_df, shmple_weights_directory, nhead=nhead, dim_feedforward=dim_feedforward, layer_count=layer_count, batch_size=32, num_epochs=10, learning_rate=0.001, checkpoint_dir=\"./_checkpoints\", log_dir=\"./_logs\")"
   ]
  },
  {
   "cell_type": "code",
   "execution_count": 4,
   "metadata": {},
   "outputs": [
    {
     "name": "stdout",
     "output_type": "stream",
     "text": [
      "Using Metal Performance Shaders\n"
     ]
    },
    {
     "data": {
      "text/plain": [
       "<All keys matched successfully>"
      ]
     },
     "execution_count": 4,
     "metadata": {},
     "output_type": "execute_result"
    }
   ],
   "source": [
    "model = TransformerBinarySelectionModel(\n",
    "    nhead=nhead, dim_feedforward=dim_feedforward, layer_count=layer_count\n",
    ")\n",
    "\n",
    "model.load_state_dict(torch.load(\"./_checkpoints/model_epoch_9.pth\")[\"model_state_dict\"])"
   ]
  },
  {
   "cell_type": "code",
   "execution_count": 5,
   "metadata": {},
   "outputs": [
    {
     "data": {
      "text/plain": [
       "array([-0.30129334, -0.36150005, -0.22318953, -0.23240682, -0.21227121,\n",
       "       -0.29634944, -0.26420107, -0.03211138, -0.35188556, -0.32832563,\n",
       "       -0.26959592, -0.40838563,  0.13928401,  0.27003866, -0.40594822,\n",
       "       -0.24824762, -0.01687797, -0.45068318, -0.196103  , -0.31170923,\n",
       "       -0.23579422, -0.20085327,  0.20328128, -0.40976408, -0.01630207,\n",
       "       -0.2430954 , -0.38812155,  0.21822903, -0.21258491,  0.12179772,\n",
       "       -0.10302131, -0.22481951, -0.38446164, -0.05564547, -0.01202073,\n",
       "       -0.3004855 , -0.386288  ,  0.03650764, -0.49321643, -0.21353456,\n",
       "       -0.44842845, -0.27452055, -0.10202672, -0.05521708, -0.30840582,\n",
       "        0.09407609, -0.4770987 , -0.1825782 ,  0.14050004, -0.21505547,\n",
       "       -0.0735746 ,  0.20952824,  0.19804434,  0.21852773,  0.23557228,\n",
       "        0.16812804, -0.04353864,  0.24380839,  0.2666145 ,  0.25004226,\n",
       "        0.19006242,  0.25881857,  0.24019444,  0.26014736,  0.23429099,\n",
       "       -0.1768722 ,  0.2048943 ,  0.13106395, -0.08835177,  0.23895317,\n",
       "        0.2101932 ,  0.10338544,  0.12740254,  0.24081057,  0.22911233,\n",
       "       -0.13972752,  0.0865896 ,  0.1868112 ,  0.09572276,  0.22923803,\n",
       "        0.19562681,  0.20249723,  0.1991657 , -0.04327825,  0.21171165,\n",
       "        0.20523219,  0.2496562 , -0.10590158,  0.14333394,  0.06615453,\n",
       "        0.21723299,  0.23136136,  0.15765935,  0.2712225 , -0.09912065,\n",
       "        0.25074497,  0.14932491,  0.09611459,  0.08538282,  0.2502305 ,\n",
       "       -0.26427305,  0.02692122,  0.25455657,  0.22809836,  0.26118922,\n",
       "        0.10670089, -0.28848076,  0.1858345 , -0.18640846,  0.07928235,\n",
       "        0.11943036, -0.12419184, -0.01927666,  0.21985689,  0.09996425,\n",
       "       -0.29937539, -0.08365652,  0.19745421, -0.3801177 , -0.03857366,\n",
       "       -0.23301512, -0.18181081,  0.18889907,  0.15910462], dtype=float32)"
      ]
     },
     "execution_count": 5,
     "metadata": {},
     "output_type": "execute_result"
    }
   ],
   "source": [
    "[aa_str] = translate_sequences([pcp_df.loc[0, \"parent\"]])\n",
    "model.p_substitution_of_aa_str(aa_str)"
   ]
  }
 ],
 "metadata": {
  "kernelspec": {
   "display_name": "epam",
   "language": "python",
   "name": "python3"
  },
  "language_info": {
   "codemirror_mode": {
    "name": "ipython",
    "version": 3
   },
   "file_extension": ".py",
   "mimetype": "text/x-python",
   "name": "python",
   "nbconvert_exporter": "python",
   "pygments_lexer": "ipython3",
   "version": "3.9.18"
  }
 },
 "nbformat": 4,
 "nbformat_minor": 2
}
