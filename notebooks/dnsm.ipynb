{
 "cells": [
  {
   "cell_type": "code",
   "execution_count": 1,
   "metadata": {},
   "outputs": [],
   "source": [
    "import pandas as pd\n",
    "\n",
    "import torch\n",
    "from epam.dnsm import train_model, TransformerBinarySelectionModel\n",
    "from epam.sequences import translate_sequences\n"
   ]
  },
  {
   "cell_type": "code",
   "execution_count": 2,
   "metadata": {},
   "outputs": [
    {
     "name": "stdout",
     "output_type": "stream",
     "text": [
      "After filtering out identical PCPs, we have 60293 PCPs.\n"
     ]
    }
   ],
   "source": [
    "pcp_df = pd.read_csv(\"~/data/wyatt-10x-1p5m_pcp_2023-10-07.csv\")\n",
    "\n",
    "# filter out rows of pcp_df where the parent and child sequences are identical\n",
    "pcp_df = pcp_df[pcp_df[\"parent\"] != pcp_df[\"child\"]]\n",
    "print(f\"After filtering out identical PCPs, we have {len(pcp_df)} PCPs.\")\n",
    "\n",
    "# sample 5000 random columns from pcp_df\n",
    "small_pcp_df = pcp_df.sample(5000, random_state=42)"
   ]
  },
  {
   "cell_type": "code",
   "execution_count": 3,
   "metadata": {},
   "outputs": [
    {
     "name": "stdout",
     "output_type": "stream",
     "text": [
      "preparing data...\n"
     ]
    },
    {
     "name": "stderr",
     "output_type": "stream",
     "text": [
      "WARNING:absl:At this time, the v2.11+ optimizer `tf.keras.optimizers.RestoredOptimizer` runs slowly on M1/M2 Macs, please use the legacy Keras optimizer instead, located at `tf.keras.optimizers.legacy.RestoredOptimizer`.\n",
      "WARNING:absl:At this time, the v2.11+ optimizer `tf.keras.optimizers.Nadam` runs slowly on M1/M2 Macs, please use the legacy Keras optimizer instead, located at `tf.keras.optimizers.legacy.Nadam`.\n",
      "WARNING:absl:There is a known slowdown when using v2.11+ Keras optimizers on M1/M2 Macs. Falling back to the legacy Keras optimizer, i.e., `tf.keras.optimizers.legacy.Nadam`.\n"
     ]
    },
    {
     "name": "stdout",
     "output_type": "stream",
     "text": [
      "predicting mutabilities and substitutions...\n",
      "consolidating this into substitution probabilities...\n",
      "predicting mutabilities and substitutions...\n",
      "consolidating this into substitution probabilities...\n",
      "Using Metal Performance Shaders\n",
      "training model...\n",
      "2\tpredictions out of range.\n",
      "1\tpredictions out of range.\n",
      "1\tpredictions out of range.\n",
      "1\tpredictions out of range.\n",
      "1\tpredictions out of range.\n",
      "2\tpredictions out of range.\n",
      "1\tpredictions out of range.\n",
      "1\tpredictions out of range.\n",
      "1\tpredictions out of range.\n",
      "Epoch [1/10], Training Loss: 0.150274395942688, Validation Loss: 0.14227462257258594\n",
      "1\tpredictions out of range.\n",
      "1\tpredictions out of range.\n",
      "1\tpredictions out of range.\n",
      "1\tpredictions out of range.\n",
      "1\tpredictions out of range.\n",
      "Epoch [2/10], Training Loss: 0.14060623943805695, Validation Loss: 0.14179411716759205\n",
      "2\tpredictions out of range.\n",
      "1\tpredictions out of range.\n",
      "1\tpredictions out of range.\n",
      "Epoch [3/10], Training Loss: 0.1371830552816391, Validation Loss: 0.14184175664559007\n",
      "Epoch [4/10], Training Loss: 0.15906016528606415, Validation Loss: 0.14168150862678885\n",
      "1\tpredictions out of range.\n",
      "1\tpredictions out of range.\n",
      "1\tpredictions out of range.\n",
      "Epoch [5/10], Training Loss: 0.14524395763874054, Validation Loss: 0.14164709369651973\n",
      "Epoch [6/10], Training Loss: 0.14765940606594086, Validation Loss: 0.14159384742379189\n",
      "1\tpredictions out of range.\n",
      "Epoch [7/10], Training Loss: 0.12947939336299896, Validation Loss: 0.14159035007469356\n",
      "Epoch [8/10], Training Loss: 0.13349859416484833, Validation Loss: 0.14160749758593738\n",
      "Epoch [9/10], Training Loss: 0.14872118830680847, Validation Loss: 0.14157336740754545\n",
      "1\tpredictions out of range.\n",
      "Epoch [10/10], Training Loss: 0.1177838146686554, Validation Loss: 0.1415586112998426\n"
     ]
    }
   ],
   "source": [
    "shmple_weights_directory = \"/Users/matsen/re/epam/data/shmple_weights/my_shmoof\"\n",
    "nhead = 4\n",
    "dim_feedforward = 2048\n",
    "layer_count = 3\n",
    "model = train_model(small_pcp_df, shmple_weights_directory, nhead=nhead, dim_feedforward=dim_feedforward, layer_count=layer_count, batch_size=32, num_epochs=10, learning_rate=0.00001, checkpoint_dir=\"./_checkpoints\", log_dir=\"./_logs\")"
   ]
  },
  {
   "cell_type": "code",
   "execution_count": 4,
   "metadata": {},
   "outputs": [
    {
     "name": "stdout",
     "output_type": "stream",
     "text": [
      "Using Metal Performance Shaders\n"
     ]
    },
    {
     "data": {
      "text/plain": [
       "<All keys matched successfully>"
      ]
     },
     "execution_count": 4,
     "metadata": {},
     "output_type": "execute_result"
    }
   ],
   "source": [
    "model = TransformerBinarySelectionModel(\n",
    "    nhead=nhead, dim_feedforward=dim_feedforward, layer_count=layer_count\n",
    ")\n",
    "\n",
    "model.load_state_dict(torch.load(\"./_checkpoints/model_epoch_9.pth\")[\"model_state_dict\"])"
   ]
  },
  {
   "cell_type": "code",
   "execution_count": 5,
   "metadata": {},
   "outputs": [
    {
     "data": {
      "text/plain": [
       "array([ 0.05313067,  0.00030902, -0.00685791, -0.01557143, -0.01103068,\n",
       "        0.01494447,  0.02586724,  0.07727085, -0.00932783,  0.02142597,\n",
       "       -0.01822442, -0.03045907, -0.00866606, -0.00270862,  0.01905321,\n",
       "       -0.01395334, -0.01790549,  0.06827775, -0.01701366, -0.00224139,\n",
       "       -0.03348479,  0.01039201, -0.00211165, -0.01147226,  0.01159442,\n",
       "       -0.00471092,  0.07875554, -0.06213511,  0.02918476,  0.06939983,\n",
       "        0.01336601,  0.01744258,  0.01000557,  0.01423603,  0.05315201,\n",
       "        0.00619886, -0.017441  , -0.03736398, -0.00274763,  0.04724879,\n",
       "        0.09510945,  0.02852195, -0.04083072, -0.04290059, -0.09804542,\n",
       "        0.05507947,  0.00583233,  0.07420481,  0.00697615, -0.00707713,\n",
       "        0.07740117,  0.01379139,  0.00699895,  0.01859596,  0.02500596,\n",
       "        0.00690883, -0.03730071, -0.02723522, -0.00493655,  0.06216621,\n",
       "       -0.02025477,  0.05361971, -0.03962031, -0.01611302, -0.04175796,\n",
       "        0.01671556,  0.0439722 ,  0.07984536,  0.03368267,  0.02368677,\n",
       "        0.02493809, -0.02719566,  0.05789407, -0.00449582,  0.04252168,\n",
       "       -0.01942626,  0.00778988, -0.01228276,  0.06436158, -0.02539431,\n",
       "        0.0129572 ,  0.04974073,  0.037908  , -0.00511389,  0.03222467,\n",
       "       -0.0011348 , -0.05471914,  0.0032445 ,  0.00133569,  0.02784539,\n",
       "       -0.0303932 ,  0.03269469,  0.00936646,  0.02288643, -0.01193558,\n",
       "        0.03074411, -0.03000122,  0.02551604,  0.03394655,  0.02597831,\n",
       "       -0.03118084, -0.02444136,  0.07171332, -0.03571793,  0.0800503 ,\n",
       "       -0.0205285 , -0.01082882, -0.04108002, -0.02307201, -0.05244629,\n",
       "        0.0422904 , -0.00969475, -0.05800071,  0.07955092, -0.01028669,\n",
       "       -0.03358348,  0.02401094,  0.01733402, -0.02516645,  0.02855445,\n",
       "       -0.02297796,  0.00120961, -0.03945683, -0.02760889], dtype=float32)"
      ]
     },
     "execution_count": 5,
     "metadata": {},
     "output_type": "execute_result"
    }
   ],
   "source": [
    "[aa_str] = translate_sequences([pcp_df.loc[0, \"parent\"]])\n",
    "model.p_substitution_of_aa_str(aa_str)"
   ]
  }
 ],
 "metadata": {
  "kernelspec": {
   "display_name": "epam",
   "language": "python",
   "name": "python3"
  },
  "language_info": {
   "codemirror_mode": {
    "name": "ipython",
    "version": 3
   },
   "file_extension": ".py",
   "mimetype": "text/x-python",
   "name": "python",
   "nbconvert_exporter": "python",
   "pygments_lexer": "ipython3",
   "version": "3.9.18"
  }
 },
 "nbformat": 4,
 "nbformat_minor": 2
}
