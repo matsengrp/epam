{
 "cells": [
  {
   "cell_type": "code",
   "execution_count": 1,
   "metadata": {},
   "outputs": [],
   "source": [
    "import pandas as pd\n",
    "\n",
    "import torch\n",
    "from epam.dnsm import TransformerBinarySelectionModel, DNSMBurrito\n",
    "from epam.sequences import translate_sequences"
   ]
  },
  {
   "cell_type": "code",
   "execution_count": 2,
   "metadata": {},
   "outputs": [
    {
     "name": "stdout",
     "output_type": "stream",
     "text": [
      "We have 20000 PCPs.\n"
     ]
    }
   ],
   "source": [
    "pcp_df = pd.read_csv(\"~/data/wyatt-10x-1p5m_pcp_2023-10-07.csv\")\n",
    "\n",
    "# filter out rows of pcp_df where the parent and child sequences are identical\n",
    "pcp_df = pcp_df[pcp_df[\"parent\"] != pcp_df[\"child\"]]\n",
    "\n",
    "# NOTE downsampling here\n",
    "pcp_df = pcp_df.sample(20000, random_state=42)\n",
    "\n",
    "print(f\"We have {len(pcp_df)} PCPs.\")"
   ]
  },
  {
   "cell_type": "code",
   "execution_count": 3,
   "metadata": {},
   "outputs": [
    {
     "name": "stdout",
     "output_type": "stream",
     "text": [
      "Using Metal Performance Shaders\n",
      "preparing data...\n"
     ]
    },
    {
     "name": "stderr",
     "output_type": "stream",
     "text": [
      "WARNING:absl:At this time, the v2.11+ optimizer `tf.keras.optimizers.RestoredOptimizer` runs slowly on M1/M2 Macs, please use the legacy Keras optimizer instead, located at `tf.keras.optimizers.legacy.RestoredOptimizer`.\n",
      "WARNING:absl:At this time, the v2.11+ optimizer `tf.keras.optimizers.Nadam` runs slowly on M1/M2 Macs, please use the legacy Keras optimizer instead, located at `tf.keras.optimizers.legacy.Nadam`.\n",
      "WARNING:absl:There is a known slowdown when using v2.11+ Keras optimizers on M1/M2 Macs. Falling back to the legacy Keras optimizer, i.e., `tf.keras.optimizers.legacy.Nadam`.\n",
      "WARNING:absl:At this time, the v2.11+ optimizer `tf.keras.optimizers.RestoredOptimizer` runs slowly on M1/M2 Macs, please use the legacy Keras optimizer instead, located at `tf.keras.optimizers.legacy.RestoredOptimizer`.\n",
      "WARNING:absl:At this time, the v2.11+ optimizer `tf.keras.optimizers.Nadam` runs slowly on M1/M2 Macs, please use the legacy Keras optimizer instead, located at `tf.keras.optimizers.legacy.Nadam`.\n",
      "WARNING:absl:There is a known slowdown when using v2.11+ Keras optimizers on M1/M2 Macs. Falling back to the legacy Keras optimizer, i.e., `tf.keras.optimizers.legacy.Nadam`.\n"
     ]
    },
    {
     "name": "stdout",
     "output_type": "stream",
     "text": [
      "predicting mutabilities and substitutions...\n",
      "consolidating this into substitution probabilities...\n",
      "predicting mutabilities and substitutions...\n",
      "consolidating this into substitution probabilities...\n",
      "Epoch [0/3], Training Loss: 0.14521890133619308, Validation Loss: 0.14288248866796494\n",
      "training model...\n",
      "Epoch [1/3], Training Loss: 0.14149504899978638, Validation Loss: 0.13963362574577332\n",
      "Epoch [2/3], Training Loss: 0.13835901021957397, Validation Loss: 0.13942889496684074\n",
      "Epoch [3/3], Training Loss: 0.13963310420513153, Validation Loss: 0.13914762437343597\n"
     ]
    },
    {
     "name": "stderr",
     "output_type": "stream",
     "text": [
      "Finding optimal branch lengths:   0%|          | 51/16000 [00:06<22:23, 11.87it/s] "
     ]
    },
    {
     "name": "stdout",
     "output_type": "stream",
     "text": [
      "BAD! log_branch_scaling is nan on step 2\n"
     ]
    },
    {
     "name": "stderr",
     "output_type": "stream",
     "text": [
      "Finding optimal branch lengths:   2%|▏         | 263/16000 [00:31<51:10,  5.13it/s]  "
     ]
    },
    {
     "name": "stdout",
     "output_type": "stream",
     "text": [
      "BAD! log_branch_scaling is nan on step 2\n"
     ]
    },
    {
     "name": "stderr",
     "output_type": "stream",
     "text": [
      "Finding optimal branch lengths:   2%|▏         | 334/16000 [00:39<23:58, 10.89it/s]  "
     ]
    },
    {
     "name": "stdout",
     "output_type": "stream",
     "text": [
      "BAD! log_branch_scaling is nan on step 3\n"
     ]
    },
    {
     "name": "stderr",
     "output_type": "stream",
     "text": [
      "Finding optimal branch lengths:   3%|▎         | 426/16000 [00:47<20:57, 12.38it/s]"
     ]
    },
    {
     "name": "stdout",
     "output_type": "stream",
     "text": [
      "BAD! log_branch_scaling is nan on step 3\n"
     ]
    },
    {
     "name": "stderr",
     "output_type": "stream",
     "text": [
      "Finding optimal branch lengths:   5%|▌         | 878/16000 [01:34<25:02, 10.07it/s]  "
     ]
    },
    {
     "name": "stdout",
     "output_type": "stream",
     "text": [
      "BAD! log_branch_scaling is nan on step 2\n"
     ]
    },
    {
     "name": "stderr",
     "output_type": "stream",
     "text": [
      "Finding optimal branch lengths:   6%|▋         | 1037/16000 [01:50<19:48, 12.59it/s]"
     ]
    },
    {
     "name": "stdout",
     "output_type": "stream",
     "text": [
      "BAD! log_branch_scaling is nan on step 3\n"
     ]
    },
    {
     "name": "stderr",
     "output_type": "stream",
     "text": [
      "Finding optimal branch lengths:   8%|▊         | 1234/16000 [02:13<23:05, 10.66it/s]"
     ]
    },
    {
     "name": "stdout",
     "output_type": "stream",
     "text": [
      "BAD! log_branch_scaling is nan on step 2\n"
     ]
    },
    {
     "name": "stderr",
     "output_type": "stream",
     "text": [
      "Finding optimal branch lengths:  10%|▉         | 1542/16000 [02:50<33:43,  7.14it/s]  "
     ]
    },
    {
     "name": "stdout",
     "output_type": "stream",
     "text": [
      "BAD! log_branch_scaling is nan on step 2\n"
     ]
    },
    {
     "name": "stderr",
     "output_type": "stream",
     "text": [
      "Finding optimal branch lengths:  11%|█         | 1707/16000 [03:06<25:58,  9.17it/s]"
     ]
    },
    {
     "name": "stdout",
     "output_type": "stream",
     "text": [
      "BAD! log_branch_scaling is nan on step 2\n"
     ]
    },
    {
     "name": "stderr",
     "output_type": "stream",
     "text": [
      "Finding optimal branch lengths:  11%|█         | 1753/16000 [03:10<17:27, 13.61it/s]"
     ]
    },
    {
     "name": "stdout",
     "output_type": "stream",
     "text": [
      "BAD! log_branch_scaling is nan on step 3\n"
     ]
    },
    {
     "name": "stderr",
     "output_type": "stream",
     "text": [
      "Finding optimal branch lengths:  11%|█         | 1799/16000 [03:15<24:03,  9.84it/s]"
     ]
    },
    {
     "name": "stdout",
     "output_type": "stream",
     "text": [
      "BAD! log_branch_scaling is nan on step 2\n"
     ]
    },
    {
     "name": "stderr",
     "output_type": "stream",
     "text": [
      "Finding optimal branch lengths:  12%|█▏        | 1903/16000 [03:26<20:09, 11.66it/s]"
     ]
    },
    {
     "name": "stdout",
     "output_type": "stream",
     "text": [
      "BAD! log_branch_scaling is nan on step 2\n"
     ]
    },
    {
     "name": "stderr",
     "output_type": "stream",
     "text": [
      "Finding optimal branch lengths:  14%|█▍        | 2272/16000 [04:04<23:15,  9.83it/s]"
     ]
    },
    {
     "name": "stdout",
     "output_type": "stream",
     "text": [
      "BAD! log_branch_scaling is nan on step 2\n"
     ]
    },
    {
     "name": "stderr",
     "output_type": "stream",
     "text": [
      "Finding optimal branch lengths:  14%|█▍        | 2293/16000 [04:07<27:00,  8.46it/s]"
     ]
    },
    {
     "name": "stdout",
     "output_type": "stream",
     "text": [
      "BAD! log_branch_scaling is nan on step 2\n"
     ]
    },
    {
     "name": "stderr",
     "output_type": "stream",
     "text": [
      "Finding optimal branch lengths:  14%|█▍        | 2303/16000 [04:08<17:02, 13.40it/s]"
     ]
    },
    {
     "name": "stdout",
     "output_type": "stream",
     "text": [
      "BAD! log_branch_scaling is nan on step 2\n"
     ]
    },
    {
     "name": "stderr",
     "output_type": "stream",
     "text": [
      "Finding optimal branch lengths:  15%|█▍        | 2367/16000 [04:15<24:40,  9.21it/s]"
     ]
    },
    {
     "name": "stdout",
     "output_type": "stream",
     "text": [
      "BAD! log_branch_scaling is nan on step 2\n"
     ]
    },
    {
     "name": "stderr",
     "output_type": "stream",
     "text": [
      "Finding optimal branch lengths:  16%|█▌        | 2510/16000 [04:30<22:21, 10.05it/s]"
     ]
    },
    {
     "name": "stdout",
     "output_type": "stream",
     "text": [
      "BAD! log_branch_scaling is nan on step 2\n"
     ]
    },
    {
     "name": "stderr",
     "output_type": "stream",
     "text": [
      "Finding optimal branch lengths:  17%|█▋        | 2709/16000 [04:55<22:07, 10.01it/s]  "
     ]
    },
    {
     "name": "stdout",
     "output_type": "stream",
     "text": [
      "BAD! log_branch_scaling is nan on step 3\n"
     ]
    },
    {
     "name": "stderr",
     "output_type": "stream",
     "text": [
      "Finding optimal branch lengths:  18%|█▊        | 2892/16000 [05:17<16:58, 12.87it/s]"
     ]
    },
    {
     "name": "stdout",
     "output_type": "stream",
     "text": [
      "BAD! log_branch_scaling is nan on step 2\n"
     ]
    },
    {
     "name": "stderr",
     "output_type": "stream",
     "text": [
      "Finding optimal branch lengths:  20%|█▉        | 3199/16000 [05:49<16:08, 13.22it/s]  "
     ]
    },
    {
     "name": "stdout",
     "output_type": "stream",
     "text": [
      "BAD! log_branch_scaling is nan on step 2\n"
     ]
    },
    {
     "name": "stderr",
     "output_type": "stream",
     "text": [
      "Finding optimal branch lengths:  21%|██        | 3399/16000 [06:13<20:14, 10.37it/s]  "
     ]
    },
    {
     "name": "stdout",
     "output_type": "stream",
     "text": [
      "BAD! log_branch_scaling is nan on step 2\n"
     ]
    },
    {
     "name": "stderr",
     "output_type": "stream",
     "text": [
      "Finding optimal branch lengths:  23%|██▎       | 3740/16000 [06:51<20:46,  9.83it/s]"
     ]
    },
    {
     "name": "stdout",
     "output_type": "stream",
     "text": [
      "BAD! log_branch_scaling is nan on step 2\n"
     ]
    },
    {
     "name": "stderr",
     "output_type": "stream",
     "text": [
      "Finding optimal branch lengths:  24%|██▍       | 3841/16000 [07:03<32:03,  6.32it/s]"
     ]
    },
    {
     "name": "stdout",
     "output_type": "stream",
     "text": [
      "BAD! log_branch_scaling is nan on step 2\n",
      "BAD! log_branch_scaling is nan on step 2\n"
     ]
    },
    {
     "name": "stderr",
     "output_type": "stream",
     "text": [
      "Finding optimal branch lengths:  27%|██▋       | 4362/16000 [08:03<32:07,  6.04it/s]"
     ]
    },
    {
     "name": "stdout",
     "output_type": "stream",
     "text": [
      "BAD! log_branch_scaling is nan on step 2\n"
     ]
    },
    {
     "name": "stderr",
     "output_type": "stream",
     "text": [
      "Finding optimal branch lengths:  31%|███▏      | 5004/16000 [09:17<14:36, 12.55it/s]"
     ]
    },
    {
     "name": "stdout",
     "output_type": "stream",
     "text": [
      "BAD! log_branch_scaling is nan on step 3\n"
     ]
    },
    {
     "name": "stderr",
     "output_type": "stream",
     "text": [
      "Finding optimal branch lengths:  34%|███▍      | 5508/16000 [10:13<14:42, 11.88it/s]"
     ]
    },
    {
     "name": "stdout",
     "output_type": "stream",
     "text": [
      "BAD! log_branch_scaling is nan on step 3\n"
     ]
    },
    {
     "name": "stderr",
     "output_type": "stream",
     "text": [
      "Finding optimal branch lengths:  37%|███▋      | 5875/16000 [10:56<18:42,  9.02it/s]"
     ]
    },
    {
     "name": "stdout",
     "output_type": "stream",
     "text": [
      "BAD! log_branch_scaling is nan on step 2\n"
     ]
    },
    {
     "name": "stderr",
     "output_type": "stream",
     "text": [
      "Finding optimal branch lengths:  39%|███▉      | 6212/16000 [11:36<15:37, 10.44it/s]"
     ]
    },
    {
     "name": "stdout",
     "output_type": "stream",
     "text": [
      "BAD! log_branch_scaling is nan on step 2\n"
     ]
    },
    {
     "name": "stderr",
     "output_type": "stream",
     "text": [
      "Finding optimal branch lengths:  39%|███▉      | 6238/16000 [11:39<15:52, 10.25it/s]"
     ]
    },
    {
     "name": "stdout",
     "output_type": "stream",
     "text": [
      "BAD! log_branch_scaling is nan on step 2\n"
     ]
    },
    {
     "name": "stderr",
     "output_type": "stream",
     "text": [
      "Finding optimal branch lengths:  39%|███▉      | 6246/16000 [11:40<13:17, 12.24it/s]"
     ]
    },
    {
     "name": "stdout",
     "output_type": "stream",
     "text": [
      "BAD! log_branch_scaling is nan on step 3\n"
     ]
    },
    {
     "name": "stderr",
     "output_type": "stream",
     "text": [
      "Finding optimal branch lengths:  39%|███▉      | 6282/16000 [11:44<13:51, 11.69it/s]"
     ]
    },
    {
     "name": "stdout",
     "output_type": "stream",
     "text": [
      "BAD! log_branch_scaling is nan on step 2\n"
     ]
    },
    {
     "name": "stderr",
     "output_type": "stream",
     "text": [
      "Finding optimal branch lengths:  40%|████      | 6425/16000 [12:00<11:54, 13.40it/s]"
     ]
    },
    {
     "name": "stdout",
     "output_type": "stream",
     "text": [
      "BAD! log_branch_scaling is nan on step 2\n",
      "BAD! log_branch_scaling is nan on step 3\n"
     ]
    },
    {
     "name": "stderr",
     "output_type": "stream",
     "text": [
      "Finding optimal branch lengths:  43%|████▎     | 6873/16000 [12:51<11:57, 12.72it/s]"
     ]
    },
    {
     "name": "stdout",
     "output_type": "stream",
     "text": [
      "BAD! log_branch_scaling is nan on step 2\n"
     ]
    },
    {
     "name": "stderr",
     "output_type": "stream",
     "text": [
      "Finding optimal branch lengths:  44%|████▎     | 6990/16000 [13:05<13:59, 10.73it/s]"
     ]
    },
    {
     "name": "stdout",
     "output_type": "stream",
     "text": [
      "BAD! log_branch_scaling is nan on step 2\n"
     ]
    },
    {
     "name": "stderr",
     "output_type": "stream",
     "text": [
      "Finding optimal branch lengths:  44%|████▍     | 7014/16000 [13:07<12:24, 12.07it/s]"
     ]
    },
    {
     "name": "stdout",
     "output_type": "stream",
     "text": [
      "BAD! log_branch_scaling is nan on step 2\n"
     ]
    },
    {
     "name": "stderr",
     "output_type": "stream",
     "text": [
      "Finding optimal branch lengths:  45%|████▍     | 7172/16000 [13:23<12:57, 11.36it/s]"
     ]
    },
    {
     "name": "stdout",
     "output_type": "stream",
     "text": [
      "BAD! log_branch_scaling is nan on step 2\n"
     ]
    },
    {
     "name": "stderr",
     "output_type": "stream",
     "text": [
      "Finding optimal branch lengths:  46%|████▌     | 7312/16000 [13:40<10:46, 13.44it/s]"
     ]
    },
    {
     "name": "stdout",
     "output_type": "stream",
     "text": [
      "BAD! log_branch_scaling is nan on step 2\n"
     ]
    },
    {
     "name": "stderr",
     "output_type": "stream",
     "text": [
      "Finding optimal branch lengths:  49%|████▉     | 7805/16000 [14:39<11:25, 11.95it/s]"
     ]
    },
    {
     "name": "stdout",
     "output_type": "stream",
     "text": [
      "BAD! log_branch_scaling is nan on step 2\n"
     ]
    },
    {
     "name": "stderr",
     "output_type": "stream",
     "text": [
      "Finding optimal branch lengths:  51%|█████     | 8151/16000 [15:18<10:16, 12.74it/s]"
     ]
    },
    {
     "name": "stdout",
     "output_type": "stream",
     "text": [
      "BAD! log_branch_scaling is nan on step 2\n"
     ]
    },
    {
     "name": "stderr",
     "output_type": "stream",
     "text": [
      "Finding optimal branch lengths:  53%|█████▎    | 8531/16000 [16:01<11:17, 11.03it/s]"
     ]
    },
    {
     "name": "stdout",
     "output_type": "stream",
     "text": [
      "BAD! log_branch_scaling is nan on step 19\n"
     ]
    },
    {
     "name": "stderr",
     "output_type": "stream",
     "text": [
      "Finding optimal branch lengths:  56%|█████▋    | 9033/16000 [17:00<11:52,  9.78it/s]"
     ]
    },
    {
     "name": "stdout",
     "output_type": "stream",
     "text": [
      "BAD! log_branch_scaling is nan on step 2\n",
      "BAD! log_branch_scaling is nan on step 2\n"
     ]
    },
    {
     "name": "stderr",
     "output_type": "stream",
     "text": [
      "Finding optimal branch lengths:  58%|█████▊    | 9228/16000 [17:21<13:09,  8.57it/s]"
     ]
    },
    {
     "name": "stdout",
     "output_type": "stream",
     "text": [
      "BAD! log_branch_scaling is nan on step 2\n"
     ]
    },
    {
     "name": "stderr",
     "output_type": "stream",
     "text": [
      "Finding optimal branch lengths:  63%|██████▎   | 10054/16000 [18:57<12:28,  7.94it/s]"
     ]
    },
    {
     "name": "stdout",
     "output_type": "stream",
     "text": [
      "BAD! log_branch_scaling is nan on step 2\n"
     ]
    },
    {
     "name": "stderr",
     "output_type": "stream",
     "text": [
      "Finding optimal branch lengths:  67%|██████▋   | 10700/16000 [20:11<07:36, 11.62it/s]"
     ]
    },
    {
     "name": "stdout",
     "output_type": "stream",
     "text": [
      "BAD! log_branch_scaling is nan on step 2\n"
     ]
    },
    {
     "name": "stderr",
     "output_type": "stream",
     "text": [
      "Finding optimal branch lengths:  69%|██████▉   | 11104/16000 [21:00<10:40,  7.64it/s]"
     ]
    },
    {
     "name": "stdout",
     "output_type": "stream",
     "text": [
      "BAD! log_branch_scaling is nan on step 2\n"
     ]
    },
    {
     "name": "stderr",
     "output_type": "stream",
     "text": [
      "Finding optimal branch lengths:  69%|██████▉   | 11110/16000 [21:01<09:44,  8.37it/s]"
     ]
    },
    {
     "name": "stdout",
     "output_type": "stream",
     "text": [
      "BAD! log_branch_scaling is nan on step 3\n"
     ]
    },
    {
     "name": "stderr",
     "output_type": "stream",
     "text": [
      "Finding optimal branch lengths:  74%|███████▍  | 11816/16000 [22:26<10:09,  6.87it/s]"
     ]
    },
    {
     "name": "stdout",
     "output_type": "stream",
     "text": [
      "BAD! log_branch_scaling is nan on step 3\n"
     ]
    },
    {
     "name": "stderr",
     "output_type": "stream",
     "text": [
      "Finding optimal branch lengths:  76%|███████▌  | 12179/16000 [23:07<05:27, 11.66it/s]"
     ]
    },
    {
     "name": "stdout",
     "output_type": "stream",
     "text": [
      "BAD! log_branch_scaling is nan on step 2\n"
     ]
    },
    {
     "name": "stderr",
     "output_type": "stream",
     "text": [
      "Finding optimal branch lengths:  77%|███████▋  | 12347/16000 [23:26<06:39,  9.15it/s]"
     ]
    },
    {
     "name": "stdout",
     "output_type": "stream",
     "text": [
      "BAD! log_branch_scaling is nan on step 2\n"
     ]
    },
    {
     "name": "stderr",
     "output_type": "stream",
     "text": [
      "Finding optimal branch lengths:  79%|███████▉  | 12645/16000 [24:02<04:47, 11.66it/s]"
     ]
    },
    {
     "name": "stdout",
     "output_type": "stream",
     "text": [
      "BAD! log_branch_scaling is nan on step 2\n"
     ]
    },
    {
     "name": "stderr",
     "output_type": "stream",
     "text": [
      "Finding optimal branch lengths:  82%|████████▏ | 13147/16000 [25:02<07:00,  6.79it/s]"
     ]
    },
    {
     "name": "stdout",
     "output_type": "stream",
     "text": [
      "BAD! log_branch_scaling is nan on step 2\n"
     ]
    },
    {
     "name": "stderr",
     "output_type": "stream",
     "text": [
      "Finding optimal branch lengths:  85%|████████▍ | 13552/16000 [25:50<03:47, 10.76it/s]"
     ]
    },
    {
     "name": "stdout",
     "output_type": "stream",
     "text": [
      "BAD! log_branch_scaling is nan on step 2\n"
     ]
    },
    {
     "name": "stderr",
     "output_type": "stream",
     "text": [
      "Finding optimal branch lengths:  88%|████████▊ | 14107/16000 [26:53<02:33, 12.36it/s]"
     ]
    },
    {
     "name": "stdout",
     "output_type": "stream",
     "text": [
      "BAD! log_branch_scaling is nan on step 3\n"
     ]
    },
    {
     "name": "stderr",
     "output_type": "stream",
     "text": [
      "Finding optimal branch lengths:  89%|████████▊ | 14176/16000 [27:00<02:20, 12.97it/s]"
     ]
    },
    {
     "name": "stdout",
     "output_type": "stream",
     "text": [
      "BAD! log_branch_scaling is nan on step 2\n"
     ]
    },
    {
     "name": "stderr",
     "output_type": "stream",
     "text": [
      "Finding optimal branch lengths:  89%|████████▉ | 14234/16000 [27:07<02:43, 10.83it/s]"
     ]
    },
    {
     "name": "stdout",
     "output_type": "stream",
     "text": [
      "BAD! log_branch_scaling is nan on step 2\n"
     ]
    },
    {
     "name": "stderr",
     "output_type": "stream",
     "text": [
      "Finding optimal branch lengths:  90%|█████████ | 14460/16000 [27:34<03:48,  6.73it/s]"
     ]
    },
    {
     "name": "stdout",
     "output_type": "stream",
     "text": [
      "BAD! log_branch_scaling is nan on step 3\n"
     ]
    },
    {
     "name": "stderr",
     "output_type": "stream",
     "text": [
      "Finding optimal branch lengths:  93%|█████████▎| 14820/16000 [28:15<02:01,  9.70it/s]"
     ]
    },
    {
     "name": "stdout",
     "output_type": "stream",
     "text": [
      "BAD! log_branch_scaling is nan on step 3\n"
     ]
    },
    {
     "name": "stderr",
     "output_type": "stream",
     "text": [
      "Finding optimal branch lengths: 100%|██████████| 16000/16000 [30:32<00:00,  8.73it/s]\n"
     ]
    },
    {
     "name": "stdout",
     "output_type": "stream",
     "text": [
      "predicting mutabilities and substitutions...\n",
      "consolidating this into substitution probabilities...\n"
     ]
    },
    {
     "name": "stderr",
     "output_type": "stream",
     "text": [
      "Finding optimal branch lengths:   1%|          | 47/4000 [00:05<09:19,  7.07it/s]"
     ]
    },
    {
     "name": "stdout",
     "output_type": "stream",
     "text": [
      "BAD! log_branch_scaling is nan on step 2\n"
     ]
    },
    {
     "name": "stderr",
     "output_type": "stream",
     "text": [
      "Finding optimal branch lengths:  21%|██        | 843/4000 [01:37<04:55, 10.69it/s]"
     ]
    },
    {
     "name": "stdout",
     "output_type": "stream",
     "text": [
      "BAD! log_branch_scaling is nan on step 3\n"
     ]
    },
    {
     "name": "stderr",
     "output_type": "stream",
     "text": [
      "Finding optimal branch lengths:  22%|██▏       | 899/4000 [01:43<04:15, 12.13it/s]"
     ]
    },
    {
     "name": "stdout",
     "output_type": "stream",
     "text": [
      "BAD! log_branch_scaling is nan on step 2\n"
     ]
    },
    {
     "name": "stderr",
     "output_type": "stream",
     "text": [
      "Finding optimal branch lengths:  25%|██▌       | 1007/4000 [01:54<03:38, 13.68it/s]"
     ]
    },
    {
     "name": "stdout",
     "output_type": "stream",
     "text": [
      "BAD! log_branch_scaling is nan on step 2\n"
     ]
    },
    {
     "name": "stderr",
     "output_type": "stream",
     "text": [
      "Finding optimal branch lengths:  30%|██▉       | 1187/4000 [02:12<05:41,  8.24it/s]"
     ]
    },
    {
     "name": "stdout",
     "output_type": "stream",
     "text": [
      "BAD! log_branch_scaling is nan on step 2\n"
     ]
    },
    {
     "name": "stderr",
     "output_type": "stream",
     "text": [
      "Finding optimal branch lengths:  31%|███▏      | 1257/4000 [02:19<05:37,  8.12it/s]"
     ]
    },
    {
     "name": "stdout",
     "output_type": "stream",
     "text": [
      "BAD! log_branch_scaling is nan on step 2\n"
     ]
    },
    {
     "name": "stderr",
     "output_type": "stream",
     "text": [
      "Finding optimal branch lengths:  35%|███▌      | 1400/4000 [02:37<03:31, 12.32it/s]"
     ]
    },
    {
     "name": "stdout",
     "output_type": "stream",
     "text": [
      "BAD! log_branch_scaling is nan on step 3\n"
     ]
    },
    {
     "name": "stderr",
     "output_type": "stream",
     "text": [
      "Finding optimal branch lengths:  41%|████      | 1636/4000 [03:01<03:03, 12.88it/s]"
     ]
    },
    {
     "name": "stdout",
     "output_type": "stream",
     "text": [
      "BAD! log_branch_scaling is nan on step 2\n"
     ]
    },
    {
     "name": "stderr",
     "output_type": "stream",
     "text": [
      "Finding optimal branch lengths:  44%|████▍     | 1773/4000 [03:18<05:01,  7.39it/s]"
     ]
    },
    {
     "name": "stdout",
     "output_type": "stream",
     "text": [
      "BAD! log_branch_scaling is nan on step 3\n"
     ]
    },
    {
     "name": "stderr",
     "output_type": "stream",
     "text": [
      "Finding optimal branch lengths:  46%|████▋     | 1855/4000 [03:26<04:36,  7.75it/s]"
     ]
    },
    {
     "name": "stdout",
     "output_type": "stream",
     "text": [
      "BAD! log_branch_scaling is nan on step 2\n"
     ]
    },
    {
     "name": "stderr",
     "output_type": "stream",
     "text": [
      "Finding optimal branch lengths:  48%|████▊     | 1928/4000 [03:34<03:07, 11.05it/s]"
     ]
    },
    {
     "name": "stdout",
     "output_type": "stream",
     "text": [
      "BAD! log_branch_scaling is nan on step 2\n"
     ]
    },
    {
     "name": "stderr",
     "output_type": "stream",
     "text": [
      "Finding optimal branch lengths:  60%|█████▉    | 2382/4000 [04:24<03:36,  7.49it/s]"
     ]
    },
    {
     "name": "stdout",
     "output_type": "stream",
     "text": [
      "BAD! log_branch_scaling is nan on step 2\n"
     ]
    },
    {
     "name": "stderr",
     "output_type": "stream",
     "text": [
      "Finding optimal branch lengths:  63%|██████▎   | 2524/4000 [04:41<01:54, 12.91it/s]"
     ]
    },
    {
     "name": "stdout",
     "output_type": "stream",
     "text": [
      "BAD! log_branch_scaling is nan on step 2\n"
     ]
    },
    {
     "name": "stderr",
     "output_type": "stream",
     "text": [
      "Finding optimal branch lengths:  65%|██████▍   | 2584/4000 [04:47<01:45, 13.38it/s]"
     ]
    },
    {
     "name": "stdout",
     "output_type": "stream",
     "text": [
      "BAD! log_branch_scaling is nan on step 3\n"
     ]
    },
    {
     "name": "stderr",
     "output_type": "stream",
     "text": [
      "Finding optimal branch lengths:  70%|██████▉   | 2789/4000 [05:11<01:55, 10.53it/s]"
     ]
    },
    {
     "name": "stdout",
     "output_type": "stream",
     "text": [
      "BAD! log_branch_scaling is nan on step 2\n"
     ]
    },
    {
     "name": "stderr",
     "output_type": "stream",
     "text": [
      "Finding optimal branch lengths:  78%|███████▊  | 3117/4000 [05:48<01:08, 12.81it/s]"
     ]
    },
    {
     "name": "stdout",
     "output_type": "stream",
     "text": [
      "BAD! log_branch_scaling is nan on step 2\n"
     ]
    },
    {
     "name": "stderr",
     "output_type": "stream",
     "text": [
      "Finding optimal branch lengths:  80%|████████  | 3216/4000 [05:57<01:10, 11.12it/s]"
     ]
    },
    {
     "name": "stdout",
     "output_type": "stream",
     "text": [
      "BAD! log_branch_scaling is nan on step 3\n"
     ]
    },
    {
     "name": "stderr",
     "output_type": "stream",
     "text": [
      "Finding optimal branch lengths:  85%|████████▍ | 3397/4000 [06:18<00:53, 11.37it/s]"
     ]
    },
    {
     "name": "stdout",
     "output_type": "stream",
     "text": [
      "BAD! log_branch_scaling is nan on step 2\n"
     ]
    },
    {
     "name": "stderr",
     "output_type": "stream",
     "text": [
      "Finding optimal branch lengths:  91%|█████████ | 3636/4000 [06:43<00:40,  8.90it/s]"
     ]
    },
    {
     "name": "stdout",
     "output_type": "stream",
     "text": [
      "BAD! log_branch_scaling is nan on step 2\n"
     ]
    },
    {
     "name": "stderr",
     "output_type": "stream",
     "text": [
      "Finding optimal branch lengths:  99%|█████████▉| 3961/4000 [07:16<00:03, 11.11it/s]"
     ]
    },
    {
     "name": "stdout",
     "output_type": "stream",
     "text": [
      "BAD! log_branch_scaling is nan on step 2\n"
     ]
    },
    {
     "name": "stderr",
     "output_type": "stream",
     "text": [
      "Finding optimal branch lengths: 100%|██████████| 4000/4000 [07:21<00:00,  9.06it/s]\n"
     ]
    },
    {
     "name": "stdout",
     "output_type": "stream",
     "text": [
      "predicting mutabilities and substitutions...\n",
      "consolidating this into substitution probabilities...\n",
      "Epoch [0/15], Training Loss: 0.46859713457524776, Validation Loss: 0.46184398233890533\n",
      "training model...\n",
      "Epoch [1/15], Training Loss: 0.19601736962795258, Validation Loss: 0.1778639703989029\n",
      "Epoch [2/15], Training Loss: 0.1729174256324768, Validation Loss: 0.1633971594274044\n",
      "Epoch [3/15], Training Loss: 0.1667732447385788, Validation Loss: 0.15781676024198532\n",
      "Epoch [4/15], Training Loss: 0.15617826581001282, Validation Loss: 0.1558036506175995\n",
      "Epoch [5/15], Training Loss: 0.15405000746250153, Validation Loss: 0.15515098720788956\n",
      "Epoch [6/15], Training Loss: 0.15828771889209747, Validation Loss: 0.15499426424503326\n",
      "Epoch [7/15], Training Loss: 0.15387962758541107, Validation Loss: 0.15499677136540413\n",
      "Epoch [8/15], Training Loss: 0.15889787673950195, Validation Loss: 0.1550367921590805\n",
      "Epoch [9/15], Training Loss: 0.1471494883298874, Validation Loss: 0.1550706960260868\n",
      "Epoch [10/15], Training Loss: 0.16733604669570923, Validation Loss: 0.15509424358606339\n",
      "Epoch [11/15], Training Loss: 0.1518762707710266, Validation Loss: 0.1551026962697506\n",
      "Epoch [12/15], Training Loss: 0.1633913516998291, Validation Loss: 0.15510739386081696\n",
      "Epoch [13/15], Training Loss: 0.15823665261268616, Validation Loss: 0.15510017424821854\n",
      "Epoch [14/15], Training Loss: 0.16376425325870514, Validation Loss: 0.1550704538822174\n",
      "Epoch [15/15], Training Loss: 0.15238690376281738, Validation Loss: 0.1550096459686756\n"
     ]
    },
    {
     "name": "stderr",
     "output_type": "stream",
     "text": [
      "Finding optimal branch lengths:   0%|          | 52/16000 [00:03<17:58, 14.79it/s]"
     ]
    },
    {
     "name": "stdout",
     "output_type": "stream",
     "text": [
      "BAD! log_branch_scaling is nan on step 3\n"
     ]
    },
    {
     "name": "stderr",
     "output_type": "stream",
     "text": [
      "Finding optimal branch lengths:   2%|▏         | 265/16000 [00:23<17:52, 14.67it/s]"
     ]
    },
    {
     "name": "stdout",
     "output_type": "stream",
     "text": [
      "BAD! log_branch_scaling is nan on step 2\n"
     ]
    },
    {
     "name": "stderr",
     "output_type": "stream",
     "text": [
      "Finding optimal branch lengths:   2%|▏         | 335/16000 [00:29<21:53, 11.93it/s]"
     ]
    },
    {
     "name": "stdout",
     "output_type": "stream",
     "text": [
      "BAD! log_branch_scaling is nan on step 3\n"
     ]
    },
    {
     "name": "stderr",
     "output_type": "stream",
     "text": [
      "Finding optimal branch lengths:   3%|▎         | 429/16000 [00:36<17:38, 14.70it/s]"
     ]
    },
    {
     "name": "stdout",
     "output_type": "stream",
     "text": [
      "BAD! log_branch_scaling is nan on step 3\n"
     ]
    },
    {
     "name": "stderr",
     "output_type": "stream",
     "text": [
      "Finding optimal branch lengths:   5%|▌         | 879/16000 [01:14<24:41, 10.21it/s]"
     ]
    },
    {
     "name": "stdout",
     "output_type": "stream",
     "text": [
      "BAD! log_branch_scaling is nan on step 2\n"
     ]
    },
    {
     "name": "stderr",
     "output_type": "stream",
     "text": [
      "Finding optimal branch lengths:  10%|▉         | 1542/16000 [02:13<17:06, 14.08it/s]"
     ]
    },
    {
     "name": "stdout",
     "output_type": "stream",
     "text": [
      "BAD! log_branch_scaling is nan on step 2\n"
     ]
    },
    {
     "name": "stderr",
     "output_type": "stream",
     "text": [
      "Finding optimal branch lengths:  11%|█         | 1706/16000 [02:25<17:09, 13.88it/s]"
     ]
    },
    {
     "name": "stdout",
     "output_type": "stream",
     "text": [
      "BAD! log_branch_scaling is nan on step 2\n"
     ]
    },
    {
     "name": "stderr",
     "output_type": "stream",
     "text": [
      "Finding optimal branch lengths:  12%|█▏        | 1904/16000 [02:41<16:40, 14.09it/s]"
     ]
    },
    {
     "name": "stdout",
     "output_type": "stream",
     "text": [
      "BAD! log_branch_scaling is nan on step 2\n"
     ]
    },
    {
     "name": "stderr",
     "output_type": "stream",
     "text": [
      "Finding optimal branch lengths:  14%|█▍        | 2272/16000 [03:11<22:33, 10.15it/s]"
     ]
    },
    {
     "name": "stdout",
     "output_type": "stream",
     "text": [
      "BAD! log_branch_scaling is nan on step 2\n"
     ]
    },
    {
     "name": "stderr",
     "output_type": "stream",
     "text": [
      "Finding optimal branch lengths:  14%|█▍        | 2302/16000 [03:15<20:07, 11.34it/s]"
     ]
    },
    {
     "name": "stdout",
     "output_type": "stream",
     "text": [
      "BAD! log_branch_scaling is nan on step 2\n"
     ]
    },
    {
     "name": "stderr",
     "output_type": "stream",
     "text": [
      "Finding optimal branch lengths:  16%|█▌        | 2510/16000 [03:31<16:08, 13.93it/s]"
     ]
    },
    {
     "name": "stdout",
     "output_type": "stream",
     "text": [
      "BAD! log_branch_scaling is nan on step 2\n"
     ]
    },
    {
     "name": "stderr",
     "output_type": "stream",
     "text": [
      "Finding optimal branch lengths:  18%|█▊        | 2892/16000 [04:09<15:40, 13.94it/s]"
     ]
    },
    {
     "name": "stdout",
     "output_type": "stream",
     "text": [
      "BAD! log_branch_scaling is nan on step 2\n"
     ]
    },
    {
     "name": "stderr",
     "output_type": "stream",
     "text": [
      "Finding optimal branch lengths:  21%|██▏       | 3402/16000 [04:52<16:18, 12.88it/s]"
     ]
    },
    {
     "name": "stdout",
     "output_type": "stream",
     "text": [
      "BAD! log_branch_scaling is nan on step 3\n"
     ]
    },
    {
     "name": "stderr",
     "output_type": "stream",
     "text": [
      "Finding optimal branch lengths:  23%|██▎       | 3742/16000 [05:20<18:04, 11.31it/s]"
     ]
    },
    {
     "name": "stdout",
     "output_type": "stream",
     "text": [
      "BAD! log_branch_scaling is nan on step 13\n"
     ]
    },
    {
     "name": "stderr",
     "output_type": "stream",
     "text": [
      "Finding optimal branch lengths:  24%|██▍       | 3841/16000 [05:29<24:49,  8.16it/s]"
     ]
    },
    {
     "name": "stdout",
     "output_type": "stream",
     "text": [
      "BAD! log_branch_scaling is nan on step 2\n",
      "BAD! log_branch_scaling is nan on step 2\n"
     ]
    },
    {
     "name": "stderr",
     "output_type": "stream",
     "text": [
      "Finding optimal branch lengths:  34%|███▍      | 5507/16000 [08:01<16:41, 10.47it/s]"
     ]
    },
    {
     "name": "stdout",
     "output_type": "stream",
     "text": [
      "BAD! log_branch_scaling is nan on step 49\n"
     ]
    },
    {
     "name": "stderr",
     "output_type": "stream",
     "text": [
      "Finding optimal branch lengths:  39%|███▉      | 6212/16000 [09:01<12:06, 13.47it/s]"
     ]
    },
    {
     "name": "stdout",
     "output_type": "stream",
     "text": [
      "BAD! log_branch_scaling is nan on step 2\n"
     ]
    },
    {
     "name": "stderr",
     "output_type": "stream",
     "text": [
      "Finding optimal branch lengths:  39%|███▉      | 6238/16000 [09:03<14:05, 11.55it/s]"
     ]
    },
    {
     "name": "stdout",
     "output_type": "stream",
     "text": [
      "BAD! log_branch_scaling is nan on step 3\n"
     ]
    },
    {
     "name": "stderr",
     "output_type": "stream",
     "text": [
      "Finding optimal branch lengths:  39%|███▉      | 6282/16000 [09:08<12:31, 12.93it/s]"
     ]
    },
    {
     "name": "stdout",
     "output_type": "stream",
     "text": [
      "BAD! log_branch_scaling is nan on step 2\n"
     ]
    },
    {
     "name": "stderr",
     "output_type": "stream",
     "text": [
      "Finding optimal branch lengths:  40%|████      | 6423/16000 [09:20<12:06, 13.18it/s]"
     ]
    },
    {
     "name": "stdout",
     "output_type": "stream",
     "text": [
      "BAD! log_branch_scaling is nan on step 2\n"
     ]
    },
    {
     "name": "stderr",
     "output_type": "stream",
     "text": [
      "Finding optimal branch lengths:  43%|████▎     | 6873/16000 [09:58<10:47, 14.10it/s]"
     ]
    },
    {
     "name": "stdout",
     "output_type": "stream",
     "text": [
      "BAD! log_branch_scaling is nan on step 6\n"
     ]
    },
    {
     "name": "stderr",
     "output_type": "stream",
     "text": [
      "Finding optimal branch lengths:  44%|████▎     | 6989/16000 [10:08<11:26, 13.13it/s]"
     ]
    },
    {
     "name": "stdout",
     "output_type": "stream",
     "text": [
      "BAD! log_branch_scaling is nan on step 2\n"
     ]
    },
    {
     "name": "stderr",
     "output_type": "stream",
     "text": [
      "Finding optimal branch lengths:  45%|████▍     | 7173/16000 [10:23<10:00, 14.71it/s]"
     ]
    },
    {
     "name": "stdout",
     "output_type": "stream",
     "text": [
      "BAD! log_branch_scaling is nan on step 2\n"
     ]
    },
    {
     "name": "stderr",
     "output_type": "stream",
     "text": [
      "Finding optimal branch lengths:  46%|████▌     | 7311/16000 [10:36<10:06, 14.32it/s]"
     ]
    },
    {
     "name": "stdout",
     "output_type": "stream",
     "text": [
      "BAD! log_branch_scaling is nan on step 2\n"
     ]
    },
    {
     "name": "stderr",
     "output_type": "stream",
     "text": [
      "Finding optimal branch lengths:  49%|████▉     | 7805/16000 [11:23<10:30, 13.00it/s]"
     ]
    },
    {
     "name": "stdout",
     "output_type": "stream",
     "text": [
      "BAD! log_branch_scaling is nan on step 2\n"
     ]
    },
    {
     "name": "stderr",
     "output_type": "stream",
     "text": [
      "Finding optimal branch lengths:  51%|█████     | 8151/16000 [11:54<09:58, 13.12it/s]"
     ]
    },
    {
     "name": "stdout",
     "output_type": "stream",
     "text": [
      "BAD! log_branch_scaling is nan on step 2\n"
     ]
    },
    {
     "name": "stderr",
     "output_type": "stream",
     "text": [
      "Finding optimal branch lengths:  56%|█████▋    | 9033/16000 [13:18<08:19, 13.94it/s]"
     ]
    },
    {
     "name": "stdout",
     "output_type": "stream",
     "text": [
      "BAD! log_branch_scaling is nan on step 2\n",
      "BAD! log_branch_scaling is nan on step 2\n"
     ]
    },
    {
     "name": "stderr",
     "output_type": "stream",
     "text": [
      "Finding optimal branch lengths:  63%|██████▎   | 10056/16000 [14:52<11:07,  8.91it/s]"
     ]
    },
    {
     "name": "stdout",
     "output_type": "stream",
     "text": [
      "BAD! log_branch_scaling is nan on step 3\n"
     ]
    },
    {
     "name": "stderr",
     "output_type": "stream",
     "text": [
      "Finding optimal branch lengths:  67%|██████▋   | 10700/16000 [15:46<06:49, 12.94it/s]"
     ]
    },
    {
     "name": "stdout",
     "output_type": "stream",
     "text": [
      "BAD! log_branch_scaling is nan on step 2\n"
     ]
    },
    {
     "name": "stderr",
     "output_type": "stream",
     "text": [
      "Finding optimal branch lengths:  69%|██████▉   | 11106/16000 [16:22<08:11,  9.95it/s]"
     ]
    },
    {
     "name": "stdout",
     "output_type": "stream",
     "text": [
      "BAD! log_branch_scaling is nan on step 2\n"
     ]
    },
    {
     "name": "stderr",
     "output_type": "stream",
     "text": [
      "Finding optimal branch lengths:  74%|███████▍  | 11817/16000 [17:28<06:15, 11.13it/s]"
     ]
    },
    {
     "name": "stdout",
     "output_type": "stream",
     "text": [
      "BAD! log_branch_scaling is nan on step 19\n"
     ]
    },
    {
     "name": "stderr",
     "output_type": "stream",
     "text": [
      "Finding optimal branch lengths:  77%|███████▋  | 12347/16000 [18:14<04:45, 12.79it/s]"
     ]
    },
    {
     "name": "stdout",
     "output_type": "stream",
     "text": [
      "BAD! log_branch_scaling is nan on step 2\n"
     ]
    },
    {
     "name": "stderr",
     "output_type": "stream",
     "text": [
      "Finding optimal branch lengths:  79%|███████▉  | 12645/16000 [18:41<04:24, 12.66it/s]"
     ]
    },
    {
     "name": "stdout",
     "output_type": "stream",
     "text": [
      "BAD! log_branch_scaling is nan on step 2\n"
     ]
    },
    {
     "name": "stderr",
     "output_type": "stream",
     "text": [
      "Finding optimal branch lengths:  82%|████████▏ | 13147/16000 [19:27<03:35, 13.25it/s]"
     ]
    },
    {
     "name": "stdout",
     "output_type": "stream",
     "text": [
      "BAD! log_branch_scaling is nan on step 3\n"
     ]
    },
    {
     "name": "stderr",
     "output_type": "stream",
     "text": [
      "Finding optimal branch lengths:  85%|████████▍ | 13553/16000 [20:05<03:19, 12.26it/s]"
     ]
    },
    {
     "name": "stdout",
     "output_type": "stream",
     "text": [
      "BAD! log_branch_scaling is nan on step 2\n"
     ]
    },
    {
     "name": "stderr",
     "output_type": "stream",
     "text": [
      "Finding optimal branch lengths:  89%|████████▉ | 14234/16000 [21:08<02:16, 12.95it/s]"
     ]
    },
    {
     "name": "stdout",
     "output_type": "stream",
     "text": [
      "BAD! log_branch_scaling is nan on step 2\n"
     ]
    },
    {
     "name": "stderr",
     "output_type": "stream",
     "text": [
      "Finding optimal branch lengths:  90%|█████████ | 14460/16000 [21:29<03:15,  7.88it/s]"
     ]
    },
    {
     "name": "stdout",
     "output_type": "stream",
     "text": [
      "BAD! log_branch_scaling is nan on step 3\n"
     ]
    },
    {
     "name": "stderr",
     "output_type": "stream",
     "text": [
      "Finding optimal branch lengths:  93%|█████████▎| 14820/16000 [21:59<01:29, 13.17it/s]"
     ]
    },
    {
     "name": "stdout",
     "output_type": "stream",
     "text": [
      "BAD! log_branch_scaling is nan on step 3\n"
     ]
    },
    {
     "name": "stderr",
     "output_type": "stream",
     "text": [
      "Finding optimal branch lengths: 100%|██████████| 16000/16000 [23:40<00:00, 11.27it/s]\n"
     ]
    },
    {
     "name": "stdout",
     "output_type": "stream",
     "text": [
      "predicting mutabilities and substitutions...\n",
      "consolidating this into substitution probabilities...\n"
     ]
    },
    {
     "name": "stderr",
     "output_type": "stream",
     "text": [
      "Finding optimal branch lengths:  22%|██▎       | 900/4000 [01:24<03:58, 13.00it/s]"
     ]
    },
    {
     "name": "stdout",
     "output_type": "stream",
     "text": [
      "BAD! log_branch_scaling is nan on step 2\n"
     ]
    },
    {
     "name": "stderr",
     "output_type": "stream",
     "text": [
      "Finding optimal branch lengths:  25%|██▌       | 1006/4000 [01:34<03:30, 14.22it/s]"
     ]
    },
    {
     "name": "stdout",
     "output_type": "stream",
     "text": [
      "BAD! log_branch_scaling is nan on step 2\n"
     ]
    },
    {
     "name": "stderr",
     "output_type": "stream",
     "text": [
      "Finding optimal branch lengths:  31%|███▏      | 1258/4000 [01:56<03:13, 14.18it/s]"
     ]
    },
    {
     "name": "stdout",
     "output_type": "stream",
     "text": [
      "BAD! log_branch_scaling is nan on step 2\n"
     ]
    },
    {
     "name": "stderr",
     "output_type": "stream",
     "text": [
      "Finding optimal branch lengths:  35%|███▌      | 1400/4000 [02:08<03:20, 13.00it/s]"
     ]
    },
    {
     "name": "stdout",
     "output_type": "stream",
     "text": [
      "BAD! log_branch_scaling is nan on step 3\n"
     ]
    },
    {
     "name": "stderr",
     "output_type": "stream",
     "text": [
      "Finding optimal branch lengths:  41%|████      | 1635/4000 [02:26<02:43, 14.45it/s]"
     ]
    },
    {
     "name": "stdout",
     "output_type": "stream",
     "text": [
      "BAD! log_branch_scaling is nan on step 2\n"
     ]
    },
    {
     "name": "stderr",
     "output_type": "stream",
     "text": [
      "Finding optimal branch lengths:  46%|████▋     | 1855/4000 [02:45<03:14, 11.02it/s]"
     ]
    },
    {
     "name": "stdout",
     "output_type": "stream",
     "text": [
      "BAD! log_branch_scaling is nan on step 2\n"
     ]
    },
    {
     "name": "stderr",
     "output_type": "stream",
     "text": [
      "Finding optimal branch lengths:  48%|████▊     | 1928/4000 [02:53<02:47, 12.35it/s]"
     ]
    },
    {
     "name": "stdout",
     "output_type": "stream",
     "text": [
      "BAD! log_branch_scaling is nan on step 2\n"
     ]
    },
    {
     "name": "stderr",
     "output_type": "stream",
     "text": [
      "Finding optimal branch lengths:  60%|█████▉    | 2382/4000 [03:30<01:56, 13.93it/s]"
     ]
    },
    {
     "name": "stdout",
     "output_type": "stream",
     "text": [
      "BAD! log_branch_scaling is nan on step 32\n"
     ]
    },
    {
     "name": "stderr",
     "output_type": "stream",
     "text": [
      "Finding optimal branch lengths:  63%|██████▎   | 2524/4000 [03:41<01:51, 13.26it/s]"
     ]
    },
    {
     "name": "stdout",
     "output_type": "stream",
     "text": [
      "BAD! log_branch_scaling is nan on step 2\n"
     ]
    },
    {
     "name": "stderr",
     "output_type": "stream",
     "text": [
      "Finding optimal branch lengths:  65%|██████▍   | 2584/4000 [03:46<01:39, 14.25it/s]"
     ]
    },
    {
     "name": "stdout",
     "output_type": "stream",
     "text": [
      "BAD! log_branch_scaling is nan on step 3\n"
     ]
    },
    {
     "name": "stderr",
     "output_type": "stream",
     "text": [
      "Finding optimal branch lengths:  78%|███████▊  | 3118/4000 [04:37<01:03, 13.81it/s]"
     ]
    },
    {
     "name": "stdout",
     "output_type": "stream",
     "text": [
      "BAD! log_branch_scaling is nan on step 2\n"
     ]
    },
    {
     "name": "stderr",
     "output_type": "stream",
     "text": [
      "Finding optimal branch lengths:  85%|████████▍ | 3397/4000 [05:01<00:45, 13.31it/s]"
     ]
    },
    {
     "name": "stdout",
     "output_type": "stream",
     "text": [
      "BAD! log_branch_scaling is nan on step 24\n"
     ]
    },
    {
     "name": "stderr",
     "output_type": "stream",
     "text": [
      "Finding optimal branch lengths:  91%|█████████ | 3635/4000 [05:23<00:27, 13.19it/s]"
     ]
    },
    {
     "name": "stdout",
     "output_type": "stream",
     "text": [
      "BAD! log_branch_scaling is nan on step 2\n"
     ]
    },
    {
     "name": "stderr",
     "output_type": "stream",
     "text": [
      "Finding optimal branch lengths:  99%|█████████▉| 3961/4000 [05:49<00:03, 12.84it/s]"
     ]
    },
    {
     "name": "stdout",
     "output_type": "stream",
     "text": [
      "BAD! log_branch_scaling is nan on step 2\n"
     ]
    },
    {
     "name": "stderr",
     "output_type": "stream",
     "text": [
      "Finding optimal branch lengths: 100%|██████████| 4000/4000 [05:52<00:00, 11.35it/s]\n"
     ]
    },
    {
     "name": "stdout",
     "output_type": "stream",
     "text": [
      "predicting mutabilities and substitutions...\n",
      "consolidating this into substitution probabilities...\n",
      "Epoch [0/15], Training Loss: 0.1556955873966217, Validation Loss: 0.15311274304986\n",
      "training model...\n",
      "Epoch [1/15], Training Loss: 0.15055571496486664, Validation Loss: 0.14577874541282654\n",
      "Epoch [2/15], Training Loss: 0.1539635956287384, Validation Loss: 0.14559443667531013\n",
      "Epoch [3/15], Training Loss: 0.15356393158435822, Validation Loss: 0.1453264132142067\n",
      "Epoch [4/15], Training Loss: 0.14616042375564575, Validation Loss: 0.14533190429210663\n",
      "Epoch [5/15], Training Loss: 0.1452721804380417, Validation Loss: 0.1453026719391346\n",
      "Epoch [6/15], Training Loss: 0.14747102558612823, Validation Loss: 0.14538821950554848\n",
      "Epoch [7/15], Training Loss: 0.156844824552536, Validation Loss: 0.1452643759548664\n",
      "Epoch [8/15], Training Loss: 0.146803081035614, Validation Loss: 0.14533566683530807\n",
      "Epoch [9/15], Training Loss: 0.14081332087516785, Validation Loss: 0.14536377042531967\n",
      "Epoch [10/15], Training Loss: 0.14668188989162445, Validation Loss: 0.14516441896557808\n",
      "Epoch [11/15], Training Loss: 0.14739729464054108, Validation Loss: 0.1450355462729931\n",
      "Epoch [12/15], Training Loss: 0.14428949356079102, Validation Loss: 0.1443818025290966\n",
      "Epoch [13/15], Training Loss: 0.1515679657459259, Validation Loss: 0.14315644279122353\n",
      "Epoch [14/15], Training Loss: 0.1390693485736847, Validation Loss: 0.14320296421647072\n",
      "Epoch [15/15], Training Loss: 0.14554966986179352, Validation Loss: 0.1429281011223793\n"
     ]
    }
   ],
   "source": [
    "shmple_weights_directory = \"/Users/matsen/re/epam/data/shmple_weights/my_shmoof\"\n",
    "nhead = 4\n",
    "dim_feedforward = 2048\n",
    "layer_count = 3\n",
    "\n",
    "dnsm = TransformerBinarySelectionModel(\n",
    "    nhead=nhead, dim_feedforward=dim_feedforward, layer_count=layer_count\n",
    ")\n",
    "\n",
    "burrito = DNSMBurrito(pcp_df, shmple_weights_directory, dnsm, batch_size=1024, learning_rate=0.001, checkpoint_dir=\"./_checkpoints\", log_dir=\"./_logs\")\n",
    "\n",
    "burrito.train(3)\n",
    "burrito.optimize_branch_lengths()\n",
    "burrito.train(15)\n",
    "burrito.optimize_branch_lengths()\n",
    "burrito.train(15)"
   ]
  },
  {
   "cell_type": "code",
   "execution_count": 15,
   "metadata": {},
   "outputs": [
    {
     "data": {
      "text/plain": [
       "array([0.16746567, 0.18125452, 0.17475654, 0.14934239, 0.19283801,\n",
       "       0.17483354, 0.22327097, 0.15719528, 0.2670195 , 0.15506317,\n",
       "       0.15051098, 0.3086634 , 0.30574813, 0.16796537, 0.15364574,\n",
       "       0.27505472, 0.2421864 , 0.19693483, 0.30720553, 0.20181261,\n",
       "       0.2733704 , 0.15934032, 0.32970226, 0.30831188, 0.28278762,\n",
       "       0.16281629, 0.25050843, 0.3119859 , 0.16555636, 0.2933701 ,\n",
       "       0.25556317, 0.21109025, 0.15875149, 0.15081373, 0.2629757 ,\n",
       "       0.15331246, 0.22006264, 0.17811066, 0.21454369, 0.3095778 ,\n",
       "       0.23798394, 0.1833422 , 0.23784602, 0.17310007, 0.15132064,\n",
       "       0.1633514 , 0.15469873, 0.31436643, 0.17545184, 0.15432854,\n",
       "       0.30028984, 0.3328726 , 0.34694675, 0.34256014, 0.34860313,\n",
       "       0.23313344, 0.3446737 , 0.3190169 , 0.35119778, 0.32210308,\n",
       "       0.34833214, 0.30879936, 0.23360679, 0.28930157, 0.3455299 ,\n",
       "       0.24755357, 0.30245617, 0.3314089 , 0.32135543, 0.33970687,\n",
       "       0.3460881 , 0.20939623, 0.3135103 , 0.34284648, 0.33584425,\n",
       "       0.3130739 , 0.336011  , 0.33908415, 0.33742192, 0.29846317,\n",
       "       0.16207898, 0.28402993, 0.3423188 , 0.34661597, 0.34805113,\n",
       "       0.17522612, 0.35532758, 0.35745242, 0.23623493, 0.33187583,\n",
       "       0.3499309 , 0.35142112, 0.31455705, 0.30161962, 0.3005234 ,\n",
       "       0.21187077, 0.3486743 , 0.30464485, 0.28173795, 0.29233566,\n",
       "       0.35258058, 0.34899598, 0.3418285 , 0.32714877, 0.29871058,\n",
       "       0.23297775, 0.26056543, 0.24981105, 0.16821599, 0.2358194 ,\n",
       "       0.22353631, 0.23807512, 0.15770745, 0.17852601, 0.24331413,\n",
       "       0.19380358, 0.3188701 , 0.15545212, 0.2669545 , 0.30769703,\n",
       "       0.26620817, 0.31014338, 0.3033684 ], dtype=float32)"
      ]
     },
     "execution_count": 15,
     "metadata": {},
     "output_type": "execute_result"
    }
   ],
   "source": [
    "[aa_str] = translate_sequences([pcp_df.reset_index(drop=True).loc[0, \"parent\"]])\n",
    "burrito.dnsm.selection_factors_of_aa_str(aa_str)"
   ]
  },
  {
   "cell_type": "code",
   "execution_count": 18,
   "metadata": {},
   "outputs": [
    {
     "name": "stdout",
     "output_type": "stream",
     "text": [
      "Using Metal Performance Shaders\n"
     ]
    },
    {
     "data": {
      "text/plain": [
       "array([0.16746567, 0.18125452, 0.17475654, 0.14934239, 0.19283801,\n",
       "       0.17483354, 0.22327097, 0.15719528, 0.2670195 , 0.15506317,\n",
       "       0.15051098, 0.3086634 , 0.30574813, 0.16796537, 0.15364574,\n",
       "       0.27505472, 0.2421864 , 0.19693483, 0.30720553, 0.20181261,\n",
       "       0.2733704 , 0.15934032, 0.32970226, 0.30831188, 0.28278762,\n",
       "       0.16281629, 0.25050843, 0.3119859 , 0.16555636, 0.2933701 ,\n",
       "       0.25556317, 0.21109025, 0.15875149, 0.15081373, 0.2629757 ,\n",
       "       0.15331246, 0.22006264, 0.17811066, 0.21454369, 0.3095778 ,\n",
       "       0.23798394, 0.1833422 , 0.23784602, 0.17310007, 0.15132064,\n",
       "       0.1633514 , 0.15469873, 0.31436643, 0.17545184, 0.15432854,\n",
       "       0.30028984, 0.3328726 , 0.34694675, 0.34256014, 0.34860313,\n",
       "       0.23313344, 0.3446737 , 0.3190169 , 0.35119778, 0.32210308,\n",
       "       0.34833214, 0.30879936, 0.23360679, 0.28930157, 0.3455299 ,\n",
       "       0.24755357, 0.30245617, 0.3314089 , 0.32135543, 0.33970687,\n",
       "       0.3460881 , 0.20939623, 0.3135103 , 0.34284648, 0.33584425,\n",
       "       0.3130739 , 0.336011  , 0.33908415, 0.33742192, 0.29846317,\n",
       "       0.16207898, 0.28402993, 0.3423188 , 0.34661597, 0.34805113,\n",
       "       0.17522612, 0.35532758, 0.35745242, 0.23623493, 0.33187583,\n",
       "       0.3499309 , 0.35142112, 0.31455705, 0.30161962, 0.3005234 ,\n",
       "       0.21187077, 0.3486743 , 0.30464485, 0.28173795, 0.29233566,\n",
       "       0.35258058, 0.34899598, 0.3418285 , 0.32714877, 0.29871058,\n",
       "       0.23297775, 0.26056543, 0.24981105, 0.16821599, 0.2358194 ,\n",
       "       0.22353631, 0.23807512, 0.15770745, 0.17852601, 0.24331413,\n",
       "       0.19380358, 0.3188701 , 0.15545212, 0.2669545 , 0.30769703,\n",
       "       0.26620817, 0.31014338, 0.3033684 ], dtype=float32)"
      ]
     },
     "execution_count": 18,
     "metadata": {},
     "output_type": "execute_result"
    }
   ],
   "source": [
    "nhead = 4\n",
    "dim_feedforward = 2048\n",
    "layer_count = 3\n",
    "\n",
    "model = TransformerBinarySelectionModel(\n",
    "    nhead=nhead, dim_feedforward=dim_feedforward, layer_count=layer_count\n",
    ")\n",
    "\n",
    "model.load_state_dict(torch.load(\"/Users/matsen/re/epam/trained_dnsms/dnsm-2023-11-01-09-32.pth\")[\"model_state_dict\"])\n",
    "model.eval()\n",
    "model.selection_factors_of_aa_str(aa_str)"
   ]
  }
 ],
 "metadata": {
  "kernelspec": {
   "display_name": "epam",
   "language": "python",
   "name": "python3"
  },
  "language_info": {
   "codemirror_mode": {
    "name": "ipython",
    "version": 3
   },
   "file_extension": ".py",
   "mimetype": "text/x-python",
   "name": "python",
   "nbconvert_exporter": "python",
   "pygments_lexer": "ipython3",
   "version": "3.9.18"
  }
 },
 "nbformat": 4,
 "nbformat_minor": 2
}
