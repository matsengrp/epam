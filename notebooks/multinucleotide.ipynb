{
 "cells": [
  {
   "cell_type": "code",
   "execution_count": 5,
   "metadata": {},
   "outputs": [],
   "source": [
    "import numpy as np\n",
    "import pandas as pd\n",
    "import matplotlib.pyplot as plt\n",
    "\n",
    "from epam.sequences import translate_sequences"
   ]
  },
  {
   "cell_type": "markdown",
   "metadata": {},
   "source": [
    "We're going to be interested in the frequency of multinucleotide mutations, which is the number of mutations per codon, even if this isn't a coding sequence."
   ]
  },
  {
   "cell_type": "code",
   "execution_count": 6,
   "metadata": {},
   "outputs": [
    {
     "name": "stdout",
     "output_type": "stream",
     "text": [
      "5\n",
      "4\n"
     ]
    }
   ],
   "source": [
    "def count_multi_mutations(indicator_vector):\n",
    "    \"Counts the number of mutations that are in a codon with at least 2 mutations.\"\n",
    "    # Trim the vector so its length is a multiple of 3\n",
    "    n = len(indicator_vector)\n",
    "    n_codons = n // 3\n",
    "    trimmed_vector = indicator_vector[:n_codons * 3]\n",
    "    \n",
    "    # Reshape the vector into a 2D array where each row represents a codon\n",
    "    codon_matrix = trimmed_vector.reshape(-1, 3)\n",
    "    \n",
    "    # Sum along axis 1 to count the number of mutations in each codon\n",
    "    codon_sums = np.sum(codon_matrix, axis=1)\n",
    "    \n",
    "    return np.sum(codon_sums * (codon_sums >= 2))\n",
    "    \n",
    "print(count_multi_mutations(np.array([0, 1, 0,  1, 1, 0,  0, 0, 0,  1, 1, 1,  0, 1]).astype(bool)))\n",
    "print(count_multi_mutations(np.array([0, 1, 0,  1, 1, 0,  0, 0, 0,  1, 0, 1,  0, 1]).astype(bool)))"
   ]
  },
  {
   "cell_type": "code",
   "execution_count": 7,
   "metadata": {},
   "outputs": [],
   "source": [
    "def mutation_vector_of(parent, child):\n",
    "    parent_array = np.array(list(parent))\n",
    "    child_array = np.array(list(child))\n",
    "    \n",
    "    # Check for 'N' in either parent or child\n",
    "    n_mask = (parent_array == 'N') | (child_array == 'N')\n",
    "    \n",
    "    # Compare each position\n",
    "    mutations = parent_array != child_array\n",
    "    \n",
    "    # If 'N' is in either string, set to False\n",
    "    mutations[n_mask] = False\n",
    "    \n",
    "    return mutations\n",
    "\n",
    "\n",
    "def mutation_column_of(col1, col2):\n",
    "    return [mutation_vector_of(p, c) for p, c in zip(col1, col2)]\n",
    "\n",
    "def process_sequences(pcp_df):\n",
    "    pcp_df.drop(pcp_df.columns[0], axis=1, inplace=True)\n",
    "    pcp_df[\"nt_mutations\"] = mutation_column_of(pcp_df[\"parent\"], pcp_df[\"child\"])\n",
    "    pcp_df[\"nt_mutation_count\"] = [np.sum(x) for x in pcp_df[\"nt_mutations\"]]\n",
    "    pcp_df[\"parent_length\"] = [len(x) for x in pcp_df[\"parent\"]]\n",
    "    pcp_df[\"multi_mutation_count\"] = pcp_df[\"nt_mutations\"].apply(count_multi_mutations)\n",
    "    pcp_df[\"multi_mutation_frac\"] = pcp_df[\"multi_mutation_count\"] / pcp_df[\"nt_mutation_count\"]"
   ]
  },
  {
   "cell_type": "code",
   "execution_count": 8,
   "metadata": {},
   "outputs": [
    {
     "data": {
      "text/html": [
       "<div>\n",
       "<style scoped>\n",
       "    .dataframe tbody tr th:only-of-type {\n",
       "        vertical-align: middle;\n",
       "    }\n",
       "\n",
       "    .dataframe tbody tr th {\n",
       "        vertical-align: top;\n",
       "    }\n",
       "\n",
       "    .dataframe thead th {\n",
       "        text-align: right;\n",
       "    }\n",
       "</style>\n",
       "<table border=\"1\" class=\"dataframe\">\n",
       "  <thead>\n",
       "    <tr style=\"text-align: right;\">\n",
       "      <th></th>\n",
       "      <th>sample_id</th>\n",
       "      <th>family</th>\n",
       "      <th>parent</th>\n",
       "      <th>child</th>\n",
       "      <th>v_gene</th>\n",
       "      <th>child_is_leaf</th>\n",
       "      <th>nt_mutations</th>\n",
       "      <th>nt_mutation_count</th>\n",
       "      <th>parent_length</th>\n",
       "      <th>multi_mutation_count</th>\n",
       "      <th>multi_mutation_frac</th>\n",
       "    </tr>\n",
       "  </thead>\n",
       "  <tbody>\n",
       "    <tr>\n",
       "      <th>0</th>\n",
       "      <td>0</td>\n",
       "      <td>149198</td>\n",
       "      <td>CAGGTGCAGCTGGTGGAGTCTGGGGGAGGCGTGGTCCAGCCTGGGA...</td>\n",
       "      <td>CAGGTGCAGCTGGTGGAGTCTGGGGGAGGCGTGGTCCAGCCTGGGA...</td>\n",
       "      <td>IGHV3-33*01</td>\n",
       "      <td>False</td>\n",
       "      <td>[False, False, False, False, False, False, Fal...</td>\n",
       "      <td>3</td>\n",
       "      <td>372</td>\n",
       "      <td>0</td>\n",
       "      <td>0.000000</td>\n",
       "    </tr>\n",
       "    <tr>\n",
       "      <th>1</th>\n",
       "      <td>0</td>\n",
       "      <td>149198</td>\n",
       "      <td>CAGGTGCAGCTGGTGGAGTCTGGGGGAGGCGTGGTCCAGCCTGGGA...</td>\n",
       "      <td>CAGGTGCAGCTGGTGGAGTCTGGGGGAGGCGTGGTCCAGCCTGGGA...</td>\n",
       "      <td>IGHV3-33*01</td>\n",
       "      <td>False</td>\n",
       "      <td>[False, False, False, False, False, False, Fal...</td>\n",
       "      <td>4</td>\n",
       "      <td>372</td>\n",
       "      <td>0</td>\n",
       "      <td>0.000000</td>\n",
       "    </tr>\n",
       "    <tr>\n",
       "      <th>2</th>\n",
       "      <td>0</td>\n",
       "      <td>149198</td>\n",
       "      <td>CAGGTGCAGCTGGTGGAGTCTGGGGGAGGCGTGGTCCAGCCTGGGA...</td>\n",
       "      <td>CAAGTGCAGCTGGTGGAGTCTGGGGGAGGCGTGGTCCAGCCTGGGA...</td>\n",
       "      <td>IGHV3-33*01</td>\n",
       "      <td>False</td>\n",
       "      <td>[False, False, True, False, False, False, Fals...</td>\n",
       "      <td>16</td>\n",
       "      <td>372</td>\n",
       "      <td>2</td>\n",
       "      <td>0.125000</td>\n",
       "    </tr>\n",
       "    <tr>\n",
       "      <th>3</th>\n",
       "      <td>0</td>\n",
       "      <td>149198</td>\n",
       "      <td>CAAGTGCAGCTGGTGGAGTCTGGGGGAGGCGTGGTCCAGCCTGGGA...</td>\n",
       "      <td>CAAATGCAGATGGTGGAGTCGGGGGGAGGCGTGGTCCAGCCAGGGA...</td>\n",
       "      <td>IGHV3-33*01</td>\n",
       "      <td>True</td>\n",
       "      <td>[False, False, False, True, False, False, Fals...</td>\n",
       "      <td>19</td>\n",
       "      <td>372</td>\n",
       "      <td>0</td>\n",
       "      <td>0.000000</td>\n",
       "    </tr>\n",
       "    <tr>\n",
       "      <th>4</th>\n",
       "      <td>0</td>\n",
       "      <td>149198</td>\n",
       "      <td>CAAGTGCAGCTGGTGGAGTCTGGGGGAGGCGTGGTCCAGCCTGGGA...</td>\n",
       "      <td>CAAGTGCAACTGGTGGAGTCTGGGGGAGGCGTGGTCCAGCCTGGGA...</td>\n",
       "      <td>IGHV3-33*01</td>\n",
       "      <td>True</td>\n",
       "      <td>[False, False, False, False, False, False, Fal...</td>\n",
       "      <td>7</td>\n",
       "      <td>372</td>\n",
       "      <td>0</td>\n",
       "      <td>0.000000</td>\n",
       "    </tr>\n",
       "    <tr>\n",
       "      <th>...</th>\n",
       "      <td>...</td>\n",
       "      <td>...</td>\n",
       "      <td>...</td>\n",
       "      <td>...</td>\n",
       "      <td>...</td>\n",
       "      <td>...</td>\n",
       "      <td>...</td>\n",
       "      <td>...</td>\n",
       "      <td>...</td>\n",
       "      <td>...</td>\n",
       "      <td>...</td>\n",
       "    </tr>\n",
       "    <tr>\n",
       "      <th>94624</th>\n",
       "      <td>0</td>\n",
       "      <td>17934</td>\n",
       "      <td>CAGCTGCAGCTGCAGGAGTCGGGCCCAGGACTGGTGAAGCCTTCGG...</td>\n",
       "      <td>CAGCTGCAGCTGCAGGAGTCGGGCCCAGGACTGGTGAAGCCTTCGG...</td>\n",
       "      <td>IGHV4-39*01</td>\n",
       "      <td>False</td>\n",
       "      <td>[False, False, False, False, False, False, Fal...</td>\n",
       "      <td>2</td>\n",
       "      <td>357</td>\n",
       "      <td>0</td>\n",
       "      <td>0.000000</td>\n",
       "    </tr>\n",
       "    <tr>\n",
       "      <th>94625</th>\n",
       "      <td>0</td>\n",
       "      <td>17934</td>\n",
       "      <td>CAGCTGCAGCTGCAGGAGTCGGGCCCAGGACTGGTGAAGCCTTCGG...</td>\n",
       "      <td>CAGCTGCAGCTGCAGGAGTCGGGCCCAGGACTTGTGAAGCCTTCGG...</td>\n",
       "      <td>IGHV4-39*01</td>\n",
       "      <td>True</td>\n",
       "      <td>[False, False, False, False, False, False, Fal...</td>\n",
       "      <td>8</td>\n",
       "      <td>357</td>\n",
       "      <td>0</td>\n",
       "      <td>0.000000</td>\n",
       "    </tr>\n",
       "    <tr>\n",
       "      <th>94626</th>\n",
       "      <td>0</td>\n",
       "      <td>17934</td>\n",
       "      <td>CAGCTGCAGCTGCAGGAGTCGGGCCCAGGACTGGTGAAGCCTTCGG...</td>\n",
       "      <td>CAGCTGCAGCTGCAGGAGTCGGGCCCAGGACTGGTGAAGCCTTCGG...</td>\n",
       "      <td>IGHV4-39*01</td>\n",
       "      <td>True</td>\n",
       "      <td>[False, False, False, False, False, False, Fal...</td>\n",
       "      <td>0</td>\n",
       "      <td>357</td>\n",
       "      <td>0</td>\n",
       "      <td>NaN</td>\n",
       "    </tr>\n",
       "    <tr>\n",
       "      <th>94627</th>\n",
       "      <td>0</td>\n",
       "      <td>269306</td>\n",
       "      <td>GAGGTGCAGCTGTTGGAGTCTGGGGGAGGCTTGGTACAGCCTGGGG...</td>\n",
       "      <td>GAGGTGCAGCTGTTGGAGTCTGGGGGAGGCTTGGTACAGCCTGGGG...</td>\n",
       "      <td>IGHV3-23*01</td>\n",
       "      <td>True</td>\n",
       "      <td>[False, False, False, False, False, False, Fal...</td>\n",
       "      <td>3</td>\n",
       "      <td>348</td>\n",
       "      <td>0</td>\n",
       "      <td>0.000000</td>\n",
       "    </tr>\n",
       "    <tr>\n",
       "      <th>94628</th>\n",
       "      <td>0</td>\n",
       "      <td>269306</td>\n",
       "      <td>GAGGTGCAGCTGTTGGAGTCTGGGGGAGGCTTGGTACAGCCTGGGG...</td>\n",
       "      <td>GAGGTGCAGGTGTTGGAGTCTGGGGGAGGCTTGGTACAGCCTGGGG...</td>\n",
       "      <td>IGHV3-23*01</td>\n",
       "      <td>True</td>\n",
       "      <td>[False, False, False, False, False, False, Fal...</td>\n",
       "      <td>13</td>\n",
       "      <td>348</td>\n",
       "      <td>6</td>\n",
       "      <td>0.461538</td>\n",
       "    </tr>\n",
       "  </tbody>\n",
       "</table>\n",
       "<p>94629 rows × 11 columns</p>\n",
       "</div>"
      ],
      "text/plain": [
       "       sample_id  family                                             parent  \\\n",
       "0              0  149198  CAGGTGCAGCTGGTGGAGTCTGGGGGAGGCGTGGTCCAGCCTGGGA...   \n",
       "1              0  149198  CAGGTGCAGCTGGTGGAGTCTGGGGGAGGCGTGGTCCAGCCTGGGA...   \n",
       "2              0  149198  CAGGTGCAGCTGGTGGAGTCTGGGGGAGGCGTGGTCCAGCCTGGGA...   \n",
       "3              0  149198  CAAGTGCAGCTGGTGGAGTCTGGGGGAGGCGTGGTCCAGCCTGGGA...   \n",
       "4              0  149198  CAAGTGCAGCTGGTGGAGTCTGGGGGAGGCGTGGTCCAGCCTGGGA...   \n",
       "...          ...     ...                                                ...   \n",
       "94624          0   17934  CAGCTGCAGCTGCAGGAGTCGGGCCCAGGACTGGTGAAGCCTTCGG...   \n",
       "94625          0   17934  CAGCTGCAGCTGCAGGAGTCGGGCCCAGGACTGGTGAAGCCTTCGG...   \n",
       "94626          0   17934  CAGCTGCAGCTGCAGGAGTCGGGCCCAGGACTGGTGAAGCCTTCGG...   \n",
       "94627          0  269306  GAGGTGCAGCTGTTGGAGTCTGGGGGAGGCTTGGTACAGCCTGGGG...   \n",
       "94628          0  269306  GAGGTGCAGCTGTTGGAGTCTGGGGGAGGCTTGGTACAGCCTGGGG...   \n",
       "\n",
       "                                                   child       v_gene  \\\n",
       "0      CAGGTGCAGCTGGTGGAGTCTGGGGGAGGCGTGGTCCAGCCTGGGA...  IGHV3-33*01   \n",
       "1      CAGGTGCAGCTGGTGGAGTCTGGGGGAGGCGTGGTCCAGCCTGGGA...  IGHV3-33*01   \n",
       "2      CAAGTGCAGCTGGTGGAGTCTGGGGGAGGCGTGGTCCAGCCTGGGA...  IGHV3-33*01   \n",
       "3      CAAATGCAGATGGTGGAGTCGGGGGGAGGCGTGGTCCAGCCAGGGA...  IGHV3-33*01   \n",
       "4      CAAGTGCAACTGGTGGAGTCTGGGGGAGGCGTGGTCCAGCCTGGGA...  IGHV3-33*01   \n",
       "...                                                  ...          ...   \n",
       "94624  CAGCTGCAGCTGCAGGAGTCGGGCCCAGGACTGGTGAAGCCTTCGG...  IGHV4-39*01   \n",
       "94625  CAGCTGCAGCTGCAGGAGTCGGGCCCAGGACTTGTGAAGCCTTCGG...  IGHV4-39*01   \n",
       "94626  CAGCTGCAGCTGCAGGAGTCGGGCCCAGGACTGGTGAAGCCTTCGG...  IGHV4-39*01   \n",
       "94627  GAGGTGCAGCTGTTGGAGTCTGGGGGAGGCTTGGTACAGCCTGGGG...  IGHV3-23*01   \n",
       "94628  GAGGTGCAGGTGTTGGAGTCTGGGGGAGGCTTGGTACAGCCTGGGG...  IGHV3-23*01   \n",
       "\n",
       "       child_is_leaf                                       nt_mutations  \\\n",
       "0              False  [False, False, False, False, False, False, Fal...   \n",
       "1              False  [False, False, False, False, False, False, Fal...   \n",
       "2              False  [False, False, True, False, False, False, Fals...   \n",
       "3               True  [False, False, False, True, False, False, Fals...   \n",
       "4               True  [False, False, False, False, False, False, Fal...   \n",
       "...              ...                                                ...   \n",
       "94624          False  [False, False, False, False, False, False, Fal...   \n",
       "94625           True  [False, False, False, False, False, False, Fal...   \n",
       "94626           True  [False, False, False, False, False, False, Fal...   \n",
       "94627           True  [False, False, False, False, False, False, Fal...   \n",
       "94628           True  [False, False, False, False, False, False, Fal...   \n",
       "\n",
       "       nt_mutation_count  parent_length  multi_mutation_count  \\\n",
       "0                      3            372                     0   \n",
       "1                      4            372                     0   \n",
       "2                     16            372                     2   \n",
       "3                     19            372                     0   \n",
       "4                      7            372                     0   \n",
       "...                  ...            ...                   ...   \n",
       "94624                  2            357                     0   \n",
       "94625                  8            357                     0   \n",
       "94626                  0            357                     0   \n",
       "94627                  3            348                     0   \n",
       "94628                 13            348                     6   \n",
       "\n",
       "       multi_mutation_frac  \n",
       "0                 0.000000  \n",
       "1                 0.000000  \n",
       "2                 0.125000  \n",
       "3                 0.000000  \n",
       "4                 0.000000  \n",
       "...                    ...  \n",
       "94624             0.000000  \n",
       "94625             0.000000  \n",
       "94626                  NaN  \n",
       "94627             0.000000  \n",
       "94628             0.461538  \n",
       "\n",
       "[94629 rows x 11 columns]"
      ]
     },
     "execution_count": 8,
     "metadata": {},
     "output_type": "execute_result"
    }
   ],
   "source": [
    "ooframe_df = pd.read_csv(\"/Users/matsen/re/epam/_ignore/shmoof_edges_11-Jan-2023_NoNode0_iqtree_K80+R_masked.csv\")\n",
    "inframe_df = pd.read_csv(\"/Users/matsen/re/epam/_ignore/wyatt-10x-1p5m_pcp_2023-10-07.csv\")\n",
    "\n",
    "# # delete the first base of every parent sequence in ooframe_df\n",
    "# ooframe_df[\"parent\"] = [x[1:] for x in ooframe_df[\"parent\"]]\n",
    "# ooframe_df[\"child\"] = [x[1:] for x in ooframe_df[\"child\"]]\n",
    "\n",
    "process_sequences(ooframe_df)\n",
    "process_sequences(inframe_df)\n",
    "\n",
    "inframe_df"
   ]
  },
  {
   "cell_type": "code",
   "execution_count": 9,
   "metadata": {},
   "outputs": [
    {
     "data": {
      "text/plain": [
       "{'sample_id': 316188,\n",
       " 'family': 1810,\n",
       " 'parent': 'NNNNNNNNNNNNNNNNNNNNNNNNNNNNNNNNNNNNNNNNNNNNNNNNNNNNNNNNNNNNNNNNNCGCTGTCTCTGGTTATTCCATCAGCAGTGGTTACTTCTGGGCCTGGATCCGGCAGCCCCCAGGGAAGGGACTGGAGTGGATTGGGAGTATCTCTCATAGTGGGAGCAGCTACTCCAAGTCGTCCCTCAAGAGTCGAGTCATCATCTCAGTAGACACGTCCAACAACCACTTCTCCCTGAAGTTGACCTCTGTGACCGCCGCAGACACGGCCACATATTACTGTGCGAGAGACGGGTAATTATGACGGTTCATTTGAGTACTGGGGCCAGGGAATCCGAGTCGCCGTCTCCTCA',\n",
       " 'child': 'NNNNNNNNNNNNNNNNNNNNNNNNNNNNNNNNNNNNNNNNNNNNNNNNNNNNNNNNNNNNNNNNNCGCTGTCTCTGGTTATTCCATCAGCAGTGGTTACTTCTGGGCCTGGATCCGGCAGCCCCCAGGGAAGGGACTGGAGTGGATTGGGAGTATCTCTCATAGTGGGAGCAGCTACTCCAAGTCGTCCCTCAAGAGTCGAGTCATCATCTCAGTAGACACGTCCAACAACCACTTCTCCCTGAAGTTGACCTCTGTGACCGCCGCAGACACGGCCACATATTACTGTGCGAGAGACGGGTAATTATGACGGTTCATTTGAGTACTGGGGCCAGGGAATCCGAGTCGCCGTCTCCTCA',\n",
       " 'branch_length': 9.965e-07,\n",
       " 'v_call': 'IGHV4',\n",
       " 'v_int_start': 65,\n",
       " 'v_int_end': 293,\n",
       " 'v_start_pos': 65,\n",
       " 'v_diff': 0,\n",
       " 'nt_mutations': array([False, False, False, False, False, False, False, False, False,\n",
       "        False, False, False, False, False, False, False, False, False,\n",
       "        False, False, False, False, False, False, False, False, False,\n",
       "        False, False, False, False, False, False, False, False, False,\n",
       "        False, False, False, False, False, False, False, False, False,\n",
       "        False, False, False, False, False, False, False, False, False,\n",
       "        False, False, False, False, False, False, False, False, False,\n",
       "        False, False, False, False, False, False, False, False, False,\n",
       "        False, False, False, False, False, False, False, False, False,\n",
       "        False, False, False, False, False, False, False, False, False,\n",
       "        False, False, False, False, False, False, False, False, False,\n",
       "        False, False, False, False, False, False, False, False, False,\n",
       "        False, False, False, False, False, False, False, False, False,\n",
       "        False, False, False, False, False, False, False, False, False,\n",
       "        False, False, False, False, False, False, False, False, False,\n",
       "        False, False, False, False, False, False, False, False, False,\n",
       "        False, False, False, False, False, False, False, False, False,\n",
       "        False, False, False, False, False, False, False, False, False,\n",
       "        False, False, False, False, False, False, False, False, False,\n",
       "        False, False, False, False, False, False, False, False, False,\n",
       "        False, False, False, False, False, False, False, False, False,\n",
       "        False, False, False, False, False, False, False, False, False,\n",
       "        False, False, False, False, False, False, False, False, False,\n",
       "        False, False, False, False, False, False, False, False, False,\n",
       "        False, False, False, False, False, False, False, False, False,\n",
       "        False, False, False, False, False, False, False, False, False,\n",
       "        False, False, False, False, False, False, False, False, False,\n",
       "        False, False, False, False, False, False, False, False, False,\n",
       "        False, False, False, False, False, False, False, False, False,\n",
       "        False, False, False, False, False, False, False, False, False,\n",
       "        False, False, False, False, False, False, False, False, False,\n",
       "        False, False, False, False, False, False, False, False, False,\n",
       "        False, False, False, False, False, False, False, False, False,\n",
       "        False, False, False, False, False, False, False, False, False,\n",
       "        False, False, False, False, False, False, False, False, False,\n",
       "        False, False, False, False, False, False, False, False, False,\n",
       "        False, False, False, False, False, False, False, False, False,\n",
       "        False, False, False, False, False, False, False, False, False,\n",
       "        False, False, False, False, False, False, False, False, False,\n",
       "        False, False, False, False, False, False, False]),\n",
       " 'nt_mutation_count': 0,\n",
       " 'parent_length': 358,\n",
       " 'multi_mutation_count': 0,\n",
       " 'multi_mutation_frac': nan}"
      ]
     },
     "execution_count": 9,
     "metadata": {},
     "output_type": "execute_result"
    }
   ],
   "source": [
    "ooframe_df.iloc[0].to_dict()"
   ]
  },
  {
   "cell_type": "code",
   "execution_count": 10,
   "metadata": {},
   "outputs": [
    {
     "data": {
      "text/plain": [
       "nt_mutation_count\n",
       "0      35306\n",
       "1      20575\n",
       "2       7969\n",
       "3       4532\n",
       "4       3230\n",
       "       ...  \n",
       "97         1\n",
       "57         1\n",
       "89         1\n",
       "101        1\n",
       "56         1\n",
       "Name: count, Length: 67, dtype: int64"
      ]
     },
     "execution_count": 10,
     "metadata": {},
     "output_type": "execute_result"
    }
   ],
   "source": [
    "ooframe_df[\"nt_mutation_count\"].value_counts()"
   ]
  },
  {
   "cell_type": "code",
   "execution_count": 11,
   "metadata": {},
   "outputs": [
    {
     "data": {
      "text/plain": [
       "nt_mutation_count\n",
       "0     34336\n",
       "1      9002\n",
       "2      6794\n",
       "3      5456\n",
       "4      4455\n",
       "      ...  \n",
       "57        1\n",
       "64        1\n",
       "56        1\n",
       "74        1\n",
       "75        1\n",
       "Name: count, Length: 66, dtype: int64"
      ]
     },
     "execution_count": 11,
     "metadata": {},
     "output_type": "execute_result"
    }
   ],
   "source": [
    "inframe_df[\"nt_mutation_count\"].value_counts()"
   ]
  },
  {
   "cell_type": "code",
   "execution_count": 12,
   "metadata": {},
   "outputs": [
    {
     "data": {
      "text/plain": [
       "0        0\n",
       "1        0\n",
       "2        0\n",
       "3        0\n",
       "4        0\n",
       "        ..\n",
       "84317    0\n",
       "84318    0\n",
       "84319    0\n",
       "84320    0\n",
       "84321    0\n",
       "Name: multi_mutation_count, Length: 84322, dtype: int64"
      ]
     },
     "execution_count": 12,
     "metadata": {},
     "output_type": "execute_result"
    }
   ],
   "source": [
    "ooframe_df[\"multi_mutation_count\"]"
   ]
  },
  {
   "cell_type": "code",
   "execution_count": 13,
   "metadata": {},
   "outputs": [
    {
     "data": {
      "text/plain": [
       "multi_mutation_count\n",
       "0     74619\n",
       "2      5556\n",
       "4      1537\n",
       "6       639\n",
       "3       550\n",
       "5       358\n",
       "8       280\n",
       "7       203\n",
       "10      123\n",
       "9       111\n",
       "11       62\n",
       "12       60\n",
       "13       38\n",
       "16       30\n",
       "14       29\n",
       "15       18\n",
       "18       17\n",
       "17       16\n",
       "19       14\n",
       "22        9\n",
       "27        3\n",
       "68        3\n",
       "23        3\n",
       "20        3\n",
       "84        2\n",
       "86        2\n",
       "78        2\n",
       "49        2\n",
       "26        2\n",
       "67        2\n",
       "53        2\n",
       "58        1\n",
       "76        1\n",
       "28        1\n",
       "37        1\n",
       "46        1\n",
       "52        1\n",
       "97        1\n",
       "47        1\n",
       "56        1\n",
       "89        1\n",
       "61        1\n",
       "33        1\n",
       "34        1\n",
       "25        1\n",
       "29        1\n",
       "35        1\n",
       "43        1\n",
       "74        1\n",
       "82        1\n",
       "62        1\n",
       "81        1\n",
       "93        1\n",
       "55        1\n",
       "88        1\n",
       "50        1\n",
       "48        1\n",
       "45        1\n",
       "Name: count, dtype: int64"
      ]
     },
     "execution_count": 13,
     "metadata": {},
     "output_type": "execute_result"
    }
   ],
   "source": [
    "ooframe_df[\"multi_mutation_count\"].value_counts()"
   ]
  },
  {
   "cell_type": "code",
   "execution_count": 14,
   "metadata": {},
   "outputs": [
    {
     "data": {
      "text/plain": [
       "multi_mutation_count\n",
       "0     72177\n",
       "2     11572\n",
       "4      4458\n",
       "6      2102\n",
       "8       955\n",
       "3       641\n",
       "5       536\n",
       "10      482\n",
       "7       384\n",
       "9       280\n",
       "12      226\n",
       "11      165\n",
       "14      139\n",
       "13      110\n",
       "16       79\n",
       "15       75\n",
       "17       56\n",
       "18       49\n",
       "19       35\n",
       "20       22\n",
       "22       21\n",
       "21       17\n",
       "24       13\n",
       "23        8\n",
       "25        8\n",
       "27        4\n",
       "29        3\n",
       "28        3\n",
       "31        2\n",
       "35        2\n",
       "26        2\n",
       "32        1\n",
       "30        1\n",
       "41        1\n",
       "Name: count, dtype: int64"
      ]
     },
     "execution_count": 14,
     "metadata": {},
     "output_type": "execute_result"
    }
   ],
   "source": [
    "inframe_df[\"multi_mutation_count\"].value_counts()"
   ]
  },
  {
   "cell_type": "code",
   "execution_count": 15,
   "metadata": {},
   "outputs": [
    {
     "data": {
      "text/plain": [
       "<Axes: >"
      ]
     },
     "execution_count": 15,
     "metadata": {},
     "output_type": "execute_result"
    },
    {
     "data": {
      "image/png": "[encoded data removed]",
      "text/plain": [
       "<Figure size 640x480 with 1 Axes>"
      ]
     },
     "metadata": {},
     "output_type": "display_data"
    }
   ],
   "source": [
    "inframe_df[\"multi_mutation_frac\"].hist()"
   ]
  },
  {
   "cell_type": "code",
   "execution_count": 16,
   "metadata": {},
   "outputs": [
    {
     "data": {
      "image/png": "[encoded data removed]",
      "text/plain": [
       "<Figure size 1000x600 with 1 Axes>"
      ]
     },
     "metadata": {},
     "output_type": "display_data"
    }
   ],
   "source": [
    "plt.figure(figsize=(10, 6))\n",
    "\n",
    "plt.hist(inframe_df['multi_mutation_frac'], density=True, alpha=0.5, label='inframe', bins=40)\n",
    "plt.hist(ooframe_df['multi_mutation_frac'], density=True, alpha=0.5, label='ooframe', bins=40)\n",
    "\n",
    "plt.title('Distribution of multi_mutation_frac')\n",
    "plt.xlabel('multi_mutation_frac')\n",
    "plt.ylabel('Frequency')\n",
    "plt.legend()\n",
    "\n",
    "plt.show()\n"
   ]
  },
  {
   "cell_type": "code",
   "execution_count": 17,
   "metadata": {},
   "outputs": [
    {
     "data": {
      "image/png": "[encoded data removed]",
      "text/plain": [
       "<Figure size 1000x600 with 1 Axes>"
      ]
     },
     "metadata": {},
     "output_type": "display_data"
    }
   ],
   "source": [
    "plt.figure(figsize=(10, 6))\n",
    "\n",
    "# Filter out zero values\n",
    "inframe_filtered = inframe_df['multi_mutation_frac'][inframe_df['multi_mutation_frac'] > 0]\n",
    "ooframe_filtered = ooframe_df['multi_mutation_frac'][ooframe_df['multi_mutation_frac'] > 0]\n",
    "\n",
    "plt.hist(inframe_filtered, density=True, alpha=0.5, label='inframe', bins=40)\n",
    "plt.hist(ooframe_filtered, density=True, alpha=0.5, label='ooframe', bins=40)\n",
    "\n",
    "plt.title('Distribution of multi_mutation_frac (Excluding Zero)')\n",
    "plt.xlabel('multi_mutation_frac')\n",
    "plt.ylabel('Density')\n",
    "plt.legend()\n",
    "\n",
    "plt.show()\n"
   ]
  },
  {
   "cell_type": "code",
   "execution_count": 18,
   "metadata": {},
   "outputs": [
    {
     "name": "stdout",
     "output_type": "stream",
     "text": [
      "GAAGTGCAGCTGGTGGAGTCTGGGGGAGGCTTGGTACAGCCTGGCAGGTCCCTGAGACTCTCCTGTGCAGCCTCTGGATTCACCTTTGATGATTATGCCATGCACTGGGTCCGGCAAGCTCCAGGGAAGGGCCTGGAGTGGGTCTCAGGTATTAGTTGGAATAGTGGTAGCATAGGCTATGCGGACTCTGTGAAGGGCCGATTCACCATCTCCAGAGACAACGCCAAGAACTCCCTGTATCTGCAAATGAACAGTCTGAGAGCTGAGGACACGGCCTTGTATTACTGTGCAAAAGACTCGTCCTACTACTACTACATGGACGTCTGGGGCAAAGGGACCACGGTCACCGTCTCCTCA\n",
      "GAAGTGCAGCTGGTGGAGTCTGGGGGAGGCTTGGTACAGCCTGGCAGGTCCCTGAGACTCTCCTGTGCAGCCTCTGGATTCACCTTTGATGATTATGCCATGCACTGGGTCCGGCAAGCTCCAGGGAAGGGCCTGGAGTGGGTCTCAGGTATTAGTTGGAATAGTGGTAGCATAGGCTATGCGGACTCTGTGAAGGGCCGATTCACCATCTCCAGAGACAACGCCAAGAACTCCCTGTATCTGCAAATGAACAGTCTGAGAGCTGAGGACACGGCCTTGTATTACTGTGCAAAAGAGTTGTTATACTACTACTACATGGACGTCTGGGGCAAAGGGACCACGGTCACCGTCTCCTCA\n",
      "000000000000000000000000000000000000000000000000000000000000000000000000000000000000000000000000000000000000000000000000000000000000000000000000000000000000000000000000000000000000000000000000000000000000000000000000000000000000000000000000000000000000000000000000000000000000000000000000000000001010011000000000000000000000000000000000000000000000000000000\n"
     ]
    }
   ],
   "source": [
    "a_multimut_row = inframe_df[inframe_df['multi_mutation_frac']==0.5].iloc[1]\n",
    "print(a_multimut_row[\"parent\"])\n",
    "print(a_multimut_row[\"child\"])\n",
    "print(\"\".join([str(int(x)) for x in a_multimut_row[\"nt_mutations\"]]))"
   ]
  },
  {
   "cell_type": "code",
   "execution_count": 19,
   "metadata": {},
   "outputs": [
    {
     "data": {
      "text/plain": [
       "multi_mutation_frac\n",
       "0.500000    1017\n",
       "0.666667     843\n",
       "0.400000     832\n",
       "0.333333     806\n",
       "1.000000     716\n",
       "            ... \n",
       "0.934783       1\n",
       "0.612903       1\n",
       "0.521739       1\n",
       "0.870968       1\n",
       "0.803571       1\n",
       "Name: count, Length: 214, dtype: int64"
      ]
     },
     "execution_count": 19,
     "metadata": {},
     "output_type": "execute_result"
    }
   ],
   "source": [
    "# show ooframe_df[\"multi_mutation_frac\"].value_counts() for multi_mutation_frac > 0.3\n",
    "ooframe_df[ooframe_df[\"multi_mutation_frac\"] > 0.3][\"multi_mutation_frac\"].value_counts()"
   ]
  },
  {
   "cell_type": "code",
   "execution_count": 20,
   "metadata": {},
   "outputs": [
    {
     "data": {
      "image/png": "[encoded data removed]",
      "text/plain": [
       "<Figure size 1000x600 with 1 Axes>"
      ]
     },
     "metadata": {},
     "output_type": "display_data"
    }
   ],
   "source": [
    "plt.figure(figsize=(10, 6))\n",
    "\n",
    "plt.hist(inframe_df['nt_mutation_count'], density=True, alpha=0.5, label='inframe', bins=40)\n",
    "plt.hist(ooframe_df['nt_mutation_count'], density=True, alpha=0.5, label='ooframe', bins=40)\n",
    "\n",
    "plt.title('Distribution of nt_mutation_count')\n",
    "plt.xlabel('mutation count')\n",
    "plt.ylabel('Frequency')\n",
    "plt.legend()\n",
    "\n",
    "plt.show()"
   ]
  }
 ],
 "metadata": {
  "kernelspec": {
   "display_name": "epam",
   "language": "python",
   "name": "python3"
  },
  "language_info": {
   "codemirror_mode": {
    "name": "ipython",
    "version": 3
   },
   "file_extension": ".py",
   "mimetype": "text/x-python",
   "name": "python",
   "nbconvert_exporter": "python",
   "pygments_lexer": "ipython3",
   "version": "3.9.18"
  }
 },
 "nbformat": 4,
 "nbformat_minor": 2
}
