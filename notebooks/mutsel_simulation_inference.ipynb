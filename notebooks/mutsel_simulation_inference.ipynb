{
 "cells": [
  {
   "cell_type": "code",
   "execution_count": 12,
   "metadata": {},
   "outputs": [],
   "source": [
    "import matplotlib.pyplot as plt\n",
    "import numpy as np\n",
    "import pandas as pd\n",
    "\n",
    "import torch\n",
    "from epam.dnsm import TransformerBinarySelectionModel, DNSMBurrito\n",
    "from epam.sequences import translate_sequences"
   ]
  },
  {
   "cell_type": "code",
   "execution_count": 3,
   "metadata": {},
   "outputs": [
    {
     "name": "stdout",
     "output_type": "stream",
     "text": [
      "We have 10000 PCPs.\n"
     ]
    }
   ],
   "source": [
    "pcp_df = pd.read_csv(\"~/data/wyatt-10x-1p5m_pcp_2023-10-07.mimic-only_allow_mutations_at_hydrophobic_sites.csv\")\n",
    "\n",
    "# filter out rows of pcp_df where the parent and child sequences are identical\n",
    "pcp_df = pcp_df[pcp_df[\"parent\"] != pcp_df[\"child\"]]\n",
    "\n",
    "# NOTE downsampling here\n",
    "pcp_df = pcp_df.sample(10000, random_state=42)\n",
    "\n",
    "print(f\"We have {len(pcp_df)} PCPs.\")"
   ]
  },
  {
   "cell_type": "code",
   "execution_count": 4,
   "metadata": {},
   "outputs": [
    {
     "name": "stdout",
     "output_type": "stream",
     "text": [
      "Using Metal Performance Shaders\n",
      "preparing data...\n"
     ]
    },
    {
     "name": "stderr",
     "output_type": "stream",
     "text": [
      "WARNING:absl:At this time, the v2.11+ optimizer `tf.keras.optimizers.RestoredOptimizer` runs slowly on M1/M2 Macs, please use the legacy Keras optimizer instead, located at `tf.keras.optimizers.legacy.RestoredOptimizer`.\n",
      "WARNING:absl:At this time, the v2.11+ optimizer `tf.keras.optimizers.Nadam` runs slowly on M1/M2 Macs, please use the legacy Keras optimizer instead, located at `tf.keras.optimizers.legacy.Nadam`.\n",
      "WARNING:absl:There is a known slowdown when using v2.11+ Keras optimizers on M1/M2 Macs. Falling back to the legacy Keras optimizer, i.e., `tf.keras.optimizers.legacy.Nadam`.\n",
      "WARNING:absl:At this time, the v2.11+ optimizer `tf.keras.optimizers.RestoredOptimizer` runs slowly on M1/M2 Macs, please use the legacy Keras optimizer instead, located at `tf.keras.optimizers.legacy.RestoredOptimizer`.\n",
      "WARNING:absl:At this time, the v2.11+ optimizer `tf.keras.optimizers.Nadam` runs slowly on M1/M2 Macs, please use the legacy Keras optimizer instead, located at `tf.keras.optimizers.legacy.Nadam`.\n",
      "WARNING:absl:There is a known slowdown when using v2.11+ Keras optimizers on M1/M2 Macs. Falling back to the legacy Keras optimizer, i.e., `tf.keras.optimizers.legacy.Nadam`.\n"
     ]
    },
    {
     "name": "stdout",
     "output_type": "stream",
     "text": [
      "predicting mutabilities and substitutions...\n",
      "consolidating this into substitution probabilities...\n",
      "predicting mutabilities and substitutions...\n",
      "consolidating this into substitution probabilities...\n",
      "Epoch [0/3], Training Loss: 0.16933934018015862, Validation Loss: 0.17264848947525024\n",
      "training model...\n",
      "Epoch [1/3], Training Loss: 0.15016485750675201, Validation Loss: 0.13216907531023026\n",
      "Epoch [2/3], Training Loss: 0.15191864967346191, Validation Loss: 0.1306910589337349\n",
      "Epoch [3/3], Training Loss: 0.14832177758216858, Validation Loss: 0.13071047514677048\n"
     ]
    },
    {
     "name": "stderr",
     "output_type": "stream",
     "text": [
      "Finding optimal branch lengths:   1%|          | 50/8000 [00:05<11:45, 11.27it/s] "
     ]
    },
    {
     "name": "stdout",
     "output_type": "stream",
     "text": [
      "BAD! log_branch_scaling is nan on step 2\n"
     ]
    },
    {
     "name": "stderr",
     "output_type": "stream",
     "text": [
      "Finding optimal branch lengths:   4%|▍         | 304/8000 [00:31<09:46, 13.12it/s]"
     ]
    },
    {
     "name": "stdout",
     "output_type": "stream",
     "text": [
      "BAD! log_branch_scaling is nan on step 2\n"
     ]
    },
    {
     "name": "stderr",
     "output_type": "stream",
     "text": [
      "Finding optimal branch lengths:   4%|▍         | 334/8000 [00:34<11:13, 11.38it/s]"
     ]
    },
    {
     "name": "stdout",
     "output_type": "stream",
     "text": [
      "BAD! log_branch_scaling is nan on step 3\n"
     ]
    },
    {
     "name": "stderr",
     "output_type": "stream",
     "text": [
      "Finding optimal branch lengths:   6%|▌         | 452/8000 [00:44<18:18,  6.87it/s]"
     ]
    },
    {
     "name": "stdout",
     "output_type": "stream",
     "text": [
      "BAD! log_branch_scaling is nan on step 39\n"
     ]
    },
    {
     "name": "stderr",
     "output_type": "stream",
     "text": [
      "Finding optimal branch lengths:  19%|█▉        | 1542/8000 [02:29<08:28, 12.71it/s]"
     ]
    },
    {
     "name": "stdout",
     "output_type": "stream",
     "text": [
      "BAD! log_branch_scaling is nan on step 2\n"
     ]
    },
    {
     "name": "stderr",
     "output_type": "stream",
     "text": [
      "Finding optimal branch lengths:  21%|██▏       | 1706/8000 [02:43<07:49, 13.40it/s]"
     ]
    },
    {
     "name": "stdout",
     "output_type": "stream",
     "text": [
      "BAD! log_branch_scaling is nan on step 2\n"
     ]
    },
    {
     "name": "stderr",
     "output_type": "stream",
     "text": [
      "Finding optimal branch lengths:  24%|██▍       | 1904/8000 [03:01<07:31, 13.50it/s]"
     ]
    },
    {
     "name": "stdout",
     "output_type": "stream",
     "text": [
      "BAD! log_branch_scaling is nan on step 2\n"
     ]
    },
    {
     "name": "stderr",
     "output_type": "stream",
     "text": [
      "Finding optimal branch lengths:  28%|██▊       | 2272/8000 [03:35<09:41,  9.85it/s]"
     ]
    },
    {
     "name": "stdout",
     "output_type": "stream",
     "text": [
      "BAD! log_branch_scaling is nan on step 2\n"
     ]
    },
    {
     "name": "stderr",
     "output_type": "stream",
     "text": [
      "Finding optimal branch lengths:  29%|██▉       | 2301/8000 [03:38<08:43, 10.88it/s]"
     ]
    },
    {
     "name": "stdout",
     "output_type": "stream",
     "text": [
      "BAD! log_branch_scaling is nan on step 3\n"
     ]
    },
    {
     "name": "stderr",
     "output_type": "stream",
     "text": [
      "Finding optimal branch lengths:  30%|██▉       | 2367/8000 [03:44<08:03, 11.65it/s]"
     ]
    },
    {
     "name": "stdout",
     "output_type": "stream",
     "text": [
      "BAD! log_branch_scaling is nan on step 2\n"
     ]
    },
    {
     "name": "stderr",
     "output_type": "stream",
     "text": [
      "Finding optimal branch lengths:  31%|███▏      | 2510/8000 [03:58<07:09, 12.79it/s]"
     ]
    },
    {
     "name": "stdout",
     "output_type": "stream",
     "text": [
      "BAD! log_branch_scaling is nan on step 2\n"
     ]
    },
    {
     "name": "stderr",
     "output_type": "stream",
     "text": [
      "Finding optimal branch lengths:  34%|███▍      | 2709/8000 [04:20<07:50, 11.25it/s]"
     ]
    },
    {
     "name": "stdout",
     "output_type": "stream",
     "text": [
      "BAD! log_branch_scaling is nan on step 2\n"
     ]
    },
    {
     "name": "stderr",
     "output_type": "stream",
     "text": [
      "Finding optimal branch lengths:  36%|███▌      | 2892/8000 [04:39<06:35, 12.92it/s]"
     ]
    },
    {
     "name": "stdout",
     "output_type": "stream",
     "text": [
      "BAD! log_branch_scaling is nan on step 2\n"
     ]
    },
    {
     "name": "stderr",
     "output_type": "stream",
     "text": [
      "Finding optimal branch lengths:  40%|████      | 3200/8000 [05:06<05:47, 13.81it/s]"
     ]
    },
    {
     "name": "stdout",
     "output_type": "stream",
     "text": [
      "BAD! log_branch_scaling is nan on step 2\n"
     ]
    },
    {
     "name": "stderr",
     "output_type": "stream",
     "text": [
      "Finding optimal branch lengths:  43%|████▎     | 3401/8000 [05:25<06:35, 11.62it/s]"
     ]
    },
    {
     "name": "stdout",
     "output_type": "stream",
     "text": [
      "BAD! log_branch_scaling is nan on step 2\n"
     ]
    },
    {
     "name": "stderr",
     "output_type": "stream",
     "text": [
      "Finding optimal branch lengths:  48%|████▊     | 3841/8000 [06:08<08:50,  7.84it/s]"
     ]
    },
    {
     "name": "stdout",
     "output_type": "stream",
     "text": [
      "BAD! log_branch_scaling is nan on step 2\n",
      "BAD! log_branch_scaling is nan on step 2\n"
     ]
    },
    {
     "name": "stderr",
     "output_type": "stream",
     "text": [
      "Finding optimal branch lengths:  55%|█████▍    | 4364/8000 [06:58<08:22,  7.23it/s]"
     ]
    },
    {
     "name": "stdout",
     "output_type": "stream",
     "text": [
      "BAD! log_branch_scaling is nan on step 2\n"
     ]
    },
    {
     "name": "stderr",
     "output_type": "stream",
     "text": [
      "Finding optimal branch lengths:  69%|██████▉   | 5508/8000 [08:51<03:31, 11.81it/s]"
     ]
    },
    {
     "name": "stdout",
     "output_type": "stream",
     "text": [
      "BAD! log_branch_scaling is nan on step 3\n"
     ]
    },
    {
     "name": "stderr",
     "output_type": "stream",
     "text": [
      "Finding optimal branch lengths:  75%|███████▌  | 6009/8000 [09:41<03:03, 10.87it/s]"
     ]
    },
    {
     "name": "stdout",
     "output_type": "stream",
     "text": [
      "BAD! log_branch_scaling is nan on step 21\n"
     ]
    },
    {
     "name": "stderr",
     "output_type": "stream",
     "text": [
      "Finding optimal branch lengths:  78%|███████▊  | 6239/8000 [10:05<02:47, 10.51it/s]"
     ]
    },
    {
     "name": "stdout",
     "output_type": "stream",
     "text": [
      "BAD! log_branch_scaling is nan on step 3\n"
     ]
    },
    {
     "name": "stderr",
     "output_type": "stream",
     "text": [
      "Finding optimal branch lengths:  79%|███████▊  | 6281/8000 [10:09<02:29, 11.52it/s]"
     ]
    },
    {
     "name": "stdout",
     "output_type": "stream",
     "text": [
      "BAD! log_branch_scaling is nan on step 2\n"
     ]
    },
    {
     "name": "stderr",
     "output_type": "stream",
     "text": [
      "Finding optimal branch lengths:  80%|████████  | 6423/8000 [10:23<02:11, 12.03it/s]"
     ]
    },
    {
     "name": "stdout",
     "output_type": "stream",
     "text": [
      "BAD! log_branch_scaling is nan on step 2\n"
     ]
    },
    {
     "name": "stderr",
     "output_type": "stream",
     "text": [
      "Finding optimal branch lengths:  87%|████████▋ | 6990/8000 [11:19<01:24, 11.98it/s]"
     ]
    },
    {
     "name": "stdout",
     "output_type": "stream",
     "text": [
      "BAD! log_branch_scaling is nan on step 3\n"
     ]
    },
    {
     "name": "stderr",
     "output_type": "stream",
     "text": [
      "Finding optimal branch lengths:  88%|████████▊ | 7014/8000 [11:20<01:14, 13.28it/s]"
     ]
    },
    {
     "name": "stdout",
     "output_type": "stream",
     "text": [
      "BAD! log_branch_scaling is nan on step 2\n"
     ]
    },
    {
     "name": "stderr",
     "output_type": "stream",
     "text": [
      "Finding optimal branch lengths:  88%|████████▊ | 7052/8000 [11:24<01:20, 11.70it/s]"
     ]
    },
    {
     "name": "stdout",
     "output_type": "stream",
     "text": [
      "BAD! log_branch_scaling is nan on step 2\n"
     ]
    },
    {
     "name": "stderr",
     "output_type": "stream",
     "text": [
      "Finding optimal branch lengths:  90%|████████▉ | 7193/8000 [11:37<01:26,  9.30it/s]"
     ]
    },
    {
     "name": "stdout",
     "output_type": "stream",
     "text": [
      "BAD! log_branch_scaling is nan on step 2\n"
     ]
    },
    {
     "name": "stderr",
     "output_type": "stream",
     "text": [
      "Finding optimal branch lengths:  91%|█████████▏| 7312/8000 [11:48<00:49, 13.91it/s]"
     ]
    },
    {
     "name": "stdout",
     "output_type": "stream",
     "text": [
      "BAD! log_branch_scaling is nan on step 2\n"
     ]
    },
    {
     "name": "stderr",
     "output_type": "stream",
     "text": [
      "Finding optimal branch lengths: 100%|██████████| 8000/8000 [12:58<00:00, 10.27it/s]\n"
     ]
    },
    {
     "name": "stdout",
     "output_type": "stream",
     "text": [
      "predicting mutabilities and substitutions...\n",
      "consolidating this into substitution probabilities...\n"
     ]
    },
    {
     "name": "stderr",
     "output_type": "stream",
     "text": [
      "Finding optimal branch lengths:   8%|▊         | 151/2000 [00:15<02:32, 12.15it/s]"
     ]
    },
    {
     "name": "stdout",
     "output_type": "stream",
     "text": [
      "BAD! log_branch_scaling is nan on step 2\n"
     ]
    },
    {
     "name": "stderr",
     "output_type": "stream",
     "text": [
      "Finding optimal branch lengths:  28%|██▊       | 552/2000 [00:54<02:03, 11.74it/s]"
     ]
    },
    {
     "name": "stdout",
     "output_type": "stream",
     "text": [
      "BAD! log_branch_scaling is nan on step 2\n"
     ]
    },
    {
     "name": "stderr",
     "output_type": "stream",
     "text": [
      "Finding optimal branch lengths:  52%|█████▏    | 1032/2000 [01:44<01:19, 12.10it/s]"
     ]
    },
    {
     "name": "stdout",
     "output_type": "stream",
     "text": [
      "BAD! log_branch_scaling is nan on step 2\n"
     ]
    },
    {
     "name": "stderr",
     "output_type": "stream",
     "text": [
      "Finding optimal branch lengths:  52%|█████▏    | 1036/2000 [01:44<01:17, 12.43it/s]"
     ]
    },
    {
     "name": "stdout",
     "output_type": "stream",
     "text": [
      "BAD! log_branch_scaling is nan on step 2\n"
     ]
    },
    {
     "name": "stderr",
     "output_type": "stream",
     "text": [
      "Finding optimal branch lengths:  74%|███████▍  | 1485/2000 [02:34<00:50, 10.18it/s]"
     ]
    },
    {
     "name": "stdout",
     "output_type": "stream",
     "text": [
      "BAD! log_branch_scaling is nan on step 2\n"
     ]
    },
    {
     "name": "stderr",
     "output_type": "stream",
     "text": [
      "Finding optimal branch lengths:  75%|███████▍  | 1495/2000 [02:35<00:58,  8.67it/s]"
     ]
    },
    {
     "name": "stdout",
     "output_type": "stream",
     "text": [
      "BAD! log_branch_scaling is nan on step 2\n"
     ]
    },
    {
     "name": "stderr",
     "output_type": "stream",
     "text": [
      "Finding optimal branch lengths: 100%|██████████| 2000/2000 [03:22<00:00,  9.86it/s]\n"
     ]
    },
    {
     "name": "stdout",
     "output_type": "stream",
     "text": [
      "predicting mutabilities and substitutions...\n",
      "consolidating this into substitution probabilities...\n",
      "Epoch [0/15], Training Loss: 0.687133863568306, Validation Loss: 0.6830677390098572\n",
      "training model...\n",
      "Epoch [1/15], Training Loss: 0.17374193668365479, Validation Loss: 0.1830575242638588\n",
      "Epoch [2/15], Training Loss: 0.18251749873161316, Validation Loss: 0.1821678951382637\n",
      "Epoch [3/15], Training Loss: 0.1774185597896576, Validation Loss: 0.18018154054880142\n",
      "Epoch [4/15], Training Loss: 0.17950861155986786, Validation Loss: 0.17876186221837997\n",
      "Epoch [5/15], Training Loss: 0.1782032549381256, Validation Loss: 0.17787421494722366\n",
      "Epoch [6/15], Training Loss: 0.170917347073555, Validation Loss: 0.17735283076763153\n",
      "Epoch [7/15], Training Loss: 0.18038290739059448, Validation Loss: 0.17707188427448273\n",
      "Epoch [8/15], Training Loss: 0.17557069659233093, Validation Loss: 0.17695330828428268\n",
      "Epoch [9/15], Training Loss: 0.17262618243694305, Validation Loss: 0.17692215740680695\n",
      "Epoch [10/15], Training Loss: 0.1684366911649704, Validation Loss: 0.17693646997213364\n",
      "Epoch [11/15], Training Loss: 0.18537701666355133, Validation Loss: 0.17696962505578995\n",
      "Epoch [12/15], Training Loss: 0.17891840636730194, Validation Loss: 0.17700379341840744\n",
      "Epoch [13/15], Training Loss: 0.17113520205020905, Validation Loss: 0.17703070491552353\n",
      "Epoch [14/15], Training Loss: 0.17387376725673676, Validation Loss: 0.17705170810222626\n",
      "Epoch [15/15], Training Loss: 0.17506113648414612, Validation Loss: 0.17706631869077682\n"
     ]
    },
    {
     "name": "stderr",
     "output_type": "stream",
     "text": [
      "Finding optimal branch lengths:   1%|          | 51/8000 [00:04<10:33, 12.54it/s]"
     ]
    },
    {
     "name": "stdout",
     "output_type": "stream",
     "text": [
      "BAD! log_branch_scaling is nan on step 3\n"
     ]
    },
    {
     "name": "stderr",
     "output_type": "stream",
     "text": [
      "Finding optimal branch lengths:  19%|█▉        | 1542/8000 [02:28<08:07, 13.24it/s]"
     ]
    },
    {
     "name": "stdout",
     "output_type": "stream",
     "text": [
      "BAD! log_branch_scaling is nan on step 2\n"
     ]
    },
    {
     "name": "stderr",
     "output_type": "stream",
     "text": [
      "Finding optimal branch lengths:  21%|██▏       | 1706/8000 [02:42<08:04, 12.99it/s]"
     ]
    },
    {
     "name": "stdout",
     "output_type": "stream",
     "text": [
      "BAD! log_branch_scaling is nan on step 2\n"
     ]
    },
    {
     "name": "stderr",
     "output_type": "stream",
     "text": [
      "Finding optimal branch lengths:  24%|██▍       | 1904/8000 [02:59<07:50, 12.96it/s]"
     ]
    },
    {
     "name": "stdout",
     "output_type": "stream",
     "text": [
      "BAD! log_branch_scaling is nan on step 2\n"
     ]
    },
    {
     "name": "stderr",
     "output_type": "stream",
     "text": [
      "Finding optimal branch lengths:  28%|██▊       | 2272/8000 [03:31<08:52, 10.75it/s]"
     ]
    },
    {
     "name": "stdout",
     "output_type": "stream",
     "text": [
      "BAD! log_branch_scaling is nan on step 2\n"
     ]
    },
    {
     "name": "stderr",
     "output_type": "stream",
     "text": [
      "Finding optimal branch lengths:  30%|██▉       | 2368/8000 [03:40<06:51, 13.68it/s]"
     ]
    },
    {
     "name": "stdout",
     "output_type": "stream",
     "text": [
      "BAD! log_branch_scaling is nan on step 2\n"
     ]
    },
    {
     "name": "stderr",
     "output_type": "stream",
     "text": [
      "Finding optimal branch lengths:  31%|███▏      | 2510/8000 [03:53<07:17, 12.55it/s]"
     ]
    },
    {
     "name": "stdout",
     "output_type": "stream",
     "text": [
      "BAD! log_branch_scaling is nan on step 2\n"
     ]
    },
    {
     "name": "stderr",
     "output_type": "stream",
     "text": [
      "Finding optimal branch lengths:  36%|███▌      | 2891/8000 [04:30<06:22, 13.37it/s]"
     ]
    },
    {
     "name": "stdout",
     "output_type": "stream",
     "text": [
      "BAD! log_branch_scaling is nan on step 2\n"
     ]
    },
    {
     "name": "stderr",
     "output_type": "stream",
     "text": [
      "Finding optimal branch lengths:  40%|███▉      | 3199/8000 [04:55<05:51, 13.65it/s]"
     ]
    },
    {
     "name": "stdout",
     "output_type": "stream",
     "text": [
      "BAD! log_branch_scaling is nan on step 2\n"
     ]
    },
    {
     "name": "stderr",
     "output_type": "stream",
     "text": [
      "Finding optimal branch lengths:  43%|████▎     | 3401/8000 [05:13<06:35, 11.63it/s]"
     ]
    },
    {
     "name": "stdout",
     "output_type": "stream",
     "text": [
      "BAD! log_branch_scaling is nan on step 2\n"
     ]
    },
    {
     "name": "stderr",
     "output_type": "stream",
     "text": [
      "Finding optimal branch lengths:  48%|████▊     | 3841/8000 [05:53<08:41,  7.97it/s]"
     ]
    },
    {
     "name": "stdout",
     "output_type": "stream",
     "text": [
      "BAD! log_branch_scaling is nan on step 2\n",
      "BAD! log_branch_scaling is nan on step 2\n"
     ]
    },
    {
     "name": "stderr",
     "output_type": "stream",
     "text": [
      "Finding optimal branch lengths:  55%|█████▍    | 4365/8000 [06:37<05:59, 10.11it/s]"
     ]
    },
    {
     "name": "stdout",
     "output_type": "stream",
     "text": [
      "BAD! log_branch_scaling is nan on step 2\n"
     ]
    },
    {
     "name": "stderr",
     "output_type": "stream",
     "text": [
      "Finding optimal branch lengths:  78%|███████▊  | 6238/8000 [09:24<02:46, 10.56it/s]"
     ]
    },
    {
     "name": "stdout",
     "output_type": "stream",
     "text": [
      "BAD! log_branch_scaling is nan on step 43\n"
     ]
    },
    {
     "name": "stderr",
     "output_type": "stream",
     "text": [
      "Finding optimal branch lengths:  79%|███████▊  | 6281/8000 [09:28<02:14, 12.76it/s]"
     ]
    },
    {
     "name": "stdout",
     "output_type": "stream",
     "text": [
      "BAD! log_branch_scaling is nan on step 2\n"
     ]
    },
    {
     "name": "stderr",
     "output_type": "stream",
     "text": [
      "Finding optimal branch lengths:  80%|████████  | 6423/8000 [09:41<01:59, 13.18it/s]"
     ]
    },
    {
     "name": "stdout",
     "output_type": "stream",
     "text": [
      "BAD! log_branch_scaling is nan on step 2\n"
     ]
    },
    {
     "name": "stderr",
     "output_type": "stream",
     "text": [
      "Finding optimal branch lengths:  88%|████████▊ | 7013/8000 [10:33<01:14, 13.25it/s]"
     ]
    },
    {
     "name": "stdout",
     "output_type": "stream",
     "text": [
      "BAD! log_branch_scaling is nan on step 2\n"
     ]
    },
    {
     "name": "stderr",
     "output_type": "stream",
     "text": [
      "Finding optimal branch lengths:  90%|████████▉ | 7193/8000 [10:50<01:28,  9.14it/s]"
     ]
    },
    {
     "name": "stdout",
     "output_type": "stream",
     "text": [
      "BAD! log_branch_scaling is nan on step 2\n"
     ]
    },
    {
     "name": "stderr",
     "output_type": "stream",
     "text": [
      "Finding optimal branch lengths:  91%|█████████▏| 7311/8000 [11:00<00:50, 13.63it/s]"
     ]
    },
    {
     "name": "stdout",
     "output_type": "stream",
     "text": [
      "BAD! log_branch_scaling is nan on step 2\n"
     ]
    },
    {
     "name": "stderr",
     "output_type": "stream",
     "text": [
      "Finding optimal branch lengths: 100%|██████████| 8000/8000 [12:02<00:00, 11.07it/s]\n"
     ]
    },
    {
     "name": "stdout",
     "output_type": "stream",
     "text": [
      "predicting mutabilities and substitutions...\n",
      "consolidating this into substitution probabilities...\n"
     ]
    },
    {
     "name": "stderr",
     "output_type": "stream",
     "text": [
      "Finding optimal branch lengths:   8%|▊         | 151/2000 [00:14<02:31, 12.20it/s]"
     ]
    },
    {
     "name": "stdout",
     "output_type": "stream",
     "text": [
      "BAD! log_branch_scaling is nan on step 2\n"
     ]
    },
    {
     "name": "stderr",
     "output_type": "stream",
     "text": [
      "Finding optimal branch lengths:  28%|██▊       | 552/2000 [00:49<02:02, 11.85it/s]"
     ]
    },
    {
     "name": "stdout",
     "output_type": "stream",
     "text": [
      "BAD! log_branch_scaling is nan on step 2\n"
     ]
    },
    {
     "name": "stderr",
     "output_type": "stream",
     "text": [
      "Finding optimal branch lengths:  52%|█████▏    | 1033/2000 [01:33<01:12, 13.30it/s]"
     ]
    },
    {
     "name": "stdout",
     "output_type": "stream",
     "text": [
      "BAD! log_branch_scaling is nan on step 2\n",
      "BAD! log_branch_scaling is nan on step 2\n"
     ]
    },
    {
     "name": "stderr",
     "output_type": "stream",
     "text": [
      "Finding optimal branch lengths:  74%|███████▍  | 1485/2000 [02:17<00:46, 11.18it/s]"
     ]
    },
    {
     "name": "stdout",
     "output_type": "stream",
     "text": [
      "BAD! log_branch_scaling is nan on step 2\n"
     ]
    },
    {
     "name": "stderr",
     "output_type": "stream",
     "text": [
      "Finding optimal branch lengths: 100%|██████████| 2000/2000 [03:00<00:00, 11.10it/s]\n"
     ]
    },
    {
     "name": "stdout",
     "output_type": "stream",
     "text": [
      "predicting mutabilities and substitutions...\n",
      "consolidating this into substitution probabilities...\n",
      "Epoch [0/15], Training Loss: 0.1735157910734415, Validation Loss: 0.17575082927942276\n",
      "training model...\n",
      "Epoch [1/15], Training Loss: 0.1672089844942093, Validation Loss: 0.17548556625843048\n",
      "Epoch [2/15], Training Loss: 0.1756853461265564, Validation Loss: 0.17494001239538193\n",
      "Epoch [3/15], Training Loss: 0.16946393251419067, Validation Loss: 0.17436005920171738\n",
      "Epoch [4/15], Training Loss: 0.1724298894405365, Validation Loss: 0.17388945817947388\n",
      "Epoch [5/15], Training Loss: 0.17197775840759277, Validation Loss: 0.17356925457715988\n",
      "Epoch [6/15], Training Loss: 0.17530423402786255, Validation Loss: 0.17340126633644104\n",
      "Epoch [7/15], Training Loss: 0.17283141613006592, Validation Loss: 0.17331602424383163\n",
      "Epoch [8/15], Training Loss: 0.17092208564281464, Validation Loss: 0.17326835542917252\n",
      "Epoch [9/15], Training Loss: 0.1647317260503769, Validation Loss: 0.1732175052165985\n",
      "Epoch [10/15], Training Loss: 0.17071008682250977, Validation Loss: 0.1731632724404335\n",
      "Epoch [11/15], Training Loss: 0.17044708132743835, Validation Loss: 0.17305832356214523\n",
      "Epoch [12/15], Training Loss: 0.1712515503168106, Validation Loss: 0.17288075387477875\n",
      "Epoch [13/15], Training Loss: 0.1674547791481018, Validation Loss: 0.17258063703775406\n",
      "Epoch [14/15], Training Loss: 0.17048963904380798, Validation Loss: 0.17202801257371902\n",
      "Epoch [15/15], Training Loss: 0.17856542766094208, Validation Loss: 0.17092140763998032\n"
     ]
    }
   ],
   "source": [
    "shmple_weights_directory = \"/Users/matsen/re/epam/data/shmple_weights/my_shmoof\"\n",
    "nhead = 4\n",
    "dim_feedforward = 2048\n",
    "layer_count = 3\n",
    "\n",
    "dnsm = TransformerBinarySelectionModel(\n",
    "    nhead=nhead, dim_feedforward=dim_feedforward, layer_count=layer_count\n",
    ")\n",
    "\n",
    "burrito = DNSMBurrito(pcp_df, shmple_weights_directory, dnsm, batch_size=1024, learning_rate=0.001, checkpoint_dir=\"./_checkpoints\", log_dir=\"./_logs\")\n",
    "\n",
    "burrito.train(3)\n",
    "burrito.optimize_branch_lengths()\n",
    "burrito.train(15)\n",
    "burrito.optimize_branch_lengths()\n",
    "burrito.train(15)"
   ]
  },
  {
   "cell_type": "code",
   "execution_count": 5,
   "metadata": {},
   "outputs": [
    {
     "data": {
      "text/plain": [
       "array([0.21477526, 0.22491711, 0.21624441, 0.22464538, 0.22341028,\n",
       "       0.21158081, 0.20133457, 0.2093379 , 0.20856768, 0.22247997,\n",
       "       0.22590002, 0.21551983, 0.21542291, 0.21824776, 0.21568522,\n",
       "       0.22938044, 0.20626527, 0.22169657, 0.20934704, 0.21986939,\n",
       "       0.2008194 , 0.20677547, 0.20959775, 0.22279008, 0.20021097,\n",
       "       0.20625617, 0.20647569, 0.20612341, 0.22601315, 0.20453039,\n",
       "       0.2083636 , 0.20352285, 0.20473376, 0.21654221, 0.2076008 ,\n",
       "       0.21572796, 0.21183823, 0.20548004, 0.2060136 , 0.21991567,\n",
       "       0.21230914, 0.20642981, 0.20996559, 0.20554014, 0.21719699,\n",
       "       0.2146582 , 0.22244044, 0.2106818 , 0.20610464, 0.2162779 ,\n",
       "       0.22767432, 0.20684157, 0.20023568, 0.20853715, 0.2003208 ,\n",
       "       0.20407641, 0.20777413, 0.21234128, 0.20504634, 0.20838799,\n",
       "       0.22329338, 0.21150652, 0.20625912, 0.21967237, 0.20263486,\n",
       "       0.20671849, 0.2097015 , 0.21734364, 0.2126848 , 0.21574822,\n",
       "       0.20028561, 0.21960475, 0.19736384, 0.20380956, 0.20303139,\n",
       "       0.21834117, 0.20507254, 0.20685785, 0.2241381 , 0.20763694,\n",
       "       0.21882029, 0.20933595, 0.22747743, 0.20180884, 0.20349672,\n",
       "       0.22392482, 0.2103524 , 0.2255301 , 0.21798475, 0.2005006 ,\n",
       "       0.21023563, 0.2293758 , 0.2254147 , 0.20927887, 0.20845805,\n",
       "       0.2102384 , 0.22666752, 0.21563426, 0.19753298, 0.21114367,\n",
       "       0.22197703, 0.2019063 , 0.21305797, 0.22299466, 0.21506481,\n",
       "       0.20906535, 0.21335918, 0.19895831, 0.22286561, 0.22777446,\n",
       "       0.19976924, 0.21208544, 0.21658029, 0.20273125, 0.20805058,\n",
       "       0.20440188, 0.20095274, 0.21603909, 0.21466199, 0.20068209,\n",
       "       0.21815477, 0.2042344 , 0.20524773], dtype=float32)"
      ]
     },
     "execution_count": 5,
     "metadata": {},
     "output_type": "execute_result"
    }
   ],
   "source": [
    "[aa_str] = translate_sequences([pcp_df.reset_index(drop=True).loc[0, \"parent\"]])\n",
    "burrito.dnsm.selection_factors_of_aa_str(aa_str)"
   ]
  },
  {
   "cell_type": "code",
   "execution_count": 24,
   "metadata": {},
   "outputs": [
    {
     "name": "stdout",
     "output_type": "stream",
     "text": [
      "Using Metal Performance Shaders\n"
     ]
    }
   ],
   "source": [
    "nhead = 4\n",
    "dim_feedforward = 2048\n",
    "layer_count = 3\n",
    "\n",
    "model = TransformerBinarySelectionModel(\n",
    "    nhead=nhead, dim_feedforward=dim_feedforward, layer_count=layer_count\n",
    ")\n",
    "\n",
    "model.load_state_dict(torch.load(\"../_trained_dnsms/dnsm-hydrophobic-2023-11-01.pth\")[\"model_state_dict\"])\n",
    "model.eval()\n",
    "\n",
    "aa_parents = translate_sequences(pcp_df.reset_index(drop=True)[\"parent\"].sample(1000))\n",
    "selection_factor_arrays = [model.selection_factors_of_aa_str(aa_str) for aa_str in aa_parents]"
   ]
  },
  {
   "cell_type": "code",
   "execution_count": 25,
   "metadata": {},
   "outputs": [
    {
     "data": {
      "image/png": "[encoded data removed]",
      "text/plain": [
       "<Figure size 640x480 with 1 Axes>"
      ]
     },
     "metadata": {},
     "output_type": "display_data"
    }
   ],
   "source": [
    "hydrophobic_aas = set(list(\"AILMFWV\"))\n",
    "# \"control\": random AAs\n",
    "# hydrophobic_aas = set(list(\"RKLFMTG\"))\n",
    "\n",
    "def selection_factor_means(aa_str, selection_factor_array):\n",
    "    hydrophobic_selection_factors = []\n",
    "    other_selection_factors = []\n",
    "    for aa, selection_factor in zip(aa_str, selection_factor_array):\n",
    "        if aa in hydrophobic_aas:\n",
    "            hydrophobic_selection_factors.append(selection_factor)\n",
    "        else:\n",
    "            other_selection_factors.append(selection_factor)\n",
    "    return {\"hydrophobic_selection_mean\": np.mean(np.array(hydrophobic_selection_factors)),\n",
    "            \"other_selection_mean\": np.mean(np.array(other_selection_factors))}\n",
    "\n",
    "df = pd.DataFrame([selection_factor_means(aa_str, selection_factor_array) for aa_str, selection_factor_array in zip(aa_parents, selection_factor_arrays)])\n",
    "\n",
    "# Scatter plot\n",
    "plt.scatter(df['hydrophobic_selection_mean'], df['other_selection_mean'], label='sequences', alpha=0.1)\n",
    "plt.xlabel('Hydrophobic Selection Mean')\n",
    "plt.ylabel('Other Selection Mean')\n",
    "\n",
    "# Add x=y line\n",
    "lims = [\n",
    "    np.min([plt.xlim(), plt.ylim()]),  \n",
    "    np.max([plt.xlim(), plt.ylim()]),  \n",
    "]\n",
    "plt.plot(lims, lims, 'k--', alpha=0.5, label='x=y line')\n",
    "plt.xlim(lims)\n",
    "plt.ylim(lims)\n",
    "\n",
    "plt.legend()\n",
    "plt.show()\n"
   ]
  }
 ],
 "metadata": {
  "kernelspec": {
   "display_name": "epam",
   "language": "python",
   "name": "python3"
  },
  "language_info": {
   "codemirror_mode": {
    "name": "ipython",
    "version": 3
   },
   "file_extension": ".py",
   "mimetype": "text/x-python",
   "name": "python",
   "nbconvert_exporter": "python",
   "pygments_lexer": "ipython3",
   "version": "3.9.18"
  }
 },
 "nbformat": 4,
 "nbformat_minor": 2
}
