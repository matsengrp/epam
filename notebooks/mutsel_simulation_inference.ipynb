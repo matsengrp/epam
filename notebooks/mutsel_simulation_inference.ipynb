{
 "cells": [
  {
   "cell_type": "code",
   "execution_count": 1,
   "metadata": {},
   "outputs": [],
   "source": [
    "import matplotlib.pyplot as plt\n",
    "import numpy as np\n",
    "import pandas as pd\n",
    "\n",
    "import torch\n",
    "from epam.dnsm import TransformerBinarySelectionModel, DNSMBurrito\n",
    "from epam.sequences import translate_sequences"
   ]
  },
  {
   "cell_type": "code",
   "execution_count": 2,
   "metadata": {},
   "outputs": [
    {
     "name": "stdout",
     "output_type": "stream",
     "text": [
      "We have 100 PCPs.\n"
     ]
    }
   ],
   "source": [
    "pcp_df = pd.read_csv(\"~/data/wyatt-10x-1p5m_pcp_2023-10-07.mimic-only_allow_mutations_at_hydrophobic_sites.csv\")\n",
    "\n",
    "# filter out rows of pcp_df where the parent and child sequences are identical\n",
    "pcp_df = pcp_df[pcp_df[\"parent\"] != pcp_df[\"child\"]]\n",
    "\n",
    "# NOTE downsampling here\n",
    "pcp_df = pcp_df.sample(5000, random_state=42)\n",
    "\n",
    "print(f\"We have {len(pcp_df)} PCPs.\")"
   ]
  },
  {
   "cell_type": "code",
   "execution_count": 3,
   "metadata": {},
   "outputs": [
    {
     "name": "stdout",
     "output_type": "stream",
     "text": [
      "Using Metal Performance Shaders\n",
      "preparing data...\n"
     ]
    },
    {
     "name": "stderr",
     "output_type": "stream",
     "text": [
      "WARNING:absl:At this time, the v2.11+ optimizer `tf.keras.optimizers.RestoredOptimizer` runs slowly on M1/M2 Macs, please use the legacy Keras optimizer instead, located at `tf.keras.optimizers.legacy.RestoredOptimizer`.\n",
      "WARNING:absl:At this time, the v2.11+ optimizer `tf.keras.optimizers.Nadam` runs slowly on M1/M2 Macs, please use the legacy Keras optimizer instead, located at `tf.keras.optimizers.legacy.Nadam`.\n",
      "WARNING:absl:There is a known slowdown when using v2.11+ Keras optimizers on M1/M2 Macs. Falling back to the legacy Keras optimizer, i.e., `tf.keras.optimizers.legacy.Nadam`.\n",
      "WARNING:absl:At this time, the v2.11+ optimizer `tf.keras.optimizers.RestoredOptimizer` runs slowly on M1/M2 Macs, please use the legacy Keras optimizer instead, located at `tf.keras.optimizers.legacy.RestoredOptimizer`.\n",
      "WARNING:absl:At this time, the v2.11+ optimizer `tf.keras.optimizers.Nadam` runs slowly on M1/M2 Macs, please use the legacy Keras optimizer instead, located at `tf.keras.optimizers.legacy.Nadam`.\n",
      "WARNING:absl:There is a known slowdown when using v2.11+ Keras optimizers on M1/M2 Macs. Falling back to the legacy Keras optimizer, i.e., `tf.keras.optimizers.legacy.Nadam`.\n"
     ]
    },
    {
     "name": "stdout",
     "output_type": "stream",
     "text": [
      "predicting mutabilities and substitutions...\n",
      "consolidating this into substitution probabilities...\n",
      "predicting mutabilities and substitutions...\n",
      "consolidating this into substitution probabilities...\n"
     ]
    }
   ],
   "source": [
    "shmple_weights_directory = \"/Users/matsen/re/epam/data/shmple_weights/my_shmoof\"\n",
    "nhead = 4\n",
    "dim_feedforward = 2048\n",
    "layer_count = 3\n",
    "\n",
    "dnsm = TransformerBinarySelectionModel(\n",
    "    nhead=nhead, dim_feedforward=dim_feedforward, layer_count=layer_count\n",
    ")\n",
    "\n",
    "burrito = DNSMBurrito(pcp_df, shmple_weights_directory, dnsm, batch_size=1024, learning_rate=0.001, checkpoint_dir=\"./_checkpoints\", log_dir=\"./_logs\")"
   ]
  },
  {
   "cell_type": "code",
   "execution_count": 4,
   "metadata": {},
   "outputs": [],
   "source": [
    "def selection_factor_plot(model):\n",
    "    parents = pcp_df.reset_index(drop=True)[\"parent\"]\n",
    "    if len(parents) > 1000:\n",
    "        parents = parents.sample(1000)\n",
    "    aa_parents = translate_sequences(parents)\n",
    "    selection_factor_arrays = [model.selection_factors_of_aa_str(aa_str).cpu().numpy() for aa_str in aa_parents]\n",
    "\n",
    "    hydrophobic_aas = set(list(\"AILMFWV\"))\n",
    "    # \"control\": random AAs\n",
    "    # hydrophobic_aas = set(list(\"RKLFMTG\"))\n",
    "\n",
    "    def selection_factor_means(aa_str, selection_factor_array):\n",
    "        hydrophobic_selection_factors = []\n",
    "        other_selection_factors = []\n",
    "        for aa, selection_factor in zip(aa_str, selection_factor_array):\n",
    "            if aa in hydrophobic_aas:\n",
    "                hydrophobic_selection_factors.append(selection_factor)\n",
    "            else:\n",
    "                other_selection_factors.append(selection_factor)\n",
    "        return {\"hydrophobic_selection_mean\": np.mean(np.array(hydrophobic_selection_factors)),\n",
    "                \"other_selection_mean\": np.mean(np.array(other_selection_factors))}\n",
    "\n",
    "    df = pd.DataFrame([selection_factor_means(aa_str, selection_factor_array) for aa_str, selection_factor_array in zip(aa_parents, selection_factor_arrays)])\n",
    "\n",
    "    # Scatter plot\n",
    "    plt.scatter(df['hydrophobic_selection_mean'], df['other_selection_mean'], label='sequences', alpha=0.1)\n",
    "    plt.xlabel('Hydrophobic Selection Mean')\n",
    "    plt.ylabel('Other Selection Mean')\n",
    "\n",
    "    # Add x=y line\n",
    "    lims = [\n",
    "        np.min([plt.xlim(), plt.ylim()]),  \n",
    "        np.max([plt.xlim(), plt.ylim()]),  \n",
    "    ]\n",
    "    plt.plot(lims, lims, 'k--', alpha=0.5, label='x=y line')\n",
    "    plt.xlim(lims)\n",
    "    plt.ylim(lims)\n",
    "\n",
    "    plt.legend()\n",
    "    plt.show()\n"
   ]
  },
  {
   "cell_type": "code",
   "execution_count": 5,
   "metadata": {},
   "outputs": [
    {
     "name": "stdout",
     "output_type": "stream",
     "text": [
      "Epoch [0/3], Training Loss: 0.17340809106826782, Validation Loss: 0.20514585077762604\n",
      "training model...\n",
      "Epoch [1/3], Training Loss: 0.17328110337257385, Validation Loss: 0.18573862314224243\n",
      "Epoch [2/3], Training Loss: 0.1645607203245163, Validation Loss: 0.1761293262243271\n",
      "Epoch [3/3], Training Loss: 0.16764122247695923, Validation Loss: 0.16499878466129303\n"
     ]
    },
    {
     "name": "stderr",
     "output_type": "stream",
     "text": [
      "Finding optimal branch lengths: 100%|██████████| 80/80 [00:15<00:00,  5.04it/s]\n"
     ]
    },
    {
     "name": "stdout",
     "output_type": "stream",
     "text": [
      "predicting mutabilities and substitutions...\n",
      "consolidating this into substitution probabilities...\n"
     ]
    },
    {
     "name": "stderr",
     "output_type": "stream",
     "text": [
      "Finding optimal branch lengths: 100%|██████████| 20/20 [00:02<00:00,  6.72it/s]\n"
     ]
    },
    {
     "name": "stdout",
     "output_type": "stream",
     "text": [
      "predicting mutabilities and substitutions...\n",
      "consolidating this into substitution probabilities...\n",
      "Epoch [0/3], Training Loss: 0.16393545269966125, Validation Loss: 0.16610592603683472\n",
      "training model...\n",
      "Epoch [1/3], Training Loss: 0.15989601612091064, Validation Loss: 0.1838715821504593\n",
      "Epoch [2/3], Training Loss: 0.161887988448143, Validation Loss: 0.19316749274730682\n",
      "Epoch [3/3], Training Loss: 0.16553090512752533, Validation Loss: 0.18912167847156525\n"
     ]
    },
    {
     "name": "stderr",
     "output_type": "stream",
     "text": [
      "Finding optimal branch lengths:   0%|          | 0/80 [00:00<?, ?it/s]/Users/matsen/re/epam/epam/models.py:351: UserWarning: To copy construct from a tensor, it is recommended to use sourceTensor.clone().detach() or sourceTensor.clone().detach().requires_grad_(True), rather than torch.tensor(sourceTensor).\n",
      "  log_branch_length = torch.tensor(np.log(base_branch_length), requires_grad=True)\n",
      "Finding optimal branch lengths: 100%|██████████| 80/80 [00:11<00:00,  6.67it/s]\n"
     ]
    },
    {
     "name": "stdout",
     "output_type": "stream",
     "text": [
      "predicting mutabilities and substitutions...\n",
      "consolidating this into substitution probabilities...\n"
     ]
    },
    {
     "name": "stderr",
     "output_type": "stream",
     "text": [
      "Finding optimal branch lengths: 100%|██████████| 20/20 [00:02<00:00,  6.85it/s]\n"
     ]
    },
    {
     "name": "stdout",
     "output_type": "stream",
     "text": [
      "predicting mutabilities and substitutions...\n",
      "consolidating this into substitution probabilities...\n",
      "Epoch [0/50], Training Loss: 0.1555190533399582, Validation Loss: 0.17963556945323944\n",
      "training model...\n",
      "Epoch [1/50], Training Loss: 0.1544167548418045, Validation Loss: 0.171417698264122\n",
      "Epoch [2/50], Training Loss: 0.15401028096675873, Validation Loss: 0.1655021458864212\n",
      "Epoch [3/50], Training Loss: 0.15480944514274597, Validation Loss: 0.1634209305047989\n",
      "Epoch [4/50], Training Loss: 0.15359628200531006, Validation Loss: 0.16739238798618317\n",
      "Epoch [5/50], Training Loss: 0.15116360783576965, Validation Loss: 0.17112834751605988\n",
      "Epoch [6/50], Training Loss: 0.15010154247283936, Validation Loss: 0.17259187996387482\n",
      "Epoch [7/50], Training Loss: 0.1504330337047577, Validation Loss: 0.17032690346240997\n",
      "Epoch [8/50], Training Loss: 0.149882510304451, Validation Loss: 0.1671086698770523\n",
      "Epoch [9/50], Training Loss: 0.15035508573055267, Validation Loss: 0.16592226922512054\n",
      "Epoch [10/50], Training Loss: 0.14410971105098724, Validation Loss: 0.16304215788841248\n",
      "Epoch [11/50], Training Loss: 0.14825645089149475, Validation Loss: 0.16174545884132385\n",
      "Epoch [12/50], Training Loss: 0.14890286326408386, Validation Loss: 0.16275478899478912\n",
      "Epoch [13/50], Training Loss: 0.14935417473316193, Validation Loss: 0.1637556552886963\n",
      "Epoch [14/50], Training Loss: 0.14777997136116028, Validation Loss: 0.1649896204471588\n",
      "Epoch [15/50], Training Loss: 0.14849142730236053, Validation Loss: 0.16552087664604187\n",
      "Epoch [16/50], Training Loss: 0.1451481431722641, Validation Loss: 0.16509895026683807\n",
      "Epoch [17/50], Training Loss: 0.1462957262992859, Validation Loss: 0.16500040888786316\n",
      "Epoch [18/50], Training Loss: 0.1428721845149994, Validation Loss: 0.16485530138015747\n",
      "Epoch [19/50], Training Loss: 0.14815931022167206, Validation Loss: 0.1649899184703827\n",
      "Epoch [20/50], Training Loss: 0.149936705827713, Validation Loss: 0.16589763760566711\n",
      "Epoch [21/50], Training Loss: 0.14532998204231262, Validation Loss: 0.16717351973056793\n",
      "Epoch [22/50], Training Loss: 0.14497588574886322, Validation Loss: 0.16594362258911133\n",
      "Epoch [23/50], Training Loss: 0.1466565579175949, Validation Loss: 0.1655445694923401\n",
      "Epoch [24/50], Training Loss: 0.14244981110095978, Validation Loss: 0.16476970911026\n",
      "Epoch [25/50], Training Loss: 0.14913557469844818, Validation Loss: 0.16324172914028168\n",
      "Epoch [26/50], Training Loss: 0.14697130024433136, Validation Loss: 0.16426043212413788\n",
      "Epoch [27/50], Training Loss: 0.1496557891368866, Validation Loss: 0.16475282609462738\n",
      "Epoch [28/50], Training Loss: 0.14762648940086365, Validation Loss: 0.16411185264587402\n",
      "Epoch [29/50], Training Loss: 0.14539799094200134, Validation Loss: 0.16247177124023438\n",
      "Epoch [30/50], Training Loss: 0.1495143622159958, Validation Loss: 0.1611376255750656\n",
      "Epoch [31/50], Training Loss: 0.14744798839092255, Validation Loss: 0.15988630056381226\n",
      "Epoch [32/50], Training Loss: 0.14352937042713165, Validation Loss: 0.15924203395843506\n",
      "Epoch [33/50], Training Loss: 0.14728054404258728, Validation Loss: 0.16019494831562042\n",
      "Epoch [34/50], Training Loss: 0.14409366250038147, Validation Loss: 0.16204968094825745\n",
      "Epoch [35/50], Training Loss: 0.14503131806850433, Validation Loss: 0.16356639564037323\n",
      "Epoch [36/50], Training Loss: 0.14496614038944244, Validation Loss: 0.16588523983955383\n",
      "Epoch [37/50], Training Loss: 0.14314399659633636, Validation Loss: 0.16560137271881104\n",
      "Epoch [38/50], Training Loss: 0.14320529997348785, Validation Loss: 0.16498365998268127\n",
      "Epoch [39/50], Training Loss: 0.14399823546409607, Validation Loss: 0.16309557855129242\n",
      "Epoch [40/50], Training Loss: 0.14324311912059784, Validation Loss: 0.16153281927108765\n",
      "Epoch [41/50], Training Loss: 0.14528119564056396, Validation Loss: 0.1604994386434555\n",
      "Epoch [42/50], Training Loss: 0.14020222425460815, Validation Loss: 0.16012968122959137\n",
      "Epoch [43/50], Training Loss: 0.14503388106822968, Validation Loss: 0.16057921946048737\n",
      "Epoch [44/50], Training Loss: 0.1419580727815628, Validation Loss: 0.15957948565483093\n",
      "Epoch [45/50], Training Loss: 0.1411609947681427, Validation Loss: 0.15950393676757812\n",
      "Epoch [46/50], Training Loss: 0.14494185149669647, Validation Loss: 0.16007483005523682\n",
      "Epoch [47/50], Training Loss: 0.14182765781879425, Validation Loss: 0.16115878522396088\n",
      "Epoch [48/50], Training Loss: 0.14336614310741425, Validation Loss: 0.1618882268667221\n",
      "Epoch [49/50], Training Loss: 0.14145049452781677, Validation Loss: 0.16241779923439026\n",
      "Epoch [50/50], Training Loss: 0.14400671422481537, Validation Loss: 0.1629437953233719\n"
     ]
    }
   ],
   "source": [
    "burrito.train(15)\n",
    "burrito.optimize_branch_lengths()\n",
    "burrito.train(15)\n",
    "burrito.optimize_branch_lengths()\n",
    "burrito.train(50)"
   ]
  },
  {
   "cell_type": "code",
   "execution_count": 6,
   "metadata": {},
   "outputs": [
    {
     "data": {
      "image/png": "[encoded data removed]",
      "text/plain": [
       "<Figure size 640x480 with 1 Axes>"
      ]
     },
     "metadata": {},
     "output_type": "display_data"
    }
   ],
   "source": [
    "selection_factor_plot(burrito.dnsm)"
   ]
  },
  {
   "cell_type": "code",
   "execution_count": 7,
   "metadata": {},
   "outputs": [
    {
     "data": {
      "text/plain": [
       "tensor([0.1844, 0.9990, 0.1820, 0.9990, 0.8243, 0.2199, 0.1799, 0.1630, 0.1718,\n",
       "        0.4132, 0.9990, 0.3986, 0.2855, 0.1708, 0.2079, 0.5724, 0.2531, 0.8543,\n",
       "        0.2087, 0.4280, 0.1659, 0.1680, 0.1715, 0.1898, 0.1708, 0.1653, 0.1653,\n",
       "        0.1642, 0.8265, 0.1676, 0.1869, 0.1742, 0.1675, 0.9990, 0.1739, 0.9990,\n",
       "        0.3111, 0.1671, 0.1699, 0.8141, 0.1660, 0.1676, 0.2199, 0.1741, 0.5752,\n",
       "        0.2085, 0.9990, 0.7706, 0.2273, 0.9990, 0.9990, 0.1819, 0.1665, 0.1846,\n",
       "        0.1685, 0.1780, 0.1787, 0.1679, 0.1658, 0.1811, 0.1949, 0.2075, 0.1867,\n",
       "        0.7388, 0.1660, 0.1676, 0.1679, 0.7954, 0.2039, 0.5452, 0.1652, 0.4800,\n",
       "        0.1656, 0.1650, 0.1772, 0.2164, 0.1683, 0.1647, 0.6777, 0.2371, 0.9990,\n",
       "        0.1929, 0.9990, 0.1686, 0.1738, 0.7437, 0.2178, 0.1824, 0.3384, 0.1661,\n",
       "        0.1660, 0.3286, 0.6006, 0.3503, 0.2257, 0.1688, 0.4630, 0.1700, 0.1670,\n",
       "        0.1690, 0.1932, 0.1638, 0.3740, 0.2019, 0.1647, 0.1667, 0.1662, 0.1668,\n",
       "        0.9990, 0.8766, 0.1662, 0.1678, 0.9990, 0.1650, 0.1674, 0.1636, 0.1634,\n",
       "        0.4999, 0.2469, 0.1645, 0.2139, 0.1690, 0.1893], device='mps:0')"
      ]
     },
     "execution_count": 7,
     "metadata": {},
     "output_type": "execute_result"
    }
   ],
   "source": [
    "[aa_str] = translate_sequences([pcp_df.reset_index(drop=True).loc[0, \"parent\"]])\n",
    "burrito.dnsm.selection_factors_of_aa_str(aa_str)"
   ]
  },
  {
   "cell_type": "code",
   "execution_count": 8,
   "metadata": {},
   "outputs": [],
   "source": [
    "# nhead = 4\n",
    "# dim_feedforward = 2048\n",
    "# layer_count = 3\n",
    "# \n",
    "# model = TransformerBinarySelectionModel(\n",
    "#     nhead=nhead, dim_feedforward=dim_feedforward, layer_count=layer_count\n",
    "# )\n",
    "# \n",
    "# model.load_state_dict(torch.load(\"../_trained_dnsms/dnsm-hydrophobic-2023-11-01.pth\")[\"model_state_dict\"])\n",
    "# model.eval()\n",
    "\n"
   ]
  },
  {
   "cell_type": "code",
   "execution_count": 9,
   "metadata": {},
   "outputs": [
    {
     "name": "stdout",
     "output_type": "stream",
     "text": [
      "Using Metal Performance Shaders\n",
      "preparing data...\n"
     ]
    },
    {
     "name": "stderr",
     "output_type": "stream",
     "text": [
      "WARNING:absl:At this time, the v2.11+ optimizer `tf.keras.optimizers.RestoredOptimizer` runs slowly on M1/M2 Macs, please use the legacy Keras optimizer instead, located at `tf.keras.optimizers.legacy.RestoredOptimizer`.\n",
      "WARNING:absl:At this time, the v2.11+ optimizer `tf.keras.optimizers.Nadam` runs slowly on M1/M2 Macs, please use the legacy Keras optimizer instead, located at `tf.keras.optimizers.legacy.Nadam`.\n",
      "WARNING:absl:There is a known slowdown when using v2.11+ Keras optimizers on M1/M2 Macs. Falling back to the legacy Keras optimizer, i.e., `tf.keras.optimizers.legacy.Nadam`.\n",
      "WARNING:absl:At this time, the v2.11+ optimizer `tf.keras.optimizers.RestoredOptimizer` runs slowly on M1/M2 Macs, please use the legacy Keras optimizer instead, located at `tf.keras.optimizers.legacy.RestoredOptimizer`.\n",
      "WARNING:absl:At this time, the v2.11+ optimizer `tf.keras.optimizers.Nadam` runs slowly on M1/M2 Macs, please use the legacy Keras optimizer instead, located at `tf.keras.optimizers.legacy.Nadam`.\n",
      "WARNING:absl:There is a known slowdown when using v2.11+ Keras optimizers on M1/M2 Macs. Falling back to the legacy Keras optimizer, i.e., `tf.keras.optimizers.legacy.Nadam`.\n"
     ]
    },
    {
     "name": "stdout",
     "output_type": "stream",
     "text": [
      "predicting mutabilities and substitutions...\n",
      "consolidating this into substitution probabilities...\n",
      "predicting mutabilities and substitutions...\n",
      "consolidating this into substitution probabilities...\n",
      "Epoch [0/50], Training Loss: 0.1734018325805664, Validation Loss: 0.2079601287841797\n",
      "training model...\n",
      "Epoch [1/50], Training Loss: 0.1742042899131775, Validation Loss: 0.19539965689182281\n",
      "Epoch [2/50], Training Loss: 0.16796526312828064, Validation Loss: 0.1842506378889084\n",
      "Epoch [3/50], Training Loss: 0.16574431955814362, Validation Loss: 0.1797008216381073\n",
      "Epoch [4/50], Training Loss: 0.16359655559062958, Validation Loss: 0.1634419560432434\n",
      "Epoch [5/50], Training Loss: 0.15909530222415924, Validation Loss: 0.15688608586788177\n",
      "Epoch [6/50], Training Loss: 0.15559209883213043, Validation Loss: 0.1607673317193985\n",
      "Epoch [7/50], Training Loss: 0.1558229923248291, Validation Loss: 0.16764065623283386\n",
      "Epoch [8/50], Training Loss: 0.15692104399204254, Validation Loss: 0.1634584218263626\n",
      "Epoch [9/50], Training Loss: 0.15794150531291962, Validation Loss: 0.15716677904129028\n",
      "Epoch [10/50], Training Loss: 0.15193362534046173, Validation Loss: 0.15271292626857758\n",
      "Epoch [11/50], Training Loss: 0.15227825939655304, Validation Loss: 0.14902405440807343\n",
      "Epoch [12/50], Training Loss: 0.1564853936433792, Validation Loss: 0.14729946851730347\n",
      "Epoch [13/50], Training Loss: 0.1541704684495926, Validation Loss: 0.14834968745708466\n",
      "Epoch [14/50], Training Loss: 0.1535157859325409, Validation Loss: 0.15126051008701324\n",
      "Epoch [15/50], Training Loss: 0.15026293694972992, Validation Loss: 0.15395741164684296\n",
      "Epoch [16/50], Training Loss: 0.15219028294086456, Validation Loss: 0.1560744196176529\n",
      "Epoch [17/50], Training Loss: 0.1507425606250763, Validation Loss: 0.15854114294052124\n",
      "Epoch [18/50], Training Loss: 0.14961585402488708, Validation Loss: 0.15883208811283112\n",
      "Epoch [19/50], Training Loss: 0.148362398147583, Validation Loss: 0.15712104737758636\n",
      "Epoch [20/50], Training Loss: 0.14822010695934296, Validation Loss: 0.1557459533214569\n",
      "Epoch [21/50], Training Loss: 0.14847473800182343, Validation Loss: 0.1536509245634079\n",
      "Epoch [22/50], Training Loss: 0.14867053925991058, Validation Loss: 0.15217044949531555\n",
      "Epoch [23/50], Training Loss: 0.1445060521364212, Validation Loss: 0.15224343538284302\n",
      "Epoch [24/50], Training Loss: 0.15073262155056, Validation Loss: 0.1553838700056076\n",
      "Epoch [25/50], Training Loss: 0.14975763857364655, Validation Loss: 0.1588970422744751\n",
      "Epoch [26/50], Training Loss: 0.14876562356948853, Validation Loss: 0.15803304314613342\n",
      "Epoch [27/50], Training Loss: 0.14659158885478973, Validation Loss: 0.15825234353542328\n",
      "Epoch [28/50], Training Loss: 0.1466100513935089, Validation Loss: 0.15951749682426453\n",
      "Epoch [29/50], Training Loss: 0.14297272264957428, Validation Loss: 0.15938983857631683\n",
      "Epoch [30/50], Training Loss: 0.14674752950668335, Validation Loss: 0.16042563319206238\n",
      "Epoch [31/50], Training Loss: 0.1464979201555252, Validation Loss: 0.16256405413150787\n",
      "Epoch [32/50], Training Loss: 0.14788776636123657, Validation Loss: 0.16322726011276245\n",
      "Epoch [33/50], Training Loss: 0.14592598378658295, Validation Loss: 0.15976056456565857\n",
      "Epoch [34/50], Training Loss: 0.14515919983386993, Validation Loss: 0.15521803498268127\n",
      "Epoch [35/50], Training Loss: 0.14378200471401215, Validation Loss: 0.15432921051979065\n",
      "Epoch [36/50], Training Loss: 0.14383114874362946, Validation Loss: 0.15560729801654816\n",
      "Epoch [37/50], Training Loss: 0.14060932397842407, Validation Loss: 0.15923242270946503\n",
      "Epoch [38/50], Training Loss: 0.14080770313739777, Validation Loss: 0.16266924142837524\n",
      "Epoch [39/50], Training Loss: 0.14117491245269775, Validation Loss: 0.16230900585651398\n",
      "Epoch [40/50], Training Loss: 0.14253821969032288, Validation Loss: 0.15996737778186798\n",
      "Epoch [41/50], Training Loss: 0.1440832018852234, Validation Loss: 0.15662257373332977\n",
      "Epoch [42/50], Training Loss: 0.14156430959701538, Validation Loss: 0.15590015053749084\n",
      "Epoch [43/50], Training Loss: 0.14005301892757416, Validation Loss: 0.15507091581821442\n",
      "Epoch [44/50], Training Loss: 0.1380719691514969, Validation Loss: 0.15245740115642548\n",
      "Epoch [45/50], Training Loss: 0.14133332669734955, Validation Loss: 0.15241298079490662\n",
      "Epoch [46/50], Training Loss: 0.14053747057914734, Validation Loss: 0.15466322004795074\n",
      "Epoch [47/50], Training Loss: 0.14021442830562592, Validation Loss: 0.15814730525016785\n",
      "Epoch [48/50], Training Loss: 0.13801434636116028, Validation Loss: 0.16096548736095428\n",
      "Epoch [49/50], Training Loss: 0.13740748167037964, Validation Loss: 0.16062311828136444\n",
      "Epoch [50/50], Training Loss: 0.14478443562984467, Validation Loss: 0.159691721200943\n"
     ]
    }
   ],
   "source": [
    "# model = TransformerBinarySelectionModel(\n",
    "#     nhead=nhead, dim_feedforward=dim_feedforward, layer_count=layer_count\n",
    "# )\n",
    "nobl_trained_dnsm = TransformerBinarySelectionModel(\n",
    "    nhead=nhead, dim_feedforward=dim_feedforward, layer_count=layer_count\n",
    ")\n",
    "\n",
    "nobl_trained_burrito = DNSMBurrito(pcp_df, shmple_weights_directory, nobl_trained_dnsm, batch_size=1024, learning_rate=0.001, checkpoint_dir=\"./_checkpoints\", log_dir=\"./_logs\")\n",
    "\n",
    "nobl_trained_burrito.train(50)\n",
    "\n",
    "model = nobl_trained_burrito.dnsm\n"
   ]
  },
  {
   "cell_type": "code",
   "execution_count": 10,
   "metadata": {},
   "outputs": [
    {
     "name": "stdout",
     "output_type": "stream",
     "text": [
      "Using Metal Performance Shaders\n",
      "preparing data...\n"
     ]
    },
    {
     "name": "stderr",
     "output_type": "stream",
     "text": [
      "WARNING:absl:At this time, the v2.11+ optimizer `tf.keras.optimizers.RestoredOptimizer` runs slowly on M1/M2 Macs, please use the legacy Keras optimizer instead, located at `tf.keras.optimizers.legacy.RestoredOptimizer`.\n",
      "WARNING:absl:At this time, the v2.11+ optimizer `tf.keras.optimizers.Nadam` runs slowly on M1/M2 Macs, please use the legacy Keras optimizer instead, located at `tf.keras.optimizers.legacy.Nadam`.\n",
      "WARNING:absl:There is a known slowdown when using v2.11+ Keras optimizers on M1/M2 Macs. Falling back to the legacy Keras optimizer, i.e., `tf.keras.optimizers.legacy.Nadam`.\n",
      "WARNING:absl:At this time, the v2.11+ optimizer `tf.keras.optimizers.RestoredOptimizer` runs slowly on M1/M2 Macs, please use the legacy Keras optimizer instead, located at `tf.keras.optimizers.legacy.RestoredOptimizer`.\n",
      "WARNING:absl:At this time, the v2.11+ optimizer `tf.keras.optimizers.Nadam` runs slowly on M1/M2 Macs, please use the legacy Keras optimizer instead, located at `tf.keras.optimizers.legacy.Nadam`.\n",
      "WARNING:absl:There is a known slowdown when using v2.11+ Keras optimizers on M1/M2 Macs. Falling back to the legacy Keras optimizer, i.e., `tf.keras.optimizers.legacy.Nadam`.\n"
     ]
    },
    {
     "name": "stdout",
     "output_type": "stream",
     "text": [
      "predicting mutabilities and substitutions...\n",
      "consolidating this into substitution probabilities...\n",
      "predicting mutabilities and substitutions...\n",
      "consolidating this into substitution probabilities...\n",
      "Epoch [0/10], Training Loss: 0.17378811538219452, Validation Loss: 0.20674920082092285\n",
      "training model...\n",
      "Epoch [1/10], Training Loss: 0.17431458830833435, Validation Loss: 0.19815205037593842\n",
      "Epoch [2/10], Training Loss: 0.17411287128925323, Validation Loss: 0.19169186055660248\n",
      "Epoch [3/10], Training Loss: 0.16687354445457458, Validation Loss: 0.19038760662078857\n",
      "Epoch [4/10], Training Loss: 0.16680002212524414, Validation Loss: 0.18129479885101318\n",
      "Epoch [5/10], Training Loss: 0.16312463581562042, Validation Loss: 0.17140911519527435\n",
      "Epoch [6/10], Training Loss: 0.16287818551063538, Validation Loss: 0.16454164683818817\n",
      "Epoch [7/10], Training Loss: 0.16000905632972717, Validation Loss: 0.16038361191749573\n",
      "Epoch [8/10], Training Loss: 0.15824443101882935, Validation Loss: 0.16246499121189117\n",
      "Epoch [9/10], Training Loss: 0.15867702662944794, Validation Loss: 0.15996503829956055\n",
      "Epoch [10/10], Training Loss: 0.158765971660614, Validation Loss: 0.16223441064357758\n"
     ]
    }
   ],
   "source": [
    "nofrac_dnsm = TransformerBinarySelectionModel(\n",
    "    nhead=nhead, dim_feedforward=dim_feedforward, layer_count=layer_count\n",
    ")\n",
    "\n",
    "nofrac_burrito = DNSMBurrito(pcp_df, shmple_weights_directory, nofrac_dnsm, batch_size=1024, learning_rate=0.001, checkpoint_dir=\"./_checkpoints\", log_dir=\"./_logs\")\n",
    "\n",
    "nofrac_burrito.train(10)\n",
    "# nofrac_burrito.optimize_branch_lengths()\n",
    "# for dataset in [burrito.train_set, burrito.val_set]:\n",
    "#     dataset.branch_lengths /= 2.\n",
    "# nofrac_burrito.train(3)"
   ]
  },
  {
   "cell_type": "code",
   "execution_count": 11,
   "metadata": {},
   "outputs": [
    {
     "name": "stdout",
     "output_type": "stream",
     "text": [
      "predicting mutabilities and substitutions...\n",
      "consolidating this into substitution probabilities...\n",
      "predicting mutabilities and substitutions...\n",
      "consolidating this into substitution probabilities...\n",
      "Epoch [0/10], Training Loss: 0.15981662273406982, Validation Loss: 0.16223441064357758\n",
      "training model...\n",
      "Epoch [1/10], Training Loss: 0.1564849466085434, Validation Loss: 0.1587843894958496\n",
      "Epoch [2/10], Training Loss: 0.16061198711395264, Validation Loss: 0.1559143364429474\n",
      "Epoch [3/10], Training Loss: 0.15732192993164062, Validation Loss: 0.1559540033340454\n",
      "Epoch [4/10], Training Loss: 0.15978331863880157, Validation Loss: 0.15662644803524017\n",
      "Epoch [5/10], Training Loss: 0.155989408493042, Validation Loss: 0.15614520013332367\n",
      "Epoch [6/10], Training Loss: 0.1547783762216568, Validation Loss: 0.15495850145816803\n",
      "Epoch [7/10], Training Loss: 0.15573282539844513, Validation Loss: 0.15479151904582977\n",
      "Epoch [8/10], Training Loss: 0.15367037057876587, Validation Loss: 0.15441836416721344\n",
      "Epoch [9/10], Training Loss: 0.15295283496379852, Validation Loss: 0.15318071842193604\n",
      "Epoch [10/10], Training Loss: 0.1560920923948288, Validation Loss: 0.15210160613059998\n"
     ]
    },
    {
     "data": {
      "image/png": "[encoded data removed]",
      "text/plain": [
       "<Figure size 640x480 with 1 Axes>"
      ]
     },
     "metadata": {},
     "output_type": "display_data"
    }
   ],
   "source": [
    "for dataset in [burrito.train_set, burrito.val_set]:\n",
    "    dataset.branch_lengths /= 2.\n",
    "nofrac_burrito.train(10)\n",
    "\n",
    "selection_factor_plot(nofrac_burrito.dnsm)"
   ]
  }
 ],
 "metadata": {
  "kernelspec": {
   "display_name": "epam",
   "language": "python",
   "name": "python3"
  },
  "language_info": {
   "codemirror_mode": {
    "name": "ipython",
    "version": 3
   },
   "file_extension": ".py",
   "mimetype": "text/x-python",
   "name": "python",
   "nbconvert_exporter": "python",
   "pygments_lexer": "ipython3",
   "version": "3.9.18"
  }
 },
 "nbformat": 4,
 "nbformat_minor": 2
}
