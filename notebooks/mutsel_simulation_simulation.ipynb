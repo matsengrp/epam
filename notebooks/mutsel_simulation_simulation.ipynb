{
 "cells": [
  {
   "cell_type": "code",
   "execution_count": 9,
   "metadata": {},
   "outputs": [],
   "source": [
    "import logging\n",
    "\n",
    "import pandas as pd\n",
    "\n",
    "from shmple import AttentionModel\n",
    "\n",
    "from epam.mutsel_simulation import parent_position_is_hydrophobic, parent_position_is_next_to_hydrophobic, MutSelSimulator, HYDROPHOBIC_AAS\n",
    "from epam.toy_simulation import mimic_mutations\n",
    "from epam.sequences import translate_sequences"
   ]
  },
  {
   "cell_type": "code",
   "execution_count": 2,
   "metadata": {},
   "outputs": [
    {
     "name": "stderr",
     "output_type": "stream",
     "text": [
      "WARNING:absl:At this time, the v2.11+ optimizer `tf.keras.optimizers.RestoredOptimizer` runs slowly on M1/M2 Macs, please use the legacy Keras optimizer instead, located at `tf.keras.optimizers.legacy.RestoredOptimizer`.\n",
      "WARNING:absl:At this time, the v2.11+ optimizer `tf.keras.optimizers.Nadam` runs slowly on M1/M2 Macs, please use the legacy Keras optimizer instead, located at `tf.keras.optimizers.legacy.Nadam`.\n",
      "WARNING:absl:There is a known slowdown when using v2.11+ Keras optimizers on M1/M2 Macs. Falling back to the legacy Keras optimizer, i.e., `tf.keras.optimizers.legacy.Nadam`.\n"
     ]
    },
    {
     "name": "stdout",
     "output_type": "stream",
     "text": [
      "Simulated child DNA sequence: ATTGCTGCAGAGCGT\n"
     ]
    }
   ],
   "source": [
    "shmple_weights_directory = \"/Users/matsen/re/epam/data/shmple_weights/my_shmoof\"\n",
    "shmple_model = AttentionModel(weights_dir=shmple_weights_directory, log_level=logging.WARNING)\n",
    "\n",
    "criterion = parent_position_is_next_to_hydrophobic\n",
    "simulator = MutSelSimulator(criterion, shmple_model)\n",
    "parent_dna_sequence = \"GCTGTCGCAAAGCGT\"\n",
    "target_mut_count = 5\n",
    "child_dna_sequence = simulator.simulate_child_sequence(parent_dna_sequence, target_mut_count)\n",
    "print(\"Simulated child DNA sequence:\", child_dna_sequence)\n"
   ]
  },
  {
   "cell_type": "code",
   "execution_count": 3,
   "metadata": {},
   "outputs": [
    {
     "data": {
      "text/html": [
       "<div>\n",
       "<style scoped>\n",
       "    .dataframe tbody tr th:only-of-type {\n",
       "        vertical-align: middle;\n",
       "    }\n",
       "\n",
       "    .dataframe tbody tr th {\n",
       "        vertical-align: top;\n",
       "    }\n",
       "\n",
       "    .dataframe thead th {\n",
       "        text-align: right;\n",
       "    }\n",
       "</style>\n",
       "<table border=\"1\" class=\"dataframe\">\n",
       "  <thead>\n",
       "    <tr style=\"text-align: right;\">\n",
       "      <th></th>\n",
       "      <th>sample_id</th>\n",
       "      <th>family</th>\n",
       "      <th>parent</th>\n",
       "      <th>child</th>\n",
       "      <th>v_gene</th>\n",
       "      <th>child_is_leaf</th>\n",
       "      <th>sub_count</th>\n",
       "    </tr>\n",
       "  </thead>\n",
       "  <tbody>\n",
       "    <tr>\n",
       "      <th>0</th>\n",
       "      <td>0</td>\n",
       "      <td>149198</td>\n",
       "      <td>CAGGTGCAGCTGGTGGAGTCTGGGGGAGGCGTGGTCCAGCCTGGGA...</td>\n",
       "      <td>CAGGTGCAGCTGGTGGAGTCTGGGGGAGGCGTGGTCCAGCCTGGGA...</td>\n",
       "      <td>IGHV3-33*01</td>\n",
       "      <td>False</td>\n",
       "      <td>3</td>\n",
       "    </tr>\n",
       "    <tr>\n",
       "      <th>1</th>\n",
       "      <td>0</td>\n",
       "      <td>149198</td>\n",
       "      <td>CAGGTGCAGCTGGTGGAGTCTGGGGGAGGCGTGGTCCAGCCTGGGA...</td>\n",
       "      <td>CAGGTGCAGCTGGTGGAGTCTGGGGGAGGCGTGGTCCAGCCTGGGA...</td>\n",
       "      <td>IGHV3-33*01</td>\n",
       "      <td>False</td>\n",
       "      <td>4</td>\n",
       "    </tr>\n",
       "    <tr>\n",
       "      <th>2</th>\n",
       "      <td>0</td>\n",
       "      <td>149198</td>\n",
       "      <td>CAGGTGCAGCTGGTGGAGTCTGGGGGAGGCGTGGTCCAGCCTGGGA...</td>\n",
       "      <td>CAAGTGCAGCTGGTGGAGTCTGGGGGAGGCGTGGTCCAGCCTGGGA...</td>\n",
       "      <td>IGHV3-33*01</td>\n",
       "      <td>False</td>\n",
       "      <td>16</td>\n",
       "    </tr>\n",
       "    <tr>\n",
       "      <th>3</th>\n",
       "      <td>0</td>\n",
       "      <td>149198</td>\n",
       "      <td>CAAGTGCAGCTGGTGGAGTCTGGGGGAGGCGTGGTCCAGCCTGGGA...</td>\n",
       "      <td>CAAATGCAGATGGTGGAGTCGGGGGGAGGCGTGGTCCAGCCAGGGA...</td>\n",
       "      <td>IGHV3-33*01</td>\n",
       "      <td>True</td>\n",
       "      <td>19</td>\n",
       "    </tr>\n",
       "    <tr>\n",
       "      <th>4</th>\n",
       "      <td>0</td>\n",
       "      <td>149198</td>\n",
       "      <td>CAAGTGCAGCTGGTGGAGTCTGGGGGAGGCGTGGTCCAGCCTGGGA...</td>\n",
       "      <td>CAAGTGCAACTGGTGGAGTCTGGGGGAGGCGTGGTCCAGCCTGGGA...</td>\n",
       "      <td>IGHV3-33*01</td>\n",
       "      <td>True</td>\n",
       "      <td>7</td>\n",
       "    </tr>\n",
       "    <tr>\n",
       "      <th>...</th>\n",
       "      <td>...</td>\n",
       "      <td>...</td>\n",
       "      <td>...</td>\n",
       "      <td>...</td>\n",
       "      <td>...</td>\n",
       "      <td>...</td>\n",
       "      <td>...</td>\n",
       "    </tr>\n",
       "    <tr>\n",
       "      <th>60288</th>\n",
       "      <td>0</td>\n",
       "      <td>17934</td>\n",
       "      <td>CAGCTGCAGCTGCAGGAGTCGGGCCCAGGACTGGTGAAGCCTTCGG...</td>\n",
       "      <td>CAGCTGCAGCTGCAGGAGTCGGGCCCAGGACTGGTGAAGCCTTCGG...</td>\n",
       "      <td>IGHV4-39*01</td>\n",
       "      <td>True</td>\n",
       "      <td>17</td>\n",
       "    </tr>\n",
       "    <tr>\n",
       "      <th>60289</th>\n",
       "      <td>0</td>\n",
       "      <td>17934</td>\n",
       "      <td>CAGCTGCAGCTGCAGGAGTCGGGCCCAGGACTGGTGAAGCCTTCGG...</td>\n",
       "      <td>CAGCTGCAGCTGCAGGAGTCGGGCCCAGGACTGGTGAAGCCTTCGG...</td>\n",
       "      <td>IGHV4-39*01</td>\n",
       "      <td>False</td>\n",
       "      <td>2</td>\n",
       "    </tr>\n",
       "    <tr>\n",
       "      <th>60290</th>\n",
       "      <td>0</td>\n",
       "      <td>17934</td>\n",
       "      <td>CAGCTGCAGCTGCAGGAGTCGGGCCCAGGACTGGTGAAGCCTTCGG...</td>\n",
       "      <td>CAGCTGCAGCTGCAGGAGTCGGGCCCAGGACTTGTGAAGCCTTCGG...</td>\n",
       "      <td>IGHV4-39*01</td>\n",
       "      <td>True</td>\n",
       "      <td>8</td>\n",
       "    </tr>\n",
       "    <tr>\n",
       "      <th>60291</th>\n",
       "      <td>0</td>\n",
       "      <td>269306</td>\n",
       "      <td>GAGGTGCAGCTGTTGGAGTCTGGGGGAGGCTTGGTACAGCCTGGGG...</td>\n",
       "      <td>GAGGTGCAGCTGTTGGAGTCTGGGGGAGGCTTGGTACAGCCTGGGG...</td>\n",
       "      <td>IGHV3-23*01</td>\n",
       "      <td>True</td>\n",
       "      <td>3</td>\n",
       "    </tr>\n",
       "    <tr>\n",
       "      <th>60292</th>\n",
       "      <td>0</td>\n",
       "      <td>269306</td>\n",
       "      <td>GAGGTGCAGCTGTTGGAGTCTGGGGGAGGCTTGGTACAGCCTGGGG...</td>\n",
       "      <td>GAGGTGCAGGTGTTGGAGTCTGGGGGAGGCTTGGTACAGCCTGGGG...</td>\n",
       "      <td>IGHV3-23*01</td>\n",
       "      <td>True</td>\n",
       "      <td>13</td>\n",
       "    </tr>\n",
       "  </tbody>\n",
       "</table>\n",
       "<p>60293 rows × 7 columns</p>\n",
       "</div>"
      ],
      "text/plain": [
       "       sample_id  family                                             parent  \\\n",
       "0              0  149198  CAGGTGCAGCTGGTGGAGTCTGGGGGAGGCGTGGTCCAGCCTGGGA...   \n",
       "1              0  149198  CAGGTGCAGCTGGTGGAGTCTGGGGGAGGCGTGGTCCAGCCTGGGA...   \n",
       "2              0  149198  CAGGTGCAGCTGGTGGAGTCTGGGGGAGGCGTGGTCCAGCCTGGGA...   \n",
       "3              0  149198  CAAGTGCAGCTGGTGGAGTCTGGGGGAGGCGTGGTCCAGCCTGGGA...   \n",
       "4              0  149198  CAAGTGCAGCTGGTGGAGTCTGGGGGAGGCGTGGTCCAGCCTGGGA...   \n",
       "...          ...     ...                                                ...   \n",
       "60288          0   17934  CAGCTGCAGCTGCAGGAGTCGGGCCCAGGACTGGTGAAGCCTTCGG...   \n",
       "60289          0   17934  CAGCTGCAGCTGCAGGAGTCGGGCCCAGGACTGGTGAAGCCTTCGG...   \n",
       "60290          0   17934  CAGCTGCAGCTGCAGGAGTCGGGCCCAGGACTGGTGAAGCCTTCGG...   \n",
       "60291          0  269306  GAGGTGCAGCTGTTGGAGTCTGGGGGAGGCTTGGTACAGCCTGGGG...   \n",
       "60292          0  269306  GAGGTGCAGCTGTTGGAGTCTGGGGGAGGCTTGGTACAGCCTGGGG...   \n",
       "\n",
       "                                                   child       v_gene  \\\n",
       "0      CAGGTGCAGCTGGTGGAGTCTGGGGGAGGCGTGGTCCAGCCTGGGA...  IGHV3-33*01   \n",
       "1      CAGGTGCAGCTGGTGGAGTCTGGGGGAGGCGTGGTCCAGCCTGGGA...  IGHV3-33*01   \n",
       "2      CAAGTGCAGCTGGTGGAGTCTGGGGGAGGCGTGGTCCAGCCTGGGA...  IGHV3-33*01   \n",
       "3      CAAATGCAGATGGTGGAGTCGGGGGGAGGCGTGGTCCAGCCAGGGA...  IGHV3-33*01   \n",
       "4      CAAGTGCAACTGGTGGAGTCTGGGGGAGGCGTGGTCCAGCCTGGGA...  IGHV3-33*01   \n",
       "...                                                  ...          ...   \n",
       "60288  CAGCTGCAGCTGCAGGAGTCGGGCCCAGGACTGGTGAAGCCTTCGG...  IGHV4-39*01   \n",
       "60289  CAGCTGCAGCTGCAGGAGTCGGGCCCAGGACTGGTGAAGCCTTCGG...  IGHV4-39*01   \n",
       "60290  CAGCTGCAGCTGCAGGAGTCGGGCCCAGGACTTGTGAAGCCTTCGG...  IGHV4-39*01   \n",
       "60291  GAGGTGCAGCTGTTGGAGTCTGGGGGAGGCTTGGTACAGCCTGGGG...  IGHV3-23*01   \n",
       "60292  GAGGTGCAGGTGTTGGAGTCTGGGGGAGGCTTGGTACAGCCTGGGG...  IGHV3-23*01   \n",
       "\n",
       "       child_is_leaf  sub_count  \n",
       "0              False          3  \n",
       "1              False          4  \n",
       "2              False         16  \n",
       "3               True         19  \n",
       "4               True          7  \n",
       "...              ...        ...  \n",
       "60288           True         17  \n",
       "60289          False          2  \n",
       "60290           True          8  \n",
       "60291           True          3  \n",
       "60292           True         13  \n",
       "\n",
       "[60293 rows x 7 columns]"
      ]
     },
     "execution_count": 3,
     "metadata": {},
     "output_type": "execute_result"
    }
   ],
   "source": [
    "pcp_df = pd.read_csv(\"~/data/wyatt-10x-1p5m_pcp_2023-10-07.csv\", index_col=0)\n",
    "pcp_df = pcp_df[pcp_df[\"parent\"] != pcp_df[\"child\"]].reset_index(drop=True)\n",
    "pcp_df[\"sub_count\"] = pcp_df.apply(lambda row: sum([p != c for p, c in zip(row[\"parent\"], row[\"child\"])]), axis=1)\n",
    "pcp_df"
   ]
  },
  {
   "cell_type": "code",
   "execution_count": 4,
   "metadata": {},
   "outputs": [
    {
     "name": "stderr",
     "output_type": "stream",
     "text": [
      "Mutating sequences: 100%|██████████| 60293/60293 [56:54<00:00, 17.66it/s]  \n"
     ]
    }
   ],
   "source": [
    "fake_df = pd.DataFrame({\"parent\": pcp_df[\"parent\"], \"child\": mimic_mutations(simulator.simulate_child_sequence, pcp_df[\"parent\"], pcp_df[\"sub_count\"])})\n",
    "\n",
    "fake_df[\"sub_count\"] = pcp_df.apply(lambda row: sum([p != c for p, c in zip(row[\"parent\"], row[\"child\"])]), axis=1)"
   ]
  },
  {
   "cell_type": "code",
   "execution_count": 5,
   "metadata": {},
   "outputs": [],
   "source": [
    "assert (fake_df[\"sub_count\"] == pcp_df[\"sub_count\"]).all()"
   ]
  },
  {
   "cell_type": "code",
   "execution_count": 6,
   "metadata": {},
   "outputs": [],
   "source": [
    "#fake_df.to_csv(\"~/data/wyatt-10x-1p5m_pcp_2023-10-07.mimic-only_allow_mutations_at_hydrophobic_sites.csv\")\n",
    "fake_df.to_csv(\"~/data/wyatt-10x-1p5m_pcp_2023-10-07.mimic-only_allow_mutations_next_to_hydrophobic_sites.csv\")"
   ]
  },
  {
   "cell_type": "code",
   "execution_count": 7,
   "metadata": {},
   "outputs": [],
   "source": [
    "fake_df[\"aa_parent\"] = translate_sequences(fake_df[\"parent\"])\n",
    "fake_df[\"aa_child\"] = translate_sequences(fake_df[\"child\"])"
   ]
  },
  {
   "cell_type": "code",
   "execution_count": 8,
   "metadata": {},
   "outputs": [
    {
     "data": {
      "text/plain": [
       "hydrophobic_count_diff\n",
       " 0     27338\n",
       " 1     12459\n",
       "-1      9821\n",
       " 2      4497\n",
       "-2      2709\n",
       " 3      1687\n",
       "-3       699\n",
       " 4       614\n",
       " 5       171\n",
       "-4       152\n",
       " 6        75\n",
       "-5        31\n",
       " 7        25\n",
       "-6         9\n",
       " 8         4\n",
       " 10        1\n",
       " 9         1\n",
       "Name: count, dtype: int64"
      ]
     },
     "execution_count": 8,
     "metadata": {},
     "output_type": "execute_result"
    }
   ],
   "source": [
    "hydrophobic_aas = set(list(\"AILMFWV\"))\n",
    "\n",
    "# count the number of hydrophobic sites in each parent sequence and add to a column \"hydrophobic_count_parent\"\n",
    "fake_df[\"hydrophobic_count_parent\"] = fake_df[\"aa_parent\"].apply(lambda aa_seq: sum([aa in hydrophobic_aas for aa in aa_seq]))\n",
    "# count the number of hydrophobic sites in each child sequence and add to a column \"hydrophobic_count_child\"\n",
    "fake_df[\"hydrophobic_count_child\"] = fake_df[\"aa_child\"].apply(lambda aa_seq: sum([aa in hydrophobic_aas for aa in aa_seq]))\n",
    "\n",
    "# take the difference of these two columns and add to a column \"hydrophobic_count_diff\"\n",
    "fake_df[\"hydrophobic_count_diff\"] = fake_df[\"hydrophobic_count_child\"] - fake_df[\"hydrophobic_count_parent\"]\n",
    "\n",
    "fake_df[\"hydrophobic_count_diff\"].value_counts()"
   ]
  },
  {
   "cell_type": "code",
   "execution_count": 10,
   "metadata": {},
   "outputs": [
    {
     "name": "stdout",
     "output_type": "stream",
     "text": [
      "Differences adjacent to hydrophobic sites: 321259\n",
      "Total differences: 327574\n",
      "Percentage of differences adjacent to hydrophobic sites: 98.07%\n"
     ]
    }
   ],
   "source": [
    "def is_next_to_hydrophobic(aa_str, pos):\n",
    "    left_is_hydrophobic = pos != 0 and aa_str[pos - 1] in HYDROPHOBIC_AAS\n",
    "    right_is_hydrophobic = pos != len(aa_str) - 1 and aa_str[pos + 1] in HYDROPHOBIC_AAS\n",
    "    return left_is_hydrophobic or right_is_hydrophobic\n",
    "\n",
    "def check_differences_concentrated_near_hydrophobic(fake_df):\n",
    "    count_diff_adjacent_to_hydrophobic = 0\n",
    "    count_total_differences = 0\n",
    "\n",
    "    for parent_seq, child_seq in zip(fake_df[\"aa_parent\"], fake_df[\"aa_child\"]):\n",
    "        for pos, (parent_aa, child_aa) in enumerate(zip(parent_seq, child_seq)):\n",
    "            if parent_aa != child_aa:  # There's a difference at this position\n",
    "                count_total_differences += 1\n",
    "                if is_next_to_hydrophobic(parent_seq, pos):\n",
    "                    count_diff_adjacent_to_hydrophobic += 1\n",
    "\n",
    "    return count_diff_adjacent_to_hydrophobic, count_total_differences\n",
    "\n",
    "# Usage example:\n",
    "count_diff_adjacent_to_hydrophobic, count_total_differences = check_differences_concentrated_near_hydrophobic(fake_df)\n",
    "\n",
    "print(f\"Differences adjacent to hydrophobic sites: {count_diff_adjacent_to_hydrophobic}\")\n",
    "print(f\"Total differences: {count_total_differences}\")\n",
    "\n",
    "if count_total_differences > 0:\n",
    "    percentage = (count_diff_adjacent_to_hydrophobic / count_total_differences) * 100\n",
    "    print(f\"Percentage of differences adjacent to hydrophobic sites: {percentage:.2f}%\")\n",
    "else:\n",
    "    print(\"No differences found.\")\n"
   ]
  }
 ],
 "metadata": {
  "kernelspec": {
   "display_name": "epam",
   "language": "python",
   "name": "python3"
  },
  "language_info": {
   "codemirror_mode": {
    "name": "ipython",
    "version": 3
   },
   "file_extension": ".py",
   "mimetype": "text/x-python",
   "name": "python",
   "nbconvert_exporter": "python",
   "pygments_lexer": "ipython3",
   "version": "3.9.18"
  }
 },
 "nbformat": 4,
 "nbformat_minor": 2
}
