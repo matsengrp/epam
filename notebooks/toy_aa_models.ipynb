{
 "cells": [
  {
   "cell_type": "code",
   "execution_count": 1,
   "metadata": {},
   "outputs": [],
   "source": [
    "import pandas as pd\n",
    "\n",
    "import epam.simulation as simulation\n",
    "from epam.sequences import translate_sequences\n",
    "from epam.simulation import mimic_aa_mutations\n",
    "from epam.toy_dnsm import train_model"
   ]
  },
  {
   "cell_type": "code",
   "execution_count": 2,
   "metadata": {},
   "outputs": [
    {
     "data": {
      "text/plain": [
       "0    YPAYLHY\n",
       "1        STY\n",
       "2      WYSLQ\n",
       "3        KAD\n",
       "dtype: object"
      ]
     },
     "execution_count": 2,
     "metadata": {},
     "output_type": "execute_result"
    }
   ],
   "source": [
    "aa_parents = pd.Series([\"YYAYYYY\", \"YFY\", \"CYTFD\", \"KAY\"])\n",
    "aa_sub_counts = pd.Series([3, 2, 4, 1])\n",
    "\n",
    "mimic_aa_mutations(\n",
    "    simulation.hydrophobic_neighbor_mutator,\n",
    "    aa_parents,\n",
    "    aa_sub_counts,\n",
    ")"
   ]
  },
  {
   "cell_type": "code",
   "execution_count": 3,
   "metadata": {},
   "outputs": [],
   "source": [
    "pcp_df = pd.read_csv(\"~/data/wyatt-10x-1p5m_pcp_2023-10-07.csv\", index_col=0)\n",
    "\n",
    "pcp_df[\"aa_parent\"] = translate_sequences(pcp_df[\"parent\"])\n",
    "pcp_df[\"aa_child\"] = translate_sequences(pcp_df[\"child\"])\n",
    "\n",
    "pcp_df = pcp_df[pcp_df[\"aa_parent\"] != pcp_df[\"aa_child\"]].reset_index(drop=True)\n",
    "\n",
    "pcp_df[\"aa_sub_count\"] = pcp_df.apply(lambda row: sum([p != c for p, c in zip(row[\"aa_parent\"], row[\"aa_child\"])]), axis=1)"
   ]
  },
  {
   "cell_type": "code",
   "execution_count": 4,
   "metadata": {},
   "outputs": [],
   "source": [
    "fake_df = pd.DataFrame({\"aa_parent\": pcp_df[\"aa_parent\"], \"aa_child\": mimic_aa_mutations(simulation.hydrophobic_neighbor_mutator, pcp_df[\"aa_parent\"], pcp_df[\"aa_sub_count\"])})\n",
    "\n",
    "fake_df[\"aa_sub_count\"] = pcp_df.apply(lambda row: sum([p != c for p, c in zip(row[\"aa_parent\"], row[\"aa_child\"])]), axis=1)\n",
    "\n",
    "assert (fake_df[\"aa_sub_count\"] == pcp_df[\"aa_sub_count\"]).all()"
   ]
  },
  {
   "cell_type": "code",
   "execution_count": 5,
   "metadata": {},
   "outputs": [
    {
     "data": {
      "text/html": [
       "<div>\n",
       "<style scoped>\n",
       "    .dataframe tbody tr th:only-of-type {\n",
       "        vertical-align: middle;\n",
       "    }\n",
       "\n",
       "    .dataframe tbody tr th {\n",
       "        vertical-align: top;\n",
       "    }\n",
       "\n",
       "    .dataframe thead th {\n",
       "        text-align: right;\n",
       "    }\n",
       "</style>\n",
       "<table border=\"1\" class=\"dataframe\">\n",
       "  <thead>\n",
       "    <tr style=\"text-align: right;\">\n",
       "      <th></th>\n",
       "      <th>aa_parent</th>\n",
       "      <th>aa_child</th>\n",
       "      <th>aa_sub_count</th>\n",
       "    </tr>\n",
       "  </thead>\n",
       "  <tbody>\n",
       "    <tr>\n",
       "      <th>0</th>\n",
       "      <td>QVQLVESGGGVVQPGRSLRLSCAASGFTFSSSGMHWVRQAPGKGLE...</td>\n",
       "      <td>QVQLVESGGGVVQPGRSLRLSCAARGFTFSSSGMHWVRQAPGKGLE...</td>\n",
       "      <td>2</td>\n",
       "    </tr>\n",
       "    <tr>\n",
       "      <th>1</th>\n",
       "      <td>QVQLVESGGGVVQPGRSLRLSCAASGFTFNSSGMHWVRQAPGKGLE...</td>\n",
       "      <td>QVQLVESGGGVVQPGRSLRLSCAASGFTFNSSGMHVVRQAPGKGLE...</td>\n",
       "      <td>3</td>\n",
       "    </tr>\n",
       "    <tr>\n",
       "      <th>2</th>\n",
       "      <td>QVQLVESGGGVVQPGRSLRLSCAASGFTFDSSGMHWVRQAPGKGLE...</td>\n",
       "      <td>QVQRVESGGGVVQPGRSLRLSCAASGFTFDSSGMHRVRQAPGKGLE...</td>\n",
       "      <td>7</td>\n",
       "    </tr>\n",
       "    <tr>\n",
       "      <th>3</th>\n",
       "      <td>QVQLVESGGGVVQPGRSLRLSCATSGFNFDTSGMHWVRQAPGKGLE...</td>\n",
       "      <td>QVQLVESGGGVVQPGRMLRLSCATSGFNFDTSMMHWVRTAPGKGLE...</td>\n",
       "      <td>9</td>\n",
       "    </tr>\n",
       "    <tr>\n",
       "      <th>4</th>\n",
       "      <td>QVQLVESGGGVVQPGRSLRLSCATSGFNFDTSGMHWVRQAPGKGLE...</td>\n",
       "      <td>QVQLVESGGGVVQPGRSLRLSCATSGFNFDTSGMHWVLQAPGKGLE...</td>\n",
       "      <td>4</td>\n",
       "    </tr>\n",
       "    <tr>\n",
       "      <th>...</th>\n",
       "      <td>...</td>\n",
       "      <td>...</td>\n",
       "      <td>...</td>\n",
       "    </tr>\n",
       "    <tr>\n",
       "      <th>55731</th>\n",
       "      <td>QLQLQESGPGLVKPSETLSLTCTVSGGSISSSSYYWGWIRQPPGKG...</td>\n",
       "      <td>QLQLQESGPGLVKPSETLYLTCTVSGGSISSSSYMWGWIRQPPGKG...</td>\n",
       "      <td>8</td>\n",
       "    </tr>\n",
       "    <tr>\n",
       "      <th>55732</th>\n",
       "      <td>QLQLQESGPGLVKPSETLSLTCTVSGGSISSSSYYWGWIRQPPGKG...</td>\n",
       "      <td>QLQLQESGPGLVKPSETLSLTCTVSGGSISSSSYYWGWIRQPPGKG...</td>\n",
       "      <td>1</td>\n",
       "    </tr>\n",
       "    <tr>\n",
       "      <th>55733</th>\n",
       "      <td>QLQLQESGPGLVKPSETLSLTCTVSGGSISSSSYYWGWIRQPPGKG...</td>\n",
       "      <td>QLQLQESGPGLVKPSETLSLTCTVSGGSISSSSYYWGWIRQPPGKG...</td>\n",
       "      <td>3</td>\n",
       "    </tr>\n",
       "    <tr>\n",
       "      <th>55734</th>\n",
       "      <td>EVQLLESGGGLVQPGGSLRLSCAASGFTFSSFAMSWVRQAPGKGLE...</td>\n",
       "      <td>EVQLLESGGGLVQPGGSLRLSCAASGFTFSSFASSWVRQAPGKGLE...</td>\n",
       "      <td>2</td>\n",
       "    </tr>\n",
       "    <tr>\n",
       "      <th>55735</th>\n",
       "      <td>EVQLLESGGGLVQPGGSLRLSCAASGFTFSSFAMSWVRQAPGKGLE...</td>\n",
       "      <td>EVMLLESGGGLVQPGGSLRLSCAASGFTFSYFAMSWVRYAPGKGLE...</td>\n",
       "      <td>6</td>\n",
       "    </tr>\n",
       "  </tbody>\n",
       "</table>\n",
       "<p>55736 rows × 3 columns</p>\n",
       "</div>"
      ],
      "text/plain": [
       "                                               aa_parent  \\\n",
       "0      QVQLVESGGGVVQPGRSLRLSCAASGFTFSSSGMHWVRQAPGKGLE...   \n",
       "1      QVQLVESGGGVVQPGRSLRLSCAASGFTFNSSGMHWVRQAPGKGLE...   \n",
       "2      QVQLVESGGGVVQPGRSLRLSCAASGFTFDSSGMHWVRQAPGKGLE...   \n",
       "3      QVQLVESGGGVVQPGRSLRLSCATSGFNFDTSGMHWVRQAPGKGLE...   \n",
       "4      QVQLVESGGGVVQPGRSLRLSCATSGFNFDTSGMHWVRQAPGKGLE...   \n",
       "...                                                  ...   \n",
       "55731  QLQLQESGPGLVKPSETLSLTCTVSGGSISSSSYYWGWIRQPPGKG...   \n",
       "55732  QLQLQESGPGLVKPSETLSLTCTVSGGSISSSSYYWGWIRQPPGKG...   \n",
       "55733  QLQLQESGPGLVKPSETLSLTCTVSGGSISSSSYYWGWIRQPPGKG...   \n",
       "55734  EVQLLESGGGLVQPGGSLRLSCAASGFTFSSFAMSWVRQAPGKGLE...   \n",
       "55735  EVQLLESGGGLVQPGGSLRLSCAASGFTFSSFAMSWVRQAPGKGLE...   \n",
       "\n",
       "                                                aa_child  aa_sub_count  \n",
       "0      QVQLVESGGGVVQPGRSLRLSCAARGFTFSSSGMHWVRQAPGKGLE...             2  \n",
       "1      QVQLVESGGGVVQPGRSLRLSCAASGFTFNSSGMHVVRQAPGKGLE...             3  \n",
       "2      QVQRVESGGGVVQPGRSLRLSCAASGFTFDSSGMHRVRQAPGKGLE...             7  \n",
       "3      QVQLVESGGGVVQPGRMLRLSCATSGFNFDTSMMHWVRTAPGKGLE...             9  \n",
       "4      QVQLVESGGGVVQPGRSLRLSCATSGFNFDTSGMHWVLQAPGKGLE...             4  \n",
       "...                                                  ...           ...  \n",
       "55731  QLQLQESGPGLVKPSETLYLTCTVSGGSISSSSYMWGWIRQPPGKG...             8  \n",
       "55732  QLQLQESGPGLVKPSETLSLTCTVSGGSISSSSYYWGWIRQPPGKG...             1  \n",
       "55733  QLQLQESGPGLVKPSETLSLTCTVSGGSISSSSYYWGWIRQPPGKG...             3  \n",
       "55734  EVQLLESGGGLVQPGGSLRLSCAASGFTFSSFASSWVRQAPGKGLE...             2  \n",
       "55735  EVMLLESGGGLVQPGGSLRLSCAASGFTFSYFAMSWVRYAPGKGLE...             6  \n",
       "\n",
       "[55736 rows x 3 columns]"
      ]
     },
     "execution_count": 5,
     "metadata": {},
     "output_type": "execute_result"
    }
   ],
   "source": [
    "fake_df"
   ]
  },
  {
   "cell_type": "code",
   "execution_count": 6,
   "metadata": {},
   "outputs": [
    {
     "data": {
      "text/plain": [
       "y_diff\n",
       " 0    33326\n",
       "-1    11434\n",
       " 1     6150\n",
       "-2     3002\n",
       " 2      790\n",
       "-3      700\n",
       "-4      164\n",
       " 3      121\n",
       "-5       29\n",
       " 4       13\n",
       "-6        7\n",
       "Name: count, dtype: int64"
      ]
     },
     "execution_count": 6,
     "metadata": {},
     "output_type": "execute_result"
    }
   ],
   "source": [
    "def y_count(seq):\n",
    "    return sum([aa == \"Y\" for aa in seq])\n",
    "\n",
    "fake_df[\"y_parent_count\"] = fake_df[\"aa_parent\"].apply(y_count)\n",
    "fake_df[\"y_child_count\"] = fake_df[\"aa_child\"].apply(y_count)\n",
    "fake_df[\"y_diff\"] = fake_df[\"y_child_count\"] - fake_df[\"y_parent_count\"]\n",
    "fake_df[\"y_diff\"].value_counts()"
   ]
  },
  {
   "cell_type": "code",
   "execution_count": 7,
   "metadata": {},
   "outputs": [
    {
     "name": "stdout",
     "output_type": "stream",
     "text": [
      "preparing data...\n",
      "Using Metal Performance Shaders\n"
     ]
    },
    {
     "name": "stderr",
     "output_type": "stream",
     "text": [
      "/Users/matsen/mambaforge/envs/epam/lib/python3.9/site-packages/torch/nn/modules/transformer.py:282: UserWarning: enable_nested_tensor is True, but self.use_nested_tensor is False because encoder_layer.self_attn.num_heads is odd\n",
      "  warnings.warn(f\"enable_nested_tensor is True, but self.use_nested_tensor is False because {why_not_sparsity_fast_path}\")\n"
     ]
    },
    {
     "name": "stdout",
     "output_type": "stream",
     "text": [
      "Epoch [0/2], Training Loss: 1.877058620859937, Validation Loss: 1.8647038502816142\n",
      "training model...\n",
      "Epoch [1/2], Training Loss: 0.16272467374801636, Validation Loss: 0.18125704404788578\n",
      "Epoch [2/2], Training Loss: 0.21040047705173492, Validation Loss: 0.18125464423508902\n"
     ]
    }
   ],
   "source": [
    "!rm _logs/*\n",
    "\n",
    "nhead = 1\n",
    "dim_feedforward = 16\n",
    "layer_count = 1\n",
    "model = train_model(fake_df, nhead=nhead, dim_feedforward=dim_feedforward, layer_count=layer_count, batch_size=32, num_epochs=2, learning_rate=0.001, checkpoint_dir=\"./_checkpoints\", log_dir=\"./_logs\")"
   ]
  }
 ],
 "metadata": {
  "kernelspec": {
   "display_name": "epam",
   "language": "python",
   "name": "python3"
  },
  "language_info": {
   "codemirror_mode": {
    "name": "ipython",
    "version": 3
   },
   "file_extension": ".py",
   "mimetype": "text/x-python",
   "name": "python",
   "nbconvert_exporter": "python",
   "pygments_lexer": "ipython3",
   "version": "3.9.18"
  }
 },
 "nbformat": 4,
 "nbformat_minor": 2
}
