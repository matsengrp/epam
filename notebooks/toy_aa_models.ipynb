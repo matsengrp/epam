{
 "cells": [
  {
   "cell_type": "code",
   "execution_count": 1,
   "metadata": {},
   "outputs": [],
   "source": [
    "import pandas as pd\n",
    "\n",
    "from epam.simulation import mimic_aa_mutations, tyrosine_mutator"
   ]
  },
  {
   "cell_type": "code",
   "execution_count": 3,
   "metadata": {},
   "outputs": [
    {
     "name": "stdout",
     "output_type": "stream",
     "text": [
      "0    YMACYCY\n",
      "1        RFM\n",
      "2      DQTEE\n",
      "3        KAV\n",
      "dtype: object\n"
     ]
    }
   ],
   "source": [
    "\n",
    "# Test\n",
    "aa_parents = pd.Series([\"YYAYYYY\", \"YFY\", \"CYTFD\", \"KAY\"])\n",
    "aa_sub_counts = pd.Series([3, 2, 4, 1])\n",
    "\n",
    "result = mimic_aa_mutations(\n",
    "    tyrosine_mutator,\n",
    "    aa_parents,\n",
    "    aa_sub_counts,\n",
    ")\n",
    "print(result)\n"
   ]
  }
 ],
 "metadata": {
  "kernelspec": {
   "display_name": "epam",
   "language": "python",
   "name": "python3"
  },
  "language_info": {
   "codemirror_mode": {
    "name": "ipython",
    "version": 3
   },
   "file_extension": ".py",
   "mimetype": "text/x-python",
   "name": "python",
   "nbconvert_exporter": "python",
   "pygments_lexer": "ipython3",
   "version": "3.9.18"
  }
 },
 "nbformat": 4,
 "nbformat_minor": 2
}
