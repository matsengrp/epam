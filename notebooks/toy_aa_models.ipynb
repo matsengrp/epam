{
 "cells": [
  {
   "cell_type": "code",
   "execution_count": 1,
   "metadata": {},
   "outputs": [],
   "source": [
    "import pandas as pd\n",
    "\n",
    "from epam.sequences import translate_sequences\n",
    "from epam.simulation import mimic_aa_mutations, tyrosine_mutator"
   ]
  },
  {
   "cell_type": "code",
   "execution_count": 2,
   "metadata": {},
   "outputs": [
    {
     "data": {
      "text/plain": [
       "0    YPAYFYD\n",
       "1        SFE\n",
       "2      CIQND\n",
       "3        KAV\n",
       "dtype: object"
      ]
     },
     "execution_count": 2,
     "metadata": {},
     "output_type": "execute_result"
    }
   ],
   "source": [
    "aa_parents = pd.Series([\"YYAYYYY\", \"YFY\", \"CYTFD\", \"KAY\"])\n",
    "aa_sub_counts = pd.Series([3, 2, 4, 1])\n",
    "\n",
    "mimic_aa_mutations(\n",
    "    tyrosine_mutator,\n",
    "    aa_parents,\n",
    "    aa_sub_counts,\n",
    ")"
   ]
  },
  {
   "cell_type": "code",
   "execution_count": 7,
   "metadata": {},
   "outputs": [],
   "source": [
    "pcp_df = pd.read_csv(\"~/data/wyatt-10x-1p5m_pcp_2023-10-07.csv\", index_col=0)\n",
    "\n",
    "pcp_df[\"aa_parent\"] = translate_sequences(pcp_df[\"parent\"])\n",
    "pcp_df[\"aa_child\"] = translate_sequences(pcp_df[\"child\"])\n",
    "\n",
    "pcp_df = pcp_df[pcp_df[\"aa_parent\"] != pcp_df[\"aa_child\"]]\n",
    "\n",
    "pcp_df[\"aa_sub_count\"] = pcp_df.apply(lambda row: sum([p != c for p, c in zip(row[\"aa_parent\"], row[\"aa_child\"])]), axis=1)"
   ]
  },
  {
   "cell_type": "code",
   "execution_count": 12,
   "metadata": {},
   "outputs": [],
   "source": [
    "fake_df = pd.DataFrame({\"aa_parent\": pcp_df[\"aa_parent\"], \"aa_child\": mimic_aa_mutations(tyrosine_mutator, pcp_df[\"aa_parent\"], pcp_df[\"aa_sub_count\"])})\n",
    "\n",
    "fake_df[\"aa_sub_count\"] = pcp_df.apply(lambda row: sum([p != c for p, c in zip(row[\"aa_parent\"], row[\"aa_child\"])]), axis=1)\n",
    "\n",
    "assert (fake_df[\"aa_sub_count\"] == pcp_df[\"aa_sub_count\"]).all()"
   ]
  }
 ],
 "metadata": {
  "kernelspec": {
   "display_name": "epam",
   "language": "python",
   "name": "python3"
  },
  "language_info": {
   "codemirror_mode": {
    "name": "ipython",
    "version": 3
   },
   "file_extension": ".py",
   "mimetype": "text/x-python",
   "name": "python",
   "nbconvert_exporter": "python",
   "pygments_lexer": "ipython3",
   "version": "3.9.18"
  }
 },
 "nbformat": 4,
 "nbformat_minor": 2
}
